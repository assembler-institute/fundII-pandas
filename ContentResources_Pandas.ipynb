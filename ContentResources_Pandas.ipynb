{
 "cells": [
  {
   "cell_type": "markdown",
   "metadata": {
    "id": "8XtDGwUdLkeZ"
   },
   "source": [
    "# PANDAS\n",
    "\n",
    "## Objective of the season\n",
    "\n",
    "• Understand what a Series object is and what its relationship is within Dataframes .\n",
    "\n",
    "• Know the functionalities and fundamental transformations that we can carry out in dataframes \n",
    "\n",
    "We import the pandas library to be able to work with DataFrames in Python, **in case it is not installed by default** we can do the following:\n",
    "* <code>pip install pandas</code>\n",
    "* <code>conda install pandas</code>\n",
    "* <code>conda install -c anaconda pandas </code>"
   ]
  },
  {
   "cell_type": "code",
   "execution_count": 1,
   "metadata": {
    "id": "XNbtDUWELkee"
   },
   "outputs": [],
   "source": [
    "# Import pandas \n",
    "import pandas as pd"
   ]
  },
  {
   "cell_type": "markdown",
   "metadata": {
    "id": "yV2_f0CXLkei"
   },
   "source": [
    "## What is pandas ?\n",
    "\n",
    "* It is a library dedicated to data processing in the form of matrices or data tables (__PAN__el __DA__ta ).\n",
    "* One of the quintessential libraries for data science.\n",
    "* Data structures with which we work: Series and Dataframes .\n",
    "* A succession of series composes a Dataframe\n",
    "* pip installation may be required install pandas\n",
    "* Commonly used with the alias pd\n",
    "* To import the library, import pandas as pd is used.\n",
    "\n",
    "![Imagen1.png](Images/Imagen1.png)"
   ]
  },
  {
   "cell_type": "markdown",
   "metadata": {
    "id": "bDDmbH-0Lkek"
   },
   "source": [
    "## Series\n",
    "\n",
    "It is an indexed collection that works in a similar way to a data dictionary, it is the minimum unit with which we can work in Pandas, in fact, a Dataframe is nothing more than a succession of series.\n",
    "\n",
    "We must take into account that the series work in a similar way to a data dictionary where we have the files formed by {key_1: 'value one', key_2. 'value two', ....., key_n: 'value m'}. The series can be formed through a numpy array or a list and some values that will act as indexes (if they are not entered, they will be taken by default from 0 to the length of the set of elements).\n",
    "\n",
    "To create a series, we will simply use the function <code>**Series**</code>"
   ]
  },
  {
   "cell_type": "code",
   "execution_count": 2,
   "metadata": {
    "id": "UuY5cYwELkem",
    "outputId": "52d9414f-83b2-4253-ba82-ddbb4919639d"
   },
   "outputs": [
    {
     "data": {
      "text/plain": [
       "{'uno': 1, 'dos': 2}"
      ]
     },
     "execution_count": 2,
     "metadata": {},
     "output_type": "execute_result"
    }
   ],
   "source": [
    "a = {\n",
    "    \"uno\" : 1,\n",
    "    \"dos\" : 2\n",
    "}\n",
    "\n",
    "a"
   ]
  },
  {
   "cell_type": "code",
   "execution_count": 3,
   "metadata": {
    "id": "oCj0JhDQLkeo",
    "outputId": "267d9cbd-5ed9-49b0-f64d-4501d5d923ae"
   },
   "outputs": [
    {
     "data": {
      "text/plain": [
       "Bitcoin     15613.77\n",
       "Ethereum      496.29\n",
       "XRP             0.52\n",
       "Tether          0.83\n",
       "BTC Cash      242.03\n",
       "dtype: float64"
      ]
     },
     "execution_count": 3,
     "metadata": {},
     "output_type": "execute_result"
    }
   ],
   "source": [
    "criptos = pd.Series(\n",
    "    [15613.77, 496.29, 0.52, 0.83, 242.03], \n",
    "    index= ['Bitcoin', 'Ethereum', 'XRP', 'Tether', 'BTC Cash']\n",
    ")\n",
    "\n",
    "criptos"
   ]
  },
  {
   "cell_type": "markdown",
   "metadata": {
    "id": "ZSy72WIALkep"
   },
   "source": [
    "Series object has their own class"
   ]
  },
  {
   "cell_type": "code",
   "execution_count": 4,
   "metadata": {
    "id": "w772601nLkeq",
    "outputId": "90fc9f0b-f277-4da9-f27f-2d93c5f7470d"
   },
   "outputs": [
    {
     "data": {
      "text/plain": [
       "pandas.core.series.Series"
      ]
     },
     "execution_count": 4,
     "metadata": {},
     "output_type": "execute_result"
    }
   ],
   "source": [
    "type(criptos)"
   ]
  },
  {
   "cell_type": "code",
   "execution_count": 5,
   "metadata": {
    "id": "82iettHwLker"
   },
   "outputs": [],
   "source": [
    "lista = [1, 2, 3, 4, 100]\n",
    "\n",
    "import numpy as np\n",
    "\n",
    "arr = np.array(lista)"
   ]
  },
  {
   "cell_type": "code",
   "execution_count": 6,
   "metadata": {
    "id": "jspS4Xu5Lket",
    "outputId": "09720f35-0348-4e68-a154-f6358b20eb49"
   },
   "outputs": [
    {
     "data": {
      "text/plain": [
       "list"
      ]
     },
     "execution_count": 6,
     "metadata": {},
     "output_type": "execute_result"
    }
   ],
   "source": [
    "type(lista)"
   ]
  },
  {
   "cell_type": "code",
   "execution_count": 7,
   "metadata": {
    "id": "c1DyENylLkev",
    "outputId": "cdd79e60-c2e7-43c7-b40f-5d9f85745fa0"
   },
   "outputs": [
    {
     "data": {
      "text/plain": [
       "numpy.ndarray"
      ]
     },
     "execution_count": 7,
     "metadata": {},
     "output_type": "execute_result"
    }
   ],
   "source": [
    "type(arr)"
   ]
  },
  {
   "cell_type": "code",
   "execution_count": 8,
   "metadata": {
    "id": "gcYaUuwPLkex",
    "outputId": "155f497b-d5bb-42fd-8dbb-d3564f8be5ea"
   },
   "outputs": [
    {
     "data": {
      "text/plain": [
       "[1, 2, 3, 4, 100, 1, 2, 3, 4, 100]"
      ]
     },
     "execution_count": 8,
     "metadata": {},
     "output_type": "execute_result"
    }
   ],
   "source": [
    "lista * 2"
   ]
  },
  {
   "cell_type": "code",
   "execution_count": 9,
   "metadata": {
    "id": "K49hAmk_Lkex",
    "outputId": "43a34730-5a37-4c63-845d-5cac8d89ddfc"
   },
   "outputs": [
    {
     "data": {
      "text/plain": [
       "array([  2,   4,   6,   8, 200])"
      ]
     },
     "execution_count": 9,
     "metadata": {},
     "output_type": "execute_result"
    }
   ],
   "source": [
    "arr * 2"
   ]
  },
  {
   "cell_type": "code",
   "execution_count": 10,
   "metadata": {
    "id": "ziQXsj9yLkey",
    "outputId": "0018125f-8083-43cc-e9f5-c40392fb7b64"
   },
   "outputs": [
    {
     "data": {
      "text/plain": [
       "True"
      ]
     },
     "execution_count": 10,
     "metadata": {},
     "output_type": "execute_result"
    }
   ],
   "source": [
    "isinstance(arr, np.ndarray)"
   ]
  },
  {
   "cell_type": "code",
   "execution_count": 11,
   "metadata": {
    "id": "qwZWylqsLkez",
    "outputId": "c776d4c8-cd84-482d-8da0-ab7cb27dd2d2"
   },
   "outputs": [
    {
     "data": {
      "text/plain": [
       "False"
      ]
     },
     "execution_count": 11,
     "metadata": {},
     "output_type": "execute_result"
    }
   ],
   "source": [
    "isinstance(arr, list)"
   ]
  },
  {
   "cell_type": "code",
   "execution_count": 12,
   "metadata": {
    "id": "f9OF8lFXLke6",
    "outputId": "05fc2cc0-9caa-435f-a9df-1be415ba1e49"
   },
   "outputs": [
    {
     "data": {
      "text/plain": [
       "list"
      ]
     },
     "execution_count": 12,
     "metadata": {},
     "output_type": "execute_result"
    }
   ],
   "source": [
    "type(lista)"
   ]
  },
  {
   "cell_type": "code",
   "execution_count": 13,
   "metadata": {
    "id": "1hT_tVs0Lke7",
    "outputId": "b309e140-7b93-43ae-aba9-6ded7962baef"
   },
   "outputs": [
    {
     "data": {
      "text/plain": [
       "int"
      ]
     },
     "execution_count": 13,
     "metadata": {},
     "output_type": "execute_result"
    }
   ],
   "source": [
    "type(5)"
   ]
  },
  {
   "cell_type": "code",
   "execution_count": 14,
   "metadata": {
    "id": "inuyhoTILke-",
    "outputId": "658dc770-8204-45cb-848c-15fbf18dc36b"
   },
   "outputs": [
    {
     "data": {
      "text/plain": [
       "str"
      ]
     },
     "execution_count": 14,
     "metadata": {},
     "output_type": "execute_result"
    }
   ],
   "source": [
    "type('5')"
   ]
  },
  {
   "cell_type": "code",
   "execution_count": 15,
   "metadata": {
    "id": "SG212KxzLke-",
    "outputId": "e8b5b0ab-8169-4235-bbe0-663a2df200b0"
   },
   "outputs": [
    {
     "data": {
      "text/plain": [
       "5"
      ]
     },
     "execution_count": 15,
     "metadata": {},
     "output_type": "execute_result"
    }
   ],
   "source": [
    "int('5')"
   ]
  },
  {
   "cell_type": "code",
   "execution_count": 16,
   "metadata": {
    "id": "fYqutOLsLke_"
   },
   "outputs": [],
   "source": [
    "# if isinstance(arr, list) is False:\n",
    "#     # Multiplica *2\n",
    "# else:\n",
    "#     lista = lista.asarry()\n",
    "#     for item in lista:\n",
    "#         # item * 2"
   ]
  },
  {
   "cell_type": "markdown",
   "metadata": {
    "id": "JXDAY_4ULke_"
   },
   "source": [
    "### Question.\n",
    "\n",
    "An objetct of class pandas.Series looks similar to a dictionary, it has same functions like keys or values ?"
   ]
  },
  {
   "cell_type": "code",
   "execution_count": 17,
   "metadata": {
    "id": "dmuLQyvRLkfA",
    "outputId": "09f604ee-e9b4-4c9c-bc87-867ad4b1ea41"
   },
   "outputs": [
    {
     "data": {
      "text/plain": [
       "Bitcoin     15613.77\n",
       "Ethereum      496.29\n",
       "XRP             0.52\n",
       "Tether          0.83\n",
       "BTC Cash      242.03\n",
       "dtype: float64"
      ]
     },
     "execution_count": 17,
     "metadata": {},
     "output_type": "execute_result"
    }
   ],
   "source": [
    "criptos"
   ]
  },
  {
   "cell_type": "code",
   "execution_count": 18,
   "metadata": {
    "id": "0cGipLfVLkfA",
    "outputId": "0b86e4c3-bd23-441b-a909-b6e0d544f493"
   },
   "outputs": [
    {
     "data": {
      "text/plain": [
       "{'uno': 1, 'dos': 2}"
      ]
     },
     "execution_count": 18,
     "metadata": {},
     "output_type": "execute_result"
    }
   ],
   "source": [
    "a"
   ]
  },
  {
   "cell_type": "code",
   "execution_count": 19,
   "metadata": {
    "id": "iQ1Ca5sRLkfB",
    "outputId": "16d39377-9b0d-44e9-9867-a8e76f4509f0"
   },
   "outputs": [
    {
     "data": {
      "text/plain": [
       "dict_keys(['uno', 'dos'])"
      ]
     },
     "execution_count": 19,
     "metadata": {},
     "output_type": "execute_result"
    }
   ],
   "source": [
    "a.keys()"
   ]
  },
  {
   "cell_type": "code",
   "execution_count": 20,
   "metadata": {
    "id": "fyv1mGCkLkfE",
    "outputId": "9a41f8e2-11e6-4d86-c395-0990dee54b20"
   },
   "outputs": [
    {
     "data": {
      "text/plain": [
       "dict_values([1, 2])"
      ]
     },
     "execution_count": 20,
     "metadata": {},
     "output_type": "execute_result"
    }
   ],
   "source": [
    "a.values()"
   ]
  },
  {
   "cell_type": "code",
   "execution_count": 21,
   "metadata": {
    "id": "TJr2WImTLkfE",
    "outputId": "ec621bff-6d79-4485-dc35-482c527ff669"
   },
   "outputs": [
    {
     "data": {
      "text/plain": [
       "dict_items([('uno', 1), ('dos', 2)])"
      ]
     },
     "execution_count": 21,
     "metadata": {},
     "output_type": "execute_result"
    }
   ],
   "source": [
    "a.items()"
   ]
  },
  {
   "cell_type": "code",
   "execution_count": null,
   "metadata": {
    "id": "XmoaNVvpLkfE"
   },
   "outputs": [],
   "source": []
  },
  {
   "cell_type": "code",
   "execution_count": 22,
   "metadata": {
    "id": "_vJ5AoKtLkfG",
    "outputId": "896a3766-0dcf-4da1-a70a-f982d5d47efa"
   },
   "outputs": [
    {
     "data": {
      "text/plain": [
       "Index(['Bitcoin', 'Ethereum', 'XRP', 'Tether', 'BTC Cash'], dtype='object')"
      ]
     },
     "execution_count": 22,
     "metadata": {},
     "output_type": "execute_result"
    }
   ],
   "source": [
    "criptos.keys()"
   ]
  },
  {
   "cell_type": "code",
   "execution_count": 23,
   "metadata": {
    "id": "djOgSLlyLkfG",
    "outputId": "c0ac8e5c-7ee7-46b4-844b-44c50f3ff204"
   },
   "outputs": [
    {
     "data": {
      "text/plain": [
       "array([1.561377e+04, 4.962900e+02, 5.200000e-01, 8.300000e-01,\n",
       "       2.420300e+02])"
      ]
     },
     "execution_count": 23,
     "metadata": {},
     "output_type": "execute_result"
    }
   ],
   "source": [
    "criptos.values"
   ]
  },
  {
   "cell_type": "code",
   "execution_count": 24,
   "metadata": {
    "id": "wu2Mx0fRLkfG",
    "outputId": "6016c82b-7a26-4a8e-a215-307ef414d220"
   },
   "outputs": [
    {
     "data": {
      "text/plain": [
       "<zip at 0x2b05b97f9c0>"
      ]
     },
     "execution_count": 24,
     "metadata": {},
     "output_type": "execute_result"
    }
   ],
   "source": [
    "criptos.items()"
   ]
  },
  {
   "cell_type": "code",
   "execution_count": 25,
   "metadata": {
    "id": "gdPPoceaLkfH",
    "outputId": "a64d2685-3521-4847-a175-30b10f5da4f3"
   },
   "outputs": [
    {
     "name": "stdout",
     "output_type": "stream",
     "text": [
      "Bitcoin 15613.77\n",
      "Ethereum 496.29\n",
      "XRP 0.52\n",
      "Tether 0.83\n",
      "BTC Cash 242.03\n"
     ]
    }
   ],
   "source": [
    "for row, value in criptos.items():\n",
    "    print(row, value)"
   ]
  },
  {
   "cell_type": "code",
   "execution_count": null,
   "metadata": {
    "id": "jRtfkj41LkfH"
   },
   "outputs": [],
   "source": []
  },
  {
   "cell_type": "code",
   "execution_count": 26,
   "metadata": {
    "id": "PI8Gf3XtLkfI"
   },
   "outputs": [],
   "source": [
    "criptos.values.sort()"
   ]
  },
  {
   "cell_type": "code",
   "execution_count": 27,
   "metadata": {
    "id": "4AQQ_dvqLkfI",
    "outputId": "1baa9233-1024-40a8-85e4-0ad4d173d85b"
   },
   "outputs": [
    {
     "data": {
      "text/plain": [
       "Bitcoin         0.52\n",
       "Ethereum        0.83\n",
       "XRP           242.03\n",
       "Tether        496.29\n",
       "BTC Cash    15613.77\n",
       "dtype: float64"
      ]
     },
     "execution_count": 27,
     "metadata": {},
     "output_type": "execute_result"
    }
   ],
   "source": [
    "criptos"
   ]
  },
  {
   "cell_type": "code",
   "execution_count": 28,
   "metadata": {
    "id": "fHS0LIukLkfJ"
   },
   "outputs": [],
   "source": [
    "aux = np.array([100, 200, 300])"
   ]
  },
  {
   "cell_type": "code",
   "execution_count": 29,
   "metadata": {
    "id": "wlxTIXqcLkfK",
    "outputId": "51535084-b313-4c9e-d064-c643d47d33b7"
   },
   "outputs": [
    {
     "data": {
      "text/plain": [
       "array([100, 200, 300])"
      ]
     },
     "execution_count": 29,
     "metadata": {},
     "output_type": "execute_result"
    }
   ],
   "source": [
    "mi_copia = aux\n",
    "mi_copia"
   ]
  },
  {
   "cell_type": "code",
   "execution_count": 30,
   "metadata": {
    "id": "lX5G767ILkfK"
   },
   "outputs": [],
   "source": [
    "mi_copia[0] = 5000"
   ]
  },
  {
   "cell_type": "code",
   "execution_count": 31,
   "metadata": {
    "id": "-M6ZBWeHLkfL",
    "outputId": "74c6b500-b41d-4f0c-d665-500d525ec6ac"
   },
   "outputs": [
    {
     "data": {
      "text/plain": [
       "array([5000,  200,  300])"
      ]
     },
     "execution_count": 31,
     "metadata": {},
     "output_type": "execute_result"
    }
   ],
   "source": [
    "mi_copia"
   ]
  },
  {
   "cell_type": "code",
   "execution_count": 32,
   "metadata": {
    "id": "jmiNSZluLkfM",
    "outputId": "abaca560-09fa-44e6-bd6e-7bdeaa15a901"
   },
   "outputs": [
    {
     "data": {
      "text/plain": [
       "array([5000,  200,  300])"
      ]
     },
     "execution_count": 32,
     "metadata": {},
     "output_type": "execute_result"
    }
   ],
   "source": [
    "aux"
   ]
  },
  {
   "cell_type": "markdown",
   "metadata": {
    "id": "5QDYRKExLkfM"
   },
   "source": [
    "Realizar bien las copias con la función `copy`. Lo que hacemos es almacenar el objeto en posiciones distintas de memoria, pasa lo  mismo con los __dataframes__. La alteración o modificación de valores es bidireccional, tanto de a -> b, como de a <- b"
   ]
  },
  {
   "cell_type": "code",
   "execution_count": 33,
   "metadata": {
    "id": "u3JhMkeWLkfN",
    "outputId": "c4e597ac-2cc8-4170-e14b-ecc22cd43dff"
   },
   "outputs": [
    {
     "data": {
      "text/plain": [
       "array([5000,  200,  300])"
      ]
     },
     "execution_count": 33,
     "metadata": {},
     "output_type": "execute_result"
    }
   ],
   "source": [
    "aux"
   ]
  },
  {
   "cell_type": "code",
   "execution_count": 34,
   "metadata": {
    "id": "Z48Vmz8sLkfN"
   },
   "outputs": [],
   "source": [
    "mi_copia = aux.copy()"
   ]
  },
  {
   "cell_type": "code",
   "execution_count": 35,
   "metadata": {
    "id": "5KUzTfr0LkfO",
    "outputId": "42624a2b-e9e7-46ef-8c38-5bbc1a3f8249"
   },
   "outputs": [
    {
     "data": {
      "text/plain": [
       "array([5000,  200,  300])"
      ]
     },
     "execution_count": 35,
     "metadata": {},
     "output_type": "execute_result"
    }
   ],
   "source": [
    "mi_copia"
   ]
  },
  {
   "cell_type": "code",
   "execution_count": 36,
   "metadata": {
    "id": "pnz9QyTnLkfO"
   },
   "outputs": [],
   "source": [
    "mi_copia[2] = 90000"
   ]
  },
  {
   "cell_type": "code",
   "execution_count": 37,
   "metadata": {
    "id": "BAKaPSPMLkfP",
    "outputId": "cc22991e-f675-47ab-bfde-3096c180312d"
   },
   "outputs": [
    {
     "data": {
      "text/plain": [
       "array([ 5000,   200, 90000])"
      ]
     },
     "execution_count": 37,
     "metadata": {},
     "output_type": "execute_result"
    }
   ],
   "source": [
    "mi_copia"
   ]
  },
  {
   "cell_type": "code",
   "execution_count": 38,
   "metadata": {
    "id": "ERqx9GWcLkfP",
    "outputId": "be937bec-ff0c-4a6d-e496-2abb267c51dc"
   },
   "outputs": [
    {
     "data": {
      "text/plain": [
       "array([5000,  200,  300])"
      ]
     },
     "execution_count": 38,
     "metadata": {},
     "output_type": "execute_result"
    }
   ],
   "source": [
    "aux"
   ]
  },
  {
   "cell_type": "code",
   "execution_count": null,
   "metadata": {
    "id": "dNRnaaiSLkfQ"
   },
   "outputs": [],
   "source": []
  },
  {
   "cell_type": "code",
   "execution_count": 39,
   "metadata": {
    "id": "4IQ3FjtrLkfQ"
   },
   "outputs": [],
   "source": [
    "b = np.array([1, 2])\n",
    "c = b"
   ]
  },
  {
   "cell_type": "code",
   "execution_count": 40,
   "metadata": {
    "id": "SQnZ5krfLkfR",
    "outputId": "794f9f7f-25bb-45da-a2a5-9cc3997af6aa"
   },
   "outputs": [
    {
     "data": {
      "text/plain": [
       "array([100,   2])"
      ]
     },
     "execution_count": 40,
     "metadata": {},
     "output_type": "execute_result"
    }
   ],
   "source": [
    "b[0] = 100\n",
    "b"
   ]
  },
  {
   "cell_type": "code",
   "execution_count": 41,
   "metadata": {
    "id": "qU8n9XdfLkfS",
    "outputId": "207d0bb8-be49-4bd6-8ac5-bc28ebcdb113"
   },
   "outputs": [
    {
     "data": {
      "text/plain": [
       "array([100,   2])"
      ]
     },
     "execution_count": 41,
     "metadata": {},
     "output_type": "execute_result"
    }
   ],
   "source": [
    "c"
   ]
  },
  {
   "cell_type": "markdown",
   "metadata": {
    "id": "NA7lmh6RLkfS"
   },
   "source": [
    "## Dataframes\n",
    "\n",
    "![Imagen2.jpg](Images/Imagen2.jpg)\n",
    "\n",
    "We can use as Dataframe almost all types of data structures like array, list, dictionary... the function to create a Pandas Dataframe is\n",
    "* <code>__pandas.DataFrame()__</code>\n",
    "\n",
    "* Through **Series**"
   ]
  },
  {
   "cell_type": "code",
   "execution_count": 42,
   "metadata": {
    "id": "oaP-L9LRLkfT",
    "outputId": "9311e379-edee-421d-db16-371d9054a38c"
   },
   "outputs": [
    {
     "data": {
      "text/plain": [
       "Bitcoin         0.52\n",
       "Ethereum        0.83\n",
       "XRP           242.03\n",
       "Tether        496.29\n",
       "BTC Cash    15613.77\n",
       "dtype: float64"
      ]
     },
     "execution_count": 42,
     "metadata": {},
     "output_type": "execute_result"
    }
   ],
   "source": [
    "criptos"
   ]
  },
  {
   "cell_type": "code",
   "execution_count": 43,
   "metadata": {
    "id": "BZ7ArKv8LkfV",
    "outputId": "063cff51-b5db-460d-f83f-ba0a87ad255f"
   },
   "outputs": [
    {
     "data": {
      "text/html": [
       "<div>\n",
       "<style scoped>\n",
       "    .dataframe tbody tr th:only-of-type {\n",
       "        vertical-align: middle;\n",
       "    }\n",
       "\n",
       "    .dataframe tbody tr th {\n",
       "        vertical-align: top;\n",
       "    }\n",
       "\n",
       "    .dataframe thead th {\n",
       "        text-align: right;\n",
       "    }\n",
       "</style>\n",
       "<table border=\"1\" class=\"dataframe\">\n",
       "  <thead>\n",
       "    <tr style=\"text-align: right;\">\n",
       "      <th></th>\n",
       "      <th>0</th>\n",
       "    </tr>\n",
       "  </thead>\n",
       "  <tbody>\n",
       "    <tr>\n",
       "      <th>Bitcoin</th>\n",
       "      <td>0.52</td>\n",
       "    </tr>\n",
       "    <tr>\n",
       "      <th>Ethereum</th>\n",
       "      <td>0.83</td>\n",
       "    </tr>\n",
       "    <tr>\n",
       "      <th>XRP</th>\n",
       "      <td>242.03</td>\n",
       "    </tr>\n",
       "    <tr>\n",
       "      <th>Tether</th>\n",
       "      <td>496.29</td>\n",
       "    </tr>\n",
       "    <tr>\n",
       "      <th>BTC Cash</th>\n",
       "      <td>15613.77</td>\n",
       "    </tr>\n",
       "  </tbody>\n",
       "</table>\n",
       "</div>"
      ],
      "text/plain": [
       "                 0\n",
       "Bitcoin       0.52\n",
       "Ethereum      0.83\n",
       "XRP         242.03\n",
       "Tether      496.29\n",
       "BTC Cash  15613.77"
      ]
     },
     "execution_count": 43,
     "metadata": {},
     "output_type": "execute_result"
    }
   ],
   "source": [
    "# Create an object Series\n",
    "df_criptos = pd.DataFrame(criptos)\n",
    "\n",
    "# By default names of columns are created from 0\n",
    "df_criptos"
   ]
  },
  {
   "cell_type": "markdown",
   "metadata": {
    "id": "bClUGTR7LkfW"
   },
   "source": [
    "* Through **Numpy Array**"
   ]
  },
  {
   "cell_type": "code",
   "execution_count": 44,
   "metadata": {
    "id": "hJsdfXt2LkfW",
    "outputId": "feee4f29-f7d3-4435-dc54-49898c896310"
   },
   "outputs": [
    {
     "data": {
      "text/html": [
       "<div>\n",
       "<style scoped>\n",
       "    .dataframe tbody tr th:only-of-type {\n",
       "        vertical-align: middle;\n",
       "    }\n",
       "\n",
       "    .dataframe tbody tr th {\n",
       "        vertical-align: top;\n",
       "    }\n",
       "\n",
       "    .dataframe thead th {\n",
       "        text-align: right;\n",
       "    }\n",
       "</style>\n",
       "<table border=\"1\" class=\"dataframe\">\n",
       "  <thead>\n",
       "    <tr style=\"text-align: right;\">\n",
       "      <th></th>\n",
       "      <th>0</th>\n",
       "    </tr>\n",
       "  </thead>\n",
       "  <tbody>\n",
       "    <tr>\n",
       "      <th>0</th>\n",
       "      <td>5000</td>\n",
       "    </tr>\n",
       "    <tr>\n",
       "      <th>1</th>\n",
       "      <td>200</td>\n",
       "    </tr>\n",
       "    <tr>\n",
       "      <th>2</th>\n",
       "      <td>90000</td>\n",
       "    </tr>\n",
       "  </tbody>\n",
       "</table>\n",
       "</div>"
      ],
      "text/plain": [
       "       0\n",
       "0   5000\n",
       "1    200\n",
       "2  90000"
      ]
     },
     "execution_count": 44,
     "metadata": {},
     "output_type": "execute_result"
    }
   ],
   "source": [
    "df_arr = pd.DataFrame(mi_copia)\n",
    "df_arr"
   ]
  },
  {
   "cell_type": "markdown",
   "metadata": {
    "id": "Jv1fZU4SLkfW"
   },
   "source": [
    "It is important to highlight in the previous example, that by not using any parameter as an index, it has automatically taken values from 0 to n"
   ]
  },
  {
   "cell_type": "markdown",
   "metadata": {
    "id": "Ua25lvzlLkfX"
   },
   "source": [
    "* Through **List**"
   ]
  },
  {
   "cell_type": "code",
   "execution_count": 45,
   "metadata": {
    "id": "HjsVQVkxLkfX",
    "outputId": "dbf03d19-a1cf-4f04-c72f-3c08373f90f9"
   },
   "outputs": [
    {
     "data": {
      "text/plain": [
       "[1, 2, 3, 4, 100]"
      ]
     },
     "execution_count": 45,
     "metadata": {},
     "output_type": "execute_result"
    }
   ],
   "source": [
    "lista"
   ]
  },
  {
   "cell_type": "code",
   "execution_count": 46,
   "metadata": {
    "id": "lVd7sutZLkfY",
    "outputId": "2856e8ce-5442-4f31-ec0d-dbdf44a88f8e"
   },
   "outputs": [
    {
     "data": {
      "text/html": [
       "<div>\n",
       "<style scoped>\n",
       "    .dataframe tbody tr th:only-of-type {\n",
       "        vertical-align: middle;\n",
       "    }\n",
       "\n",
       "    .dataframe tbody tr th {\n",
       "        vertical-align: top;\n",
       "    }\n",
       "\n",
       "    .dataframe thead th {\n",
       "        text-align: right;\n",
       "    }\n",
       "</style>\n",
       "<table border=\"1\" class=\"dataframe\">\n",
       "  <thead>\n",
       "    <tr style=\"text-align: right;\">\n",
       "      <th></th>\n",
       "      <th>0</th>\n",
       "    </tr>\n",
       "  </thead>\n",
       "  <tbody>\n",
       "    <tr>\n",
       "      <th>0</th>\n",
       "      <td>1</td>\n",
       "    </tr>\n",
       "    <tr>\n",
       "      <th>1</th>\n",
       "      <td>2</td>\n",
       "    </tr>\n",
       "    <tr>\n",
       "      <th>2</th>\n",
       "      <td>3</td>\n",
       "    </tr>\n",
       "    <tr>\n",
       "      <th>3</th>\n",
       "      <td>4</td>\n",
       "    </tr>\n",
       "    <tr>\n",
       "      <th>4</th>\n",
       "      <td>100</td>\n",
       "    </tr>\n",
       "  </tbody>\n",
       "</table>\n",
       "</div>"
      ],
      "text/plain": [
       "     0\n",
       "0    1\n",
       "1    2\n",
       "2    3\n",
       "3    4\n",
       "4  100"
      ]
     },
     "execution_count": 46,
     "metadata": {},
     "output_type": "execute_result"
    }
   ],
   "source": [
    "pd.DataFrame(lista)"
   ]
  },
  {
   "cell_type": "markdown",
   "metadata": {
    "id": "d8ugZJUfLkfY"
   },
   "source": [
    "* Through **diccionario de datos**"
   ]
  },
  {
   "cell_type": "code",
   "execution_count": 47,
   "metadata": {
    "id": "q_HLSNOBLkfa"
   },
   "outputs": [],
   "source": [
    "mi_dict = {\n",
    "    \"coche\" : \"car\",\n",
    "    \"arbol\" : \"tree\",\n",
    "    \"raton\" : \"mouse\",\n",
    "    \"botella\" : \"bottle\",\n",
    "    \"numero\" : \"number\"\n",
    "}"
   ]
  },
  {
   "cell_type": "code",
   "execution_count": 48,
   "metadata": {
    "id": "lhd1AmbjLkfa",
    "outputId": "f873a0c1-9df1-473d-8bc5-b726bb4c75a5"
   },
   "outputs": [
    {
     "data": {
      "text/html": [
       "<div>\n",
       "<style scoped>\n",
       "    .dataframe tbody tr th:only-of-type {\n",
       "        vertical-align: middle;\n",
       "    }\n",
       "\n",
       "    .dataframe tbody tr th {\n",
       "        vertical-align: top;\n",
       "    }\n",
       "\n",
       "    .dataframe thead th {\n",
       "        text-align: right;\n",
       "    }\n",
       "</style>\n",
       "<table border=\"1\" class=\"dataframe\">\n",
       "  <thead>\n",
       "    <tr style=\"text-align: right;\">\n",
       "      <th></th>\n",
       "      <th>0</th>\n",
       "    </tr>\n",
       "  </thead>\n",
       "  <tbody>\n",
       "    <tr>\n",
       "      <th>coche</th>\n",
       "      <td>car</td>\n",
       "    </tr>\n",
       "    <tr>\n",
       "      <th>arbol</th>\n",
       "      <td>tree</td>\n",
       "    </tr>\n",
       "    <tr>\n",
       "      <th>raton</th>\n",
       "      <td>mouse</td>\n",
       "    </tr>\n",
       "    <tr>\n",
       "      <th>botella</th>\n",
       "      <td>bottle</td>\n",
       "    </tr>\n",
       "    <tr>\n",
       "      <th>numero</th>\n",
       "      <td>number</td>\n",
       "    </tr>\n",
       "  </tbody>\n",
       "</table>\n",
       "</div>"
      ],
      "text/plain": [
       "              0\n",
       "coche       car\n",
       "arbol      tree\n",
       "raton     mouse\n",
       "botella  bottle\n",
       "numero   number"
      ]
     },
     "execution_count": 48,
     "metadata": {},
     "output_type": "execute_result"
    }
   ],
   "source": [
    "pd.DataFrame.from_dict(mi_dict, orient=\"index\")"
   ]
  },
  {
   "cell_type": "code",
   "execution_count": 49,
   "metadata": {
    "id": "HjAzvg9ILkfa"
   },
   "outputs": [],
   "source": [
    "mi_dict = {\n",
    "    \"coche\" : [10, 20, 30, 40],\n",
    "    \"arbol\" : [\"hola\", \"adios\"],\n",
    "    \"raton\" : \"mouse\",\n",
    "    \"botella\" : np.arange(10),\n",
    "    \"numero\" : \"number\"\n",
    "}"
   ]
  },
  {
   "cell_type": "code",
   "execution_count": 50,
   "metadata": {
    "id": "1cCrrMFaLkfb",
    "outputId": "0a66b74c-f955-4a85-cbd9-1822608531b9"
   },
   "outputs": [
    {
     "data": {
      "text/plain": [
       "{'coche': [10, 20, 30, 40],\n",
       " 'arbol': ['hola', 'adios'],\n",
       " 'raton': 'mouse',\n",
       " 'botella': array([0, 1, 2, 3, 4, 5, 6, 7, 8, 9]),\n",
       " 'numero': 'number'}"
      ]
     },
     "execution_count": 50,
     "metadata": {},
     "output_type": "execute_result"
    }
   ],
   "source": [
    "mi_dict"
   ]
  },
  {
   "cell_type": "code",
   "execution_count": 51,
   "metadata": {
    "id": "MtW0IG5HLkfc",
    "outputId": "a492b593-f264-46f1-92f1-7521f31b604b"
   },
   "outputs": [
    {
     "data": {
      "text/html": [
       "<div>\n",
       "<style scoped>\n",
       "    .dataframe tbody tr th:only-of-type {\n",
       "        vertical-align: middle;\n",
       "    }\n",
       "\n",
       "    .dataframe tbody tr th {\n",
       "        vertical-align: top;\n",
       "    }\n",
       "\n",
       "    .dataframe thead th {\n",
       "        text-align: right;\n",
       "    }\n",
       "</style>\n",
       "<table border=\"1\" class=\"dataframe\">\n",
       "  <thead>\n",
       "    <tr style=\"text-align: right;\">\n",
       "      <th></th>\n",
       "      <th>0</th>\n",
       "      <th>1</th>\n",
       "      <th>2</th>\n",
       "      <th>3</th>\n",
       "      <th>4</th>\n",
       "      <th>5</th>\n",
       "      <th>6</th>\n",
       "      <th>7</th>\n",
       "      <th>8</th>\n",
       "      <th>9</th>\n",
       "    </tr>\n",
       "  </thead>\n",
       "  <tbody>\n",
       "    <tr>\n",
       "      <th>coche</th>\n",
       "      <td>10</td>\n",
       "      <td>20</td>\n",
       "      <td>30</td>\n",
       "      <td>40</td>\n",
       "      <td>None</td>\n",
       "      <td>None</td>\n",
       "      <td>NaN</td>\n",
       "      <td>NaN</td>\n",
       "      <td>NaN</td>\n",
       "      <td>NaN</td>\n",
       "    </tr>\n",
       "    <tr>\n",
       "      <th>arbol</th>\n",
       "      <td>hola</td>\n",
       "      <td>adios</td>\n",
       "      <td>None</td>\n",
       "      <td>None</td>\n",
       "      <td>None</td>\n",
       "      <td>None</td>\n",
       "      <td>NaN</td>\n",
       "      <td>NaN</td>\n",
       "      <td>NaN</td>\n",
       "      <td>NaN</td>\n",
       "    </tr>\n",
       "    <tr>\n",
       "      <th>raton</th>\n",
       "      <td>m</td>\n",
       "      <td>o</td>\n",
       "      <td>u</td>\n",
       "      <td>s</td>\n",
       "      <td>e</td>\n",
       "      <td>None</td>\n",
       "      <td>NaN</td>\n",
       "      <td>NaN</td>\n",
       "      <td>NaN</td>\n",
       "      <td>NaN</td>\n",
       "    </tr>\n",
       "    <tr>\n",
       "      <th>botella</th>\n",
       "      <td>0</td>\n",
       "      <td>1</td>\n",
       "      <td>2</td>\n",
       "      <td>3</td>\n",
       "      <td>4</td>\n",
       "      <td>5</td>\n",
       "      <td>6.0</td>\n",
       "      <td>7.0</td>\n",
       "      <td>8.0</td>\n",
       "      <td>9.0</td>\n",
       "    </tr>\n",
       "    <tr>\n",
       "      <th>numero</th>\n",
       "      <td>n</td>\n",
       "      <td>u</td>\n",
       "      <td>m</td>\n",
       "      <td>b</td>\n",
       "      <td>e</td>\n",
       "      <td>r</td>\n",
       "      <td>NaN</td>\n",
       "      <td>NaN</td>\n",
       "      <td>NaN</td>\n",
       "      <td>NaN</td>\n",
       "    </tr>\n",
       "  </tbody>\n",
       "</table>\n",
       "</div>"
      ],
      "text/plain": [
       "            0      1     2     3     4     5    6    7    8    9\n",
       "coche      10     20    30    40  None  None  NaN  NaN  NaN  NaN\n",
       "arbol    hola  adios  None  None  None  None  NaN  NaN  NaN  NaN\n",
       "raton       m      o     u     s     e  None  NaN  NaN  NaN  NaN\n",
       "botella     0      1     2     3     4     5  6.0  7.0  8.0  9.0\n",
       "numero      n      u     m     b     e     r  NaN  NaN  NaN  NaN"
      ]
     },
     "execution_count": 51,
     "metadata": {},
     "output_type": "execute_result"
    }
   ],
   "source": [
    "pd.DataFrame.from_dict(mi_dict, orient=\"index\")"
   ]
  },
  {
   "cell_type": "code",
   "execution_count": null,
   "metadata": {
    "id": "0oNjbWZ2Lkfc"
   },
   "outputs": [],
   "source": []
  },
  {
   "cell_type": "code",
   "execution_count": 52,
   "metadata": {
    "id": "bXqhPxiILkfd"
   },
   "outputs": [],
   "source": [
    "mi_dict = {\n",
    "    \"coche\" : \"car\",\n",
    "    \"arbol\" : \"tree\",\n",
    "    \"raton\" : \"mouse\",\n",
    "    \"botella\" : \"bottle\",\n",
    "    \"numero\" : \"number\"\n",
    "}"
   ]
  },
  {
   "cell_type": "code",
   "execution_count": 53,
   "metadata": {
    "id": "OXZ2ADOqLkfd"
   },
   "outputs": [],
   "source": [
    "# pd.DataFrame.from_dict(mi_dict, orient=\"columns\")"
   ]
  },
  {
   "cell_type": "markdown",
   "metadata": {
    "id": "28AA6_A1Lkfd"
   },
   "source": [
    "Note that when dealing with a data dictionary, we have to use the **orient** parameter to correctly recognize the key field as an index. Otherwise, we can use the parameter **index**"
   ]
  },
  {
   "cell_type": "markdown",
   "metadata": {
    "id": "Re-8ZxH7Lkfe"
   },
   "source": [
    "### Loading CVS file as Dataframes\n",
    "\n",
    "One of the great advantages of working with DataFrames is that we can load files very easily and be able to process their rows and columns. There are several types of data that we can load to pandas:\n",
    "\n",
    "* CSV\n",
    "* JSON\n",
    "* HTML\n",
    "* EXCEL\n",
    "* HDF5\n",
    "* TXT\n",
    "* ORC\n",
    "* STATA\n",
    "* ...\n",
    "\n",
    "All the types of data that we can load are found in the following link: https://pandas.pydata.org/docs/user_guide/io.html#io\n",
    "\n",
    "Throughout the content we will show the main functionalities of dataframes from csv as dataframe.\n",
    "\n",
    "To load a csv as a Dataframe we have the function </code>**read_csv**</code>\n",
    "\n",
    "https://www.kaggle.com/datasets/camnugent/california-housing-prices"
   ]
  },
  {
   "cell_type": "code",
   "execution_count": 54,
   "metadata": {
    "id": "8CSJ6GvPLkfe"
   },
   "outputs": [],
   "source": [
    "df = pd.read_csv(\"CR_Files/housing_California.csv\")"
   ]
  },
  {
   "cell_type": "code",
   "execution_count": 55,
   "metadata": {
    "id": "oxEyQUO3Lkff",
    "outputId": "2b848488-a6c8-48ed-a692-15ba45b69868"
   },
   "outputs": [
    {
     "data": {
      "text/html": [
       "<div>\n",
       "<style scoped>\n",
       "    .dataframe tbody tr th:only-of-type {\n",
       "        vertical-align: middle;\n",
       "    }\n",
       "\n",
       "    .dataframe tbody tr th {\n",
       "        vertical-align: top;\n",
       "    }\n",
       "\n",
       "    .dataframe thead th {\n",
       "        text-align: right;\n",
       "    }\n",
       "</style>\n",
       "<table border=\"1\" class=\"dataframe\">\n",
       "  <thead>\n",
       "    <tr style=\"text-align: right;\">\n",
       "      <th></th>\n",
       "      <th>longitude</th>\n",
       "      <th>latitude</th>\n",
       "      <th>housing_median_age</th>\n",
       "      <th>total_rooms</th>\n",
       "      <th>total_bedrooms</th>\n",
       "      <th>population</th>\n",
       "      <th>households</th>\n",
       "      <th>median_income</th>\n",
       "      <th>median_house_value</th>\n",
       "      <th>ocean_proximity</th>\n",
       "    </tr>\n",
       "  </thead>\n",
       "  <tbody>\n",
       "    <tr>\n",
       "      <th>0</th>\n",
       "      <td>-122.23</td>\n",
       "      <td>37.88</td>\n",
       "      <td>41.0</td>\n",
       "      <td>880.0</td>\n",
       "      <td>129.0</td>\n",
       "      <td>322.0</td>\n",
       "      <td>126.0</td>\n",
       "      <td>8.3252</td>\n",
       "      <td>452600.0</td>\n",
       "      <td>NEAR BAY</td>\n",
       "    </tr>\n",
       "    <tr>\n",
       "      <th>1</th>\n",
       "      <td>-122.22</td>\n",
       "      <td>37.86</td>\n",
       "      <td>21.0</td>\n",
       "      <td>7099.0</td>\n",
       "      <td>1106.0</td>\n",
       "      <td>2401.0</td>\n",
       "      <td>1138.0</td>\n",
       "      <td>8.3014</td>\n",
       "      <td>358500.0</td>\n",
       "      <td>NEAR BAY</td>\n",
       "    </tr>\n",
       "    <tr>\n",
       "      <th>2</th>\n",
       "      <td>-122.24</td>\n",
       "      <td>37.85</td>\n",
       "      <td>52.0</td>\n",
       "      <td>1467.0</td>\n",
       "      <td>190.0</td>\n",
       "      <td>496.0</td>\n",
       "      <td>177.0</td>\n",
       "      <td>7.2574</td>\n",
       "      <td>352100.0</td>\n",
       "      <td>NEAR BAY</td>\n",
       "    </tr>\n",
       "    <tr>\n",
       "      <th>3</th>\n",
       "      <td>-122.25</td>\n",
       "      <td>37.85</td>\n",
       "      <td>52.0</td>\n",
       "      <td>1274.0</td>\n",
       "      <td>235.0</td>\n",
       "      <td>558.0</td>\n",
       "      <td>219.0</td>\n",
       "      <td>5.6431</td>\n",
       "      <td>341300.0</td>\n",
       "      <td>NEAR BAY</td>\n",
       "    </tr>\n",
       "    <tr>\n",
       "      <th>4</th>\n",
       "      <td>-122.25</td>\n",
       "      <td>37.85</td>\n",
       "      <td>52.0</td>\n",
       "      <td>1627.0</td>\n",
       "      <td>280.0</td>\n",
       "      <td>565.0</td>\n",
       "      <td>259.0</td>\n",
       "      <td>3.8462</td>\n",
       "      <td>342200.0</td>\n",
       "      <td>NEAR BAY</td>\n",
       "    </tr>\n",
       "    <tr>\n",
       "      <th>...</th>\n",
       "      <td>...</td>\n",
       "      <td>...</td>\n",
       "      <td>...</td>\n",
       "      <td>...</td>\n",
       "      <td>...</td>\n",
       "      <td>...</td>\n",
       "      <td>...</td>\n",
       "      <td>...</td>\n",
       "      <td>...</td>\n",
       "      <td>...</td>\n",
       "    </tr>\n",
       "    <tr>\n",
       "      <th>20635</th>\n",
       "      <td>-121.09</td>\n",
       "      <td>39.48</td>\n",
       "      <td>25.0</td>\n",
       "      <td>1665.0</td>\n",
       "      <td>374.0</td>\n",
       "      <td>845.0</td>\n",
       "      <td>330.0</td>\n",
       "      <td>1.5603</td>\n",
       "      <td>78100.0</td>\n",
       "      <td>INLAND</td>\n",
       "    </tr>\n",
       "    <tr>\n",
       "      <th>20636</th>\n",
       "      <td>-121.21</td>\n",
       "      <td>39.49</td>\n",
       "      <td>18.0</td>\n",
       "      <td>697.0</td>\n",
       "      <td>150.0</td>\n",
       "      <td>356.0</td>\n",
       "      <td>114.0</td>\n",
       "      <td>2.5568</td>\n",
       "      <td>77100.0</td>\n",
       "      <td>INLAND</td>\n",
       "    </tr>\n",
       "    <tr>\n",
       "      <th>20637</th>\n",
       "      <td>-121.22</td>\n",
       "      <td>39.43</td>\n",
       "      <td>17.0</td>\n",
       "      <td>2254.0</td>\n",
       "      <td>485.0</td>\n",
       "      <td>1007.0</td>\n",
       "      <td>433.0</td>\n",
       "      <td>1.7000</td>\n",
       "      <td>92300.0</td>\n",
       "      <td>INLAND</td>\n",
       "    </tr>\n",
       "    <tr>\n",
       "      <th>20638</th>\n",
       "      <td>-121.32</td>\n",
       "      <td>39.43</td>\n",
       "      <td>18.0</td>\n",
       "      <td>1860.0</td>\n",
       "      <td>409.0</td>\n",
       "      <td>741.0</td>\n",
       "      <td>349.0</td>\n",
       "      <td>1.8672</td>\n",
       "      <td>84700.0</td>\n",
       "      <td>INLAND</td>\n",
       "    </tr>\n",
       "    <tr>\n",
       "      <th>20639</th>\n",
       "      <td>-121.24</td>\n",
       "      <td>39.37</td>\n",
       "      <td>16.0</td>\n",
       "      <td>2785.0</td>\n",
       "      <td>616.0</td>\n",
       "      <td>1387.0</td>\n",
       "      <td>530.0</td>\n",
       "      <td>2.3886</td>\n",
       "      <td>89400.0</td>\n",
       "      <td>INLAND</td>\n",
       "    </tr>\n",
       "  </tbody>\n",
       "</table>\n",
       "<p>20640 rows × 10 columns</p>\n",
       "</div>"
      ],
      "text/plain": [
       "       longitude  latitude  housing_median_age  total_rooms  total_bedrooms  \\\n",
       "0        -122.23     37.88                41.0        880.0           129.0   \n",
       "1        -122.22     37.86                21.0       7099.0          1106.0   \n",
       "2        -122.24     37.85                52.0       1467.0           190.0   \n",
       "3        -122.25     37.85                52.0       1274.0           235.0   \n",
       "4        -122.25     37.85                52.0       1627.0           280.0   \n",
       "...          ...       ...                 ...          ...             ...   \n",
       "20635    -121.09     39.48                25.0       1665.0           374.0   \n",
       "20636    -121.21     39.49                18.0        697.0           150.0   \n",
       "20637    -121.22     39.43                17.0       2254.0           485.0   \n",
       "20638    -121.32     39.43                18.0       1860.0           409.0   \n",
       "20639    -121.24     39.37                16.0       2785.0           616.0   \n",
       "\n",
       "       population  households  median_income  median_house_value  \\\n",
       "0           322.0       126.0         8.3252            452600.0   \n",
       "1          2401.0      1138.0         8.3014            358500.0   \n",
       "2           496.0       177.0         7.2574            352100.0   \n",
       "3           558.0       219.0         5.6431            341300.0   \n",
       "4           565.0       259.0         3.8462            342200.0   \n",
       "...           ...         ...            ...                 ...   \n",
       "20635       845.0       330.0         1.5603             78100.0   \n",
       "20636       356.0       114.0         2.5568             77100.0   \n",
       "20637      1007.0       433.0         1.7000             92300.0   \n",
       "20638       741.0       349.0         1.8672             84700.0   \n",
       "20639      1387.0       530.0         2.3886             89400.0   \n",
       "\n",
       "      ocean_proximity  \n",
       "0            NEAR BAY  \n",
       "1            NEAR BAY  \n",
       "2            NEAR BAY  \n",
       "3            NEAR BAY  \n",
       "4            NEAR BAY  \n",
       "...               ...  \n",
       "20635          INLAND  \n",
       "20636          INLAND  \n",
       "20637          INLAND  \n",
       "20638          INLAND  \n",
       "20639          INLAND  \n",
       "\n",
       "[20640 rows x 10 columns]"
      ]
     },
     "execution_count": 55,
     "metadata": {},
     "output_type": "execute_result"
    }
   ],
   "source": [
    "df"
   ]
  },
  {
   "cell_type": "code",
   "execution_count": 56,
   "metadata": {
    "id": "DgKvZ25aLkff",
    "outputId": "91203bfd-0e20-457d-bbae-db437c156b34"
   },
   "outputs": [
    {
     "data": {
      "text/html": [
       "<div>\n",
       "<style scoped>\n",
       "    .dataframe tbody tr th:only-of-type {\n",
       "        vertical-align: middle;\n",
       "    }\n",
       "\n",
       "    .dataframe tbody tr th {\n",
       "        vertical-align: top;\n",
       "    }\n",
       "\n",
       "    .dataframe thead th {\n",
       "        text-align: right;\n",
       "    }\n",
       "</style>\n",
       "<table border=\"1\" class=\"dataframe\">\n",
       "  <thead>\n",
       "    <tr style=\"text-align: right;\">\n",
       "      <th></th>\n",
       "      <th>FECHA</th>\n",
       "      <th>ARTICULO</th>\n",
       "      <th>CUANTIA</th>\n",
       "      <th>PRECIO UNIDAD</th>\n",
       "      <th>TOTAL</th>\n",
       "    </tr>\n",
       "  </thead>\n",
       "  <tbody>\n",
       "    <tr>\n",
       "      <th>0</th>\n",
       "      <td>15/03/2020</td>\n",
       "      <td>Barra Pan</td>\n",
       "      <td>2</td>\n",
       "      <td>0.55</td>\n",
       "      <td>1.10</td>\n",
       "    </tr>\n",
       "    <tr>\n",
       "      <th>1</th>\n",
       "      <td>16/03/2020</td>\n",
       "      <td>Bolígrafo Bic</td>\n",
       "      <td>3</td>\n",
       "      <td>0.22</td>\n",
       "      <td>0.66</td>\n",
       "    </tr>\n",
       "    <tr>\n",
       "      <th>2</th>\n",
       "      <td>17/03/2020</td>\n",
       "      <td>Cuaderno</td>\n",
       "      <td>1</td>\n",
       "      <td>1.25</td>\n",
       "      <td>1.25</td>\n",
       "    </tr>\n",
       "    <tr>\n",
       "      <th>3</th>\n",
       "      <td>18/03/2020</td>\n",
       "      <td>Refresco</td>\n",
       "      <td>5</td>\n",
       "      <td>0.80</td>\n",
       "      <td>4.00</td>\n",
       "    </tr>\n",
       "    <tr>\n",
       "      <th>4</th>\n",
       "      <td>19/03/2020</td>\n",
       "      <td>Silla Gamer</td>\n",
       "      <td>1</td>\n",
       "      <td>153.00</td>\n",
       "      <td>153.00</td>\n",
       "    </tr>\n",
       "    <tr>\n",
       "      <th>5</th>\n",
       "      <td>20/03/2020</td>\n",
       "      <td>Paquete folios A4</td>\n",
       "      <td>3</td>\n",
       "      <td>2.48</td>\n",
       "      <td>7.44</td>\n",
       "    </tr>\n",
       "    <tr>\n",
       "      <th>6</th>\n",
       "      <td>21/03/2020</td>\n",
       "      <td>Pack x6 Vaso cristal</td>\n",
       "      <td>2</td>\n",
       "      <td>6.00</td>\n",
       "      <td>12.00</td>\n",
       "    </tr>\n",
       "    <tr>\n",
       "      <th>7</th>\n",
       "      <td>22/03/2020</td>\n",
       "      <td>Manzanas (Kg.)</td>\n",
       "      <td>1</td>\n",
       "      <td>2.48</td>\n",
       "      <td>2.48</td>\n",
       "    </tr>\n",
       "    <tr>\n",
       "      <th>8</th>\n",
       "      <td>23/03/2020</td>\n",
       "      <td>Naranjas (Kg.)</td>\n",
       "      <td>2</td>\n",
       "      <td>1.29</td>\n",
       "      <td>2.58</td>\n",
       "    </tr>\n",
       "    <tr>\n",
       "      <th>9</th>\n",
       "      <td>24/03/2020</td>\n",
       "      <td>Naranja Malla</td>\n",
       "      <td>1</td>\n",
       "      <td>1.50</td>\n",
       "      <td>1.50</td>\n",
       "    </tr>\n",
       "  </tbody>\n",
       "</table>\n",
       "</div>"
      ],
      "text/plain": [
       "        FECHA              ARTICULO  CUANTIA  PRECIO UNIDAD   TOTAL\n",
       "0  15/03/2020             Barra Pan        2           0.55    1.10\n",
       "1  16/03/2020         Bolígrafo Bic        3           0.22    0.66\n",
       "2  17/03/2020              Cuaderno        1           1.25    1.25\n",
       "3  18/03/2020              Refresco        5           0.80    4.00\n",
       "4  19/03/2020           Silla Gamer        1         153.00  153.00\n",
       "5  20/03/2020     Paquete folios A4        3           2.48    7.44\n",
       "6  21/03/2020  Pack x6 Vaso cristal        2           6.00   12.00\n",
       "7  22/03/2020        Manzanas (Kg.)        1           2.48    2.48\n",
       "8  23/03/2020        Naranjas (Kg.)        2           1.29    2.58\n",
       "9  24/03/2020         Naranja Malla        1           1.50    1.50"
      ]
     },
     "execution_count": 56,
     "metadata": {},
     "output_type": "execute_result"
    }
   ],
   "source": [
    "pd.read_csv(\"CR_Files/compras_dos.csv\", sep=\";\")"
   ]
  },
  {
   "cell_type": "markdown",
   "metadata": {
    "id": "Rh2JjKpKLkfh"
   },
   "source": [
    "### Series and columns of a Dataframe\n",
    "\n",
    "As we have seen before, a dataframe is a succession or collection of series, that is, each column acts as a series since all the columns share the same index.\n",
    "\n",
    "To access a column we have to write the name of the column in square brackets."
   ]
  },
  {
   "cell_type": "code",
   "execution_count": 57,
   "metadata": {
    "id": "J5CosEYaLkfh",
    "outputId": "5b937449-641b-4643-d05b-f208c04e20c5",
    "scrolled": true
   },
   "outputs": [
    {
     "data": {
      "text/plain": [
       "Bitcoin         0.52\n",
       "Ethereum        0.83\n",
       "XRP           242.03\n",
       "Tether        496.29\n",
       "BTC Cash    15613.77\n",
       "dtype: float64"
      ]
     },
     "execution_count": 57,
     "metadata": {},
     "output_type": "execute_result"
    }
   ],
   "source": [
    "criptos"
   ]
  },
  {
   "cell_type": "code",
   "execution_count": 58,
   "metadata": {
    "id": "Imwn1HVVLkfh",
    "outputId": "561dc907-a7ab-4108-a48f-bec56022dafd"
   },
   "outputs": [
    {
     "data": {
      "text/plain": [
       "0       -122.23\n",
       "1       -122.22\n",
       "2       -122.24\n",
       "3       -122.25\n",
       "4       -122.25\n",
       "          ...  \n",
       "20635   -121.09\n",
       "20636   -121.21\n",
       "20637   -121.22\n",
       "20638   -121.32\n",
       "20639   -121.24\n",
       "Name: longitude, Length: 20640, dtype: float64"
      ]
     },
     "execution_count": 58,
     "metadata": {},
     "output_type": "execute_result"
    }
   ],
   "source": [
    "df['longitude']"
   ]
  },
  {
   "cell_type": "code",
   "execution_count": 59,
   "metadata": {
    "id": "w9A6-y6wLkfi",
    "outputId": "f87dfb56-45d4-4195-eace-68f82ff5f3f9"
   },
   "outputs": [
    {
     "data": {
      "text/plain": [
       "-122.24"
      ]
     },
     "execution_count": 59,
     "metadata": {},
     "output_type": "execute_result"
    }
   ],
   "source": [
    "df['longitude'][180]"
   ]
  },
  {
   "cell_type": "code",
   "execution_count": 60,
   "metadata": {
    "id": "qgjCJtHoLkfm",
    "outputId": "fa22e2ed-1da7-4a8d-d6bf-868d7f0907c1"
   },
   "outputs": [
    {
     "data": {
      "text/plain": [
       "0       -122.23\n",
       "1       -122.22\n",
       "2       -122.24\n",
       "3       -122.25\n",
       "4       -122.25\n",
       "          ...  \n",
       "20635   -121.09\n",
       "20636   -121.21\n",
       "20637   -121.22\n",
       "20638   -121.32\n",
       "20639   -121.24\n",
       "Name: longitude, Length: 20640, dtype: float64"
      ]
     },
     "execution_count": 60,
     "metadata": {},
     "output_type": "execute_result"
    }
   ],
   "source": [
    "df.longitude"
   ]
  },
  {
   "cell_type": "code",
   "execution_count": 61,
   "metadata": {
    "id": "SN2XA1gbLkfn"
   },
   "outputs": [],
   "source": [
    "compras = pd.read_csv(\"CR_Files/compras_dos.csv\", sep=\";\")"
   ]
  },
  {
   "cell_type": "code",
   "execution_count": 62,
   "metadata": {
    "id": "naCafGVVLkfn",
    "outputId": "0a75cfff-a2fb-4b89-f2c6-dcdf5a01bfb0"
   },
   "outputs": [
    {
     "data": {
      "text/plain": [
       "0      0.55\n",
       "1      0.22\n",
       "2      1.25\n",
       "3      0.80\n",
       "4    153.00\n",
       "5      2.48\n",
       "6      6.00\n",
       "7      2.48\n",
       "8      1.29\n",
       "9      1.50\n",
       "Name: PRECIO UNIDAD, dtype: float64"
      ]
     },
     "execution_count": 62,
     "metadata": {},
     "output_type": "execute_result"
    }
   ],
   "source": [
    "compras[\"PRECIO UNIDAD\"]"
   ]
  },
  {
   "cell_type": "markdown",
   "metadata": {
    "id": "UbtdXMGFLkfn"
   },
   "source": [
    "If we look at the type of class that has a column we will see that it is Series"
   ]
  },
  {
   "cell_type": "code",
   "execution_count": 63,
   "metadata": {
    "id": "fIGZf-XYLkfo",
    "outputId": "e1873f05-fe6f-4c70-8fec-5d5374a144bb"
   },
   "outputs": [
    {
     "data": {
      "text/plain": [
       "pandas.core.series.Series"
      ]
     },
     "execution_count": 63,
     "metadata": {},
     "output_type": "execute_result"
    }
   ],
   "source": [
    "type(compras[\"PRECIO UNIDAD\"])"
   ]
  },
  {
   "cell_type": "code",
   "execution_count": 64,
   "metadata": {
    "id": "xmVQvHpxLkfo",
    "outputId": "afeb95e6-bfd6-4b9a-de27-eb19620e0b3c"
   },
   "outputs": [
    {
     "data": {
      "text/plain": [
       "pandas.core.frame.DataFrame"
      ]
     },
     "execution_count": 64,
     "metadata": {},
     "output_type": "execute_result"
    }
   ],
   "source": [
    "type(df)"
   ]
  },
  {
   "cell_type": "markdown",
   "metadata": {
    "id": "i4aG7QNzLkfo"
   },
   "source": [
    "Another way to get the column is similar than SQL:\n",
    "\n",
    "* df_name.__nombre_columna__ "
   ]
  },
  {
   "cell_type": "code",
   "execution_count": 65,
   "metadata": {
    "id": "7vwE_dapLkfp",
    "outputId": "a1685d28-5bf4-448b-a030-1057c633eb7f"
   },
   "outputs": [
    {
     "data": {
      "text/plain": [
       "0        NEAR BAY\n",
       "1        NEAR BAY\n",
       "2        NEAR BAY\n",
       "3        NEAR BAY\n",
       "4        NEAR BAY\n",
       "           ...   \n",
       "20635      INLAND\n",
       "20636      INLAND\n",
       "20637      INLAND\n",
       "20638      INLAND\n",
       "20639      INLAND\n",
       "Name: ocean_proximity, Length: 20640, dtype: object"
      ]
     },
     "execution_count": 65,
     "metadata": {},
     "output_type": "execute_result"
    }
   ],
   "source": [
    "df.ocean_proximity"
   ]
  },
  {
   "cell_type": "markdown",
   "metadata": {
    "id": "aqg4yF8MLkfp"
   },
   "source": [
    "### Selecting multiple columns\n",
    "\n",
    "Now that we have seen how a DataFrame is made up of Series, we can see how to select multiple columns. To do this, we simply have to enclose the names of the columns that we want to select in square brackets, such as:\n",
    "\n",
    "__df_name[['column_one', 'column_two', 'column_three']]__\n",
    "\n",
    "Similarly, we can pass a list with names of the columns.\n",
    "\n",
    "To do the same by means of indexing, that is, to obtain a subset of the columns of the dataframe by the position occupied by the columns, we can do:\n",
    "* __dataframe_name[dataframe_name.columns[[col_n, col_m]]]__\n",
    "* __dataframe_name.iloc[:, [col_n, col_m]]__\n",
    "\n",
    "Using column names."
   ]
  },
  {
   "cell_type": "code",
   "execution_count": 66,
   "metadata": {
    "id": "QJMIc6-uLkfq",
    "outputId": "95c48817-5f30-43ab-8f70-ac2c1f1faf77"
   },
   "outputs": [
    {
     "data": {
      "text/plain": [
       "Index(['longitude', 'latitude', 'housing_median_age', 'total_rooms',\n",
       "       'total_bedrooms', 'population', 'households', 'median_income',\n",
       "       'median_house_value', 'ocean_proximity'],\n",
       "      dtype='object')"
      ]
     },
     "execution_count": 66,
     "metadata": {},
     "output_type": "execute_result"
    }
   ],
   "source": [
    "df.columns"
   ]
  },
  {
   "cell_type": "code",
   "execution_count": 67,
   "metadata": {
    "id": "IivoKyCtLkfq",
    "outputId": "2b82274b-8014-4dd8-ce0a-b6d0dfdf1672"
   },
   "outputs": [
    {
     "data": {
      "text/html": [
       "<div>\n",
       "<style scoped>\n",
       "    .dataframe tbody tr th:only-of-type {\n",
       "        vertical-align: middle;\n",
       "    }\n",
       "\n",
       "    .dataframe tbody tr th {\n",
       "        vertical-align: top;\n",
       "    }\n",
       "\n",
       "    .dataframe thead th {\n",
       "        text-align: right;\n",
       "    }\n",
       "</style>\n",
       "<table border=\"1\" class=\"dataframe\">\n",
       "  <thead>\n",
       "    <tr style=\"text-align: right;\">\n",
       "      <th></th>\n",
       "      <th>longitude</th>\n",
       "      <th>latitude</th>\n",
       "    </tr>\n",
       "  </thead>\n",
       "  <tbody>\n",
       "    <tr>\n",
       "      <th>0</th>\n",
       "      <td>-122.23</td>\n",
       "      <td>37.88</td>\n",
       "    </tr>\n",
       "    <tr>\n",
       "      <th>1</th>\n",
       "      <td>-122.22</td>\n",
       "      <td>37.86</td>\n",
       "    </tr>\n",
       "    <tr>\n",
       "      <th>2</th>\n",
       "      <td>-122.24</td>\n",
       "      <td>37.85</td>\n",
       "    </tr>\n",
       "    <tr>\n",
       "      <th>3</th>\n",
       "      <td>-122.25</td>\n",
       "      <td>37.85</td>\n",
       "    </tr>\n",
       "    <tr>\n",
       "      <th>4</th>\n",
       "      <td>-122.25</td>\n",
       "      <td>37.85</td>\n",
       "    </tr>\n",
       "    <tr>\n",
       "      <th>...</th>\n",
       "      <td>...</td>\n",
       "      <td>...</td>\n",
       "    </tr>\n",
       "    <tr>\n",
       "      <th>20635</th>\n",
       "      <td>-121.09</td>\n",
       "      <td>39.48</td>\n",
       "    </tr>\n",
       "    <tr>\n",
       "      <th>20636</th>\n",
       "      <td>-121.21</td>\n",
       "      <td>39.49</td>\n",
       "    </tr>\n",
       "    <tr>\n",
       "      <th>20637</th>\n",
       "      <td>-121.22</td>\n",
       "      <td>39.43</td>\n",
       "    </tr>\n",
       "    <tr>\n",
       "      <th>20638</th>\n",
       "      <td>-121.32</td>\n",
       "      <td>39.43</td>\n",
       "    </tr>\n",
       "    <tr>\n",
       "      <th>20639</th>\n",
       "      <td>-121.24</td>\n",
       "      <td>39.37</td>\n",
       "    </tr>\n",
       "  </tbody>\n",
       "</table>\n",
       "<p>20640 rows × 2 columns</p>\n",
       "</div>"
      ],
      "text/plain": [
       "       longitude  latitude\n",
       "0        -122.23     37.88\n",
       "1        -122.22     37.86\n",
       "2        -122.24     37.85\n",
       "3        -122.25     37.85\n",
       "4        -122.25     37.85\n",
       "...          ...       ...\n",
       "20635    -121.09     39.48\n",
       "20636    -121.21     39.49\n",
       "20637    -121.22     39.43\n",
       "20638    -121.32     39.43\n",
       "20639    -121.24     39.37\n",
       "\n",
       "[20640 rows x 2 columns]"
      ]
     },
     "execution_count": 67,
     "metadata": {},
     "output_type": "execute_result"
    }
   ],
   "source": [
    "df[[\"longitude\", \"latitude\"]]"
   ]
  },
  {
   "cell_type": "code",
   "execution_count": 68,
   "metadata": {
    "id": "XsrV30yuLkfr",
    "outputId": "2913ba90-4517-4491-b363-d15900820540"
   },
   "outputs": [
    {
     "data": {
      "text/html": [
       "<div>\n",
       "<style scoped>\n",
       "    .dataframe tbody tr th:only-of-type {\n",
       "        vertical-align: middle;\n",
       "    }\n",
       "\n",
       "    .dataframe tbody tr th {\n",
       "        vertical-align: top;\n",
       "    }\n",
       "\n",
       "    .dataframe thead th {\n",
       "        text-align: right;\n",
       "    }\n",
       "</style>\n",
       "<table border=\"1\" class=\"dataframe\">\n",
       "  <thead>\n",
       "    <tr style=\"text-align: right;\">\n",
       "      <th></th>\n",
       "      <th>ocean_proximity</th>\n",
       "      <th>total_bedrooms</th>\n",
       "    </tr>\n",
       "  </thead>\n",
       "  <tbody>\n",
       "    <tr>\n",
       "      <th>0</th>\n",
       "      <td>NEAR BAY</td>\n",
       "      <td>129.0</td>\n",
       "    </tr>\n",
       "    <tr>\n",
       "      <th>1</th>\n",
       "      <td>NEAR BAY</td>\n",
       "      <td>1106.0</td>\n",
       "    </tr>\n",
       "    <tr>\n",
       "      <th>2</th>\n",
       "      <td>NEAR BAY</td>\n",
       "      <td>190.0</td>\n",
       "    </tr>\n",
       "    <tr>\n",
       "      <th>3</th>\n",
       "      <td>NEAR BAY</td>\n",
       "      <td>235.0</td>\n",
       "    </tr>\n",
       "    <tr>\n",
       "      <th>4</th>\n",
       "      <td>NEAR BAY</td>\n",
       "      <td>280.0</td>\n",
       "    </tr>\n",
       "    <tr>\n",
       "      <th>...</th>\n",
       "      <td>...</td>\n",
       "      <td>...</td>\n",
       "    </tr>\n",
       "    <tr>\n",
       "      <th>20635</th>\n",
       "      <td>INLAND</td>\n",
       "      <td>374.0</td>\n",
       "    </tr>\n",
       "    <tr>\n",
       "      <th>20636</th>\n",
       "      <td>INLAND</td>\n",
       "      <td>150.0</td>\n",
       "    </tr>\n",
       "    <tr>\n",
       "      <th>20637</th>\n",
       "      <td>INLAND</td>\n",
       "      <td>485.0</td>\n",
       "    </tr>\n",
       "    <tr>\n",
       "      <th>20638</th>\n",
       "      <td>INLAND</td>\n",
       "      <td>409.0</td>\n",
       "    </tr>\n",
       "    <tr>\n",
       "      <th>20639</th>\n",
       "      <td>INLAND</td>\n",
       "      <td>616.0</td>\n",
       "    </tr>\n",
       "  </tbody>\n",
       "</table>\n",
       "<p>20640 rows × 2 columns</p>\n",
       "</div>"
      ],
      "text/plain": [
       "      ocean_proximity  total_bedrooms\n",
       "0            NEAR BAY           129.0\n",
       "1            NEAR BAY          1106.0\n",
       "2            NEAR BAY           190.0\n",
       "3            NEAR BAY           235.0\n",
       "4            NEAR BAY           280.0\n",
       "...               ...             ...\n",
       "20635          INLAND           374.0\n",
       "20636          INLAND           150.0\n",
       "20637          INLAND           485.0\n",
       "20638          INLAND           409.0\n",
       "20639          INLAND           616.0\n",
       "\n",
       "[20640 rows x 2 columns]"
      ]
     },
     "execution_count": 68,
     "metadata": {},
     "output_type": "execute_result"
    }
   ],
   "source": [
    "target = [\"ocean_proximity\", \"total_bedrooms\"]\n",
    "\n",
    "df[target]"
   ]
  },
  {
   "cell_type": "markdown",
   "metadata": {
    "id": "OqWEeVRULkfs"
   },
   "source": [
    "Through index "
   ]
  },
  {
   "cell_type": "code",
   "execution_count": 69,
   "metadata": {
    "id": "05Hr7L2vLkfs",
    "outputId": "020e33f2-c848-4712-afaa-1bd63e5d86be"
   },
   "outputs": [
    {
     "data": {
      "text/plain": [
       "'longitude'"
      ]
     },
     "execution_count": 69,
     "metadata": {},
     "output_type": "execute_result"
    }
   ],
   "source": [
    "df.columns[0]"
   ]
  },
  {
   "cell_type": "code",
   "execution_count": 70,
   "metadata": {
    "id": "vnKGWRvgLkft",
    "outputId": "2b66a877-d5cd-4697-cbf7-55ac3c808072"
   },
   "outputs": [
    {
     "data": {
      "text/plain": [
       "0       -122.23\n",
       "1       -122.22\n",
       "2       -122.24\n",
       "3       -122.25\n",
       "4       -122.25\n",
       "          ...  \n",
       "20635   -121.09\n",
       "20636   -121.21\n",
       "20637   -121.22\n",
       "20638   -121.32\n",
       "20639   -121.24\n",
       "Name: longitude, Length: 20640, dtype: float64"
      ]
     },
     "execution_count": 70,
     "metadata": {},
     "output_type": "execute_result"
    }
   ],
   "source": [
    "df[df.columns[0]]\n",
    "# df['longitude']"
   ]
  },
  {
   "cell_type": "code",
   "execution_count": 71,
   "metadata": {
    "id": "LYzvUBT8Lkft",
    "outputId": "3a370893-cdcc-4ac6-a209-9bd9c7343bb9"
   },
   "outputs": [
    {
     "data": {
      "text/plain": [
       "Index(['housing_median_age', 'total_bedrooms', 'households'], dtype='object')"
      ]
     },
     "execution_count": 71,
     "metadata": {},
     "output_type": "execute_result"
    }
   ],
   "source": [
    "df.columns[2:8:2]"
   ]
  },
  {
   "cell_type": "code",
   "execution_count": 72,
   "metadata": {
    "id": "TgRrAfg2Lkft",
    "outputId": "b5cc9628-f974-4114-f546-dcd9afe1829c"
   },
   "outputs": [
    {
     "data": {
      "text/html": [
       "<div>\n",
       "<style scoped>\n",
       "    .dataframe tbody tr th:only-of-type {\n",
       "        vertical-align: middle;\n",
       "    }\n",
       "\n",
       "    .dataframe tbody tr th {\n",
       "        vertical-align: top;\n",
       "    }\n",
       "\n",
       "    .dataframe thead th {\n",
       "        text-align: right;\n",
       "    }\n",
       "</style>\n",
       "<table border=\"1\" class=\"dataframe\">\n",
       "  <thead>\n",
       "    <tr style=\"text-align: right;\">\n",
       "      <th></th>\n",
       "      <th>housing_median_age</th>\n",
       "      <th>total_bedrooms</th>\n",
       "      <th>households</th>\n",
       "    </tr>\n",
       "  </thead>\n",
       "  <tbody>\n",
       "    <tr>\n",
       "      <th>0</th>\n",
       "      <td>41.0</td>\n",
       "      <td>129.0</td>\n",
       "      <td>126.0</td>\n",
       "    </tr>\n",
       "    <tr>\n",
       "      <th>1</th>\n",
       "      <td>21.0</td>\n",
       "      <td>1106.0</td>\n",
       "      <td>1138.0</td>\n",
       "    </tr>\n",
       "    <tr>\n",
       "      <th>2</th>\n",
       "      <td>52.0</td>\n",
       "      <td>190.0</td>\n",
       "      <td>177.0</td>\n",
       "    </tr>\n",
       "    <tr>\n",
       "      <th>3</th>\n",
       "      <td>52.0</td>\n",
       "      <td>235.0</td>\n",
       "      <td>219.0</td>\n",
       "    </tr>\n",
       "    <tr>\n",
       "      <th>4</th>\n",
       "      <td>52.0</td>\n",
       "      <td>280.0</td>\n",
       "      <td>259.0</td>\n",
       "    </tr>\n",
       "    <tr>\n",
       "      <th>...</th>\n",
       "      <td>...</td>\n",
       "      <td>...</td>\n",
       "      <td>...</td>\n",
       "    </tr>\n",
       "    <tr>\n",
       "      <th>20635</th>\n",
       "      <td>25.0</td>\n",
       "      <td>374.0</td>\n",
       "      <td>330.0</td>\n",
       "    </tr>\n",
       "    <tr>\n",
       "      <th>20636</th>\n",
       "      <td>18.0</td>\n",
       "      <td>150.0</td>\n",
       "      <td>114.0</td>\n",
       "    </tr>\n",
       "    <tr>\n",
       "      <th>20637</th>\n",
       "      <td>17.0</td>\n",
       "      <td>485.0</td>\n",
       "      <td>433.0</td>\n",
       "    </tr>\n",
       "    <tr>\n",
       "      <th>20638</th>\n",
       "      <td>18.0</td>\n",
       "      <td>409.0</td>\n",
       "      <td>349.0</td>\n",
       "    </tr>\n",
       "    <tr>\n",
       "      <th>20639</th>\n",
       "      <td>16.0</td>\n",
       "      <td>616.0</td>\n",
       "      <td>530.0</td>\n",
       "    </tr>\n",
       "  </tbody>\n",
       "</table>\n",
       "<p>20640 rows × 3 columns</p>\n",
       "</div>"
      ],
      "text/plain": [
       "       housing_median_age  total_bedrooms  households\n",
       "0                    41.0           129.0       126.0\n",
       "1                    21.0          1106.0      1138.0\n",
       "2                    52.0           190.0       177.0\n",
       "3                    52.0           235.0       219.0\n",
       "4                    52.0           280.0       259.0\n",
       "...                   ...             ...         ...\n",
       "20635                25.0           374.0       330.0\n",
       "20636                18.0           150.0       114.0\n",
       "20637                17.0           485.0       433.0\n",
       "20638                18.0           409.0       349.0\n",
       "20639                16.0           616.0       530.0\n",
       "\n",
       "[20640 rows x 3 columns]"
      ]
     },
     "execution_count": 72,
     "metadata": {},
     "output_type": "execute_result"
    }
   ],
   "source": [
    "df[df.columns[2:8:2]]"
   ]
  },
  {
   "cell_type": "code",
   "execution_count": 73,
   "metadata": {
    "id": "0-jbiX8eLkfu",
    "outputId": "b2f3b1d0-5ff8-46eb-c287-3747b01e0e00"
   },
   "outputs": [
    {
     "data": {
      "text/plain": [
       "'latitude'"
      ]
     },
     "execution_count": 73,
     "metadata": {},
     "output_type": "execute_result"
    }
   ],
   "source": [
    "df.columns[1]"
   ]
  },
  {
   "cell_type": "code",
   "execution_count": 74,
   "metadata": {
    "id": "InQvHYBbLkfu",
    "outputId": "f2786526-4bdb-42ab-8002-09673af2c49e"
   },
   "outputs": [
    {
     "data": {
      "text/html": [
       "<div>\n",
       "<style scoped>\n",
       "    .dataframe tbody tr th:only-of-type {\n",
       "        vertical-align: middle;\n",
       "    }\n",
       "\n",
       "    .dataframe tbody tr th {\n",
       "        vertical-align: top;\n",
       "    }\n",
       "\n",
       "    .dataframe thead th {\n",
       "        text-align: right;\n",
       "    }\n",
       "</style>\n",
       "<table border=\"1\" class=\"dataframe\">\n",
       "  <thead>\n",
       "    <tr style=\"text-align: right;\">\n",
       "      <th></th>\n",
       "      <th>latitude</th>\n",
       "      <th>housing_median_age</th>\n",
       "      <th>total_rooms</th>\n",
       "    </tr>\n",
       "  </thead>\n",
       "  <tbody>\n",
       "    <tr>\n",
       "      <th>0</th>\n",
       "      <td>37.88</td>\n",
       "      <td>41.0</td>\n",
       "      <td>880.0</td>\n",
       "    </tr>\n",
       "    <tr>\n",
       "      <th>1</th>\n",
       "      <td>37.86</td>\n",
       "      <td>21.0</td>\n",
       "      <td>7099.0</td>\n",
       "    </tr>\n",
       "    <tr>\n",
       "      <th>2</th>\n",
       "      <td>37.85</td>\n",
       "      <td>52.0</td>\n",
       "      <td>1467.0</td>\n",
       "    </tr>\n",
       "    <tr>\n",
       "      <th>3</th>\n",
       "      <td>37.85</td>\n",
       "      <td>52.0</td>\n",
       "      <td>1274.0</td>\n",
       "    </tr>\n",
       "    <tr>\n",
       "      <th>4</th>\n",
       "      <td>37.85</td>\n",
       "      <td>52.0</td>\n",
       "      <td>1627.0</td>\n",
       "    </tr>\n",
       "    <tr>\n",
       "      <th>...</th>\n",
       "      <td>...</td>\n",
       "      <td>...</td>\n",
       "      <td>...</td>\n",
       "    </tr>\n",
       "    <tr>\n",
       "      <th>20635</th>\n",
       "      <td>39.48</td>\n",
       "      <td>25.0</td>\n",
       "      <td>1665.0</td>\n",
       "    </tr>\n",
       "    <tr>\n",
       "      <th>20636</th>\n",
       "      <td>39.49</td>\n",
       "      <td>18.0</td>\n",
       "      <td>697.0</td>\n",
       "    </tr>\n",
       "    <tr>\n",
       "      <th>20637</th>\n",
       "      <td>39.43</td>\n",
       "      <td>17.0</td>\n",
       "      <td>2254.0</td>\n",
       "    </tr>\n",
       "    <tr>\n",
       "      <th>20638</th>\n",
       "      <td>39.43</td>\n",
       "      <td>18.0</td>\n",
       "      <td>1860.0</td>\n",
       "    </tr>\n",
       "    <tr>\n",
       "      <th>20639</th>\n",
       "      <td>39.37</td>\n",
       "      <td>16.0</td>\n",
       "      <td>2785.0</td>\n",
       "    </tr>\n",
       "  </tbody>\n",
       "</table>\n",
       "<p>20640 rows × 3 columns</p>\n",
       "</div>"
      ],
      "text/plain": [
       "       latitude  housing_median_age  total_rooms\n",
       "0         37.88                41.0        880.0\n",
       "1         37.86                21.0       7099.0\n",
       "2         37.85                52.0       1467.0\n",
       "3         37.85                52.0       1274.0\n",
       "4         37.85                52.0       1627.0\n",
       "...         ...                 ...          ...\n",
       "20635     39.48                25.0       1665.0\n",
       "20636     39.49                18.0        697.0\n",
       "20637     39.43                17.0       2254.0\n",
       "20638     39.43                18.0       1860.0\n",
       "20639     39.37                16.0       2785.0\n",
       "\n",
       "[20640 rows x 3 columns]"
      ]
     },
     "execution_count": 74,
     "metadata": {},
     "output_type": "execute_result"
    }
   ],
   "source": [
    "df[df.columns[1:4]]"
   ]
  },
  {
   "cell_type": "code",
   "execution_count": 75,
   "metadata": {
    "id": "wmprXyelLkfv",
    "outputId": "59551174-68f0-4a57-fac9-fc50ef141a95"
   },
   "outputs": [
    {
     "data": {
      "text/html": [
       "<div>\n",
       "<style scoped>\n",
       "    .dataframe tbody tr th:only-of-type {\n",
       "        vertical-align: middle;\n",
       "    }\n",
       "\n",
       "    .dataframe tbody tr th {\n",
       "        vertical-align: top;\n",
       "    }\n",
       "\n",
       "    .dataframe thead th {\n",
       "        text-align: right;\n",
       "    }\n",
       "</style>\n",
       "<table border=\"1\" class=\"dataframe\">\n",
       "  <thead>\n",
       "    <tr style=\"text-align: right;\">\n",
       "      <th></th>\n",
       "      <th>latitude</th>\n",
       "      <th>housing_median_age</th>\n",
       "      <th>total_rooms</th>\n",
       "    </tr>\n",
       "  </thead>\n",
       "  <tbody>\n",
       "    <tr>\n",
       "      <th>0</th>\n",
       "      <td>37.88</td>\n",
       "      <td>41.0</td>\n",
       "      <td>880.0</td>\n",
       "    </tr>\n",
       "    <tr>\n",
       "      <th>1</th>\n",
       "      <td>37.86</td>\n",
       "      <td>21.0</td>\n",
       "      <td>7099.0</td>\n",
       "    </tr>\n",
       "    <tr>\n",
       "      <th>2</th>\n",
       "      <td>37.85</td>\n",
       "      <td>52.0</td>\n",
       "      <td>1467.0</td>\n",
       "    </tr>\n",
       "    <tr>\n",
       "      <th>3</th>\n",
       "      <td>37.85</td>\n",
       "      <td>52.0</td>\n",
       "      <td>1274.0</td>\n",
       "    </tr>\n",
       "    <tr>\n",
       "      <th>4</th>\n",
       "      <td>37.85</td>\n",
       "      <td>52.0</td>\n",
       "      <td>1627.0</td>\n",
       "    </tr>\n",
       "    <tr>\n",
       "      <th>...</th>\n",
       "      <td>...</td>\n",
       "      <td>...</td>\n",
       "      <td>...</td>\n",
       "    </tr>\n",
       "    <tr>\n",
       "      <th>20635</th>\n",
       "      <td>39.48</td>\n",
       "      <td>25.0</td>\n",
       "      <td>1665.0</td>\n",
       "    </tr>\n",
       "    <tr>\n",
       "      <th>20636</th>\n",
       "      <td>39.49</td>\n",
       "      <td>18.0</td>\n",
       "      <td>697.0</td>\n",
       "    </tr>\n",
       "    <tr>\n",
       "      <th>20637</th>\n",
       "      <td>39.43</td>\n",
       "      <td>17.0</td>\n",
       "      <td>2254.0</td>\n",
       "    </tr>\n",
       "    <tr>\n",
       "      <th>20638</th>\n",
       "      <td>39.43</td>\n",
       "      <td>18.0</td>\n",
       "      <td>1860.0</td>\n",
       "    </tr>\n",
       "    <tr>\n",
       "      <th>20639</th>\n",
       "      <td>39.37</td>\n",
       "      <td>16.0</td>\n",
       "      <td>2785.0</td>\n",
       "    </tr>\n",
       "  </tbody>\n",
       "</table>\n",
       "<p>20640 rows × 3 columns</p>\n",
       "</div>"
      ],
      "text/plain": [
       "       latitude  housing_median_age  total_rooms\n",
       "0         37.88                41.0        880.0\n",
       "1         37.86                21.0       7099.0\n",
       "2         37.85                52.0       1467.0\n",
       "3         37.85                52.0       1274.0\n",
       "4         37.85                52.0       1627.0\n",
       "...         ...                 ...          ...\n",
       "20635     39.48                25.0       1665.0\n",
       "20636     39.49                18.0        697.0\n",
       "20637     39.43                17.0       2254.0\n",
       "20638     39.43                18.0       1860.0\n",
       "20639     39.37                16.0       2785.0\n",
       "\n",
       "[20640 rows x 3 columns]"
      ]
     },
     "execution_count": 75,
     "metadata": {},
     "output_type": "execute_result"
    }
   ],
   "source": [
    "df[df.columns[1:4]]"
   ]
  },
  {
   "cell_type": "code",
   "execution_count": 76,
   "metadata": {
    "id": "4IU4kGkuLkfx",
    "outputId": "cc163f85-8546-4424-e2ce-1b01d87167f7"
   },
   "outputs": [
    {
     "data": {
      "text/html": [
       "<div>\n",
       "<style scoped>\n",
       "    .dataframe tbody tr th:only-of-type {\n",
       "        vertical-align: middle;\n",
       "    }\n",
       "\n",
       "    .dataframe tbody tr th {\n",
       "        vertical-align: top;\n",
       "    }\n",
       "\n",
       "    .dataframe thead th {\n",
       "        text-align: right;\n",
       "    }\n",
       "</style>\n",
       "<table border=\"1\" class=\"dataframe\">\n",
       "  <thead>\n",
       "    <tr style=\"text-align: right;\">\n",
       "      <th></th>\n",
       "      <th>latitude</th>\n",
       "      <th>housing_median_age</th>\n",
       "      <th>total_rooms</th>\n",
       "    </tr>\n",
       "  </thead>\n",
       "  <tbody>\n",
       "    <tr>\n",
       "      <th>0</th>\n",
       "      <td>37.88</td>\n",
       "      <td>41.0</td>\n",
       "      <td>880.0</td>\n",
       "    </tr>\n",
       "    <tr>\n",
       "      <th>1</th>\n",
       "      <td>37.86</td>\n",
       "      <td>21.0</td>\n",
       "      <td>7099.0</td>\n",
       "    </tr>\n",
       "    <tr>\n",
       "      <th>2</th>\n",
       "      <td>37.85</td>\n",
       "      <td>52.0</td>\n",
       "      <td>1467.0</td>\n",
       "    </tr>\n",
       "    <tr>\n",
       "      <th>3</th>\n",
       "      <td>37.85</td>\n",
       "      <td>52.0</td>\n",
       "      <td>1274.0</td>\n",
       "    </tr>\n",
       "    <tr>\n",
       "      <th>4</th>\n",
       "      <td>37.85</td>\n",
       "      <td>52.0</td>\n",
       "      <td>1627.0</td>\n",
       "    </tr>\n",
       "    <tr>\n",
       "      <th>...</th>\n",
       "      <td>...</td>\n",
       "      <td>...</td>\n",
       "      <td>...</td>\n",
       "    </tr>\n",
       "    <tr>\n",
       "      <th>20635</th>\n",
       "      <td>39.48</td>\n",
       "      <td>25.0</td>\n",
       "      <td>1665.0</td>\n",
       "    </tr>\n",
       "    <tr>\n",
       "      <th>20636</th>\n",
       "      <td>39.49</td>\n",
       "      <td>18.0</td>\n",
       "      <td>697.0</td>\n",
       "    </tr>\n",
       "    <tr>\n",
       "      <th>20637</th>\n",
       "      <td>39.43</td>\n",
       "      <td>17.0</td>\n",
       "      <td>2254.0</td>\n",
       "    </tr>\n",
       "    <tr>\n",
       "      <th>20638</th>\n",
       "      <td>39.43</td>\n",
       "      <td>18.0</td>\n",
       "      <td>1860.0</td>\n",
       "    </tr>\n",
       "    <tr>\n",
       "      <th>20639</th>\n",
       "      <td>39.37</td>\n",
       "      <td>16.0</td>\n",
       "      <td>2785.0</td>\n",
       "    </tr>\n",
       "  </tbody>\n",
       "</table>\n",
       "<p>20640 rows × 3 columns</p>\n",
       "</div>"
      ],
      "text/plain": [
       "       latitude  housing_median_age  total_rooms\n",
       "0         37.88                41.0        880.0\n",
       "1         37.86                21.0       7099.0\n",
       "2         37.85                52.0       1467.0\n",
       "3         37.85                52.0       1274.0\n",
       "4         37.85                52.0       1627.0\n",
       "...         ...                 ...          ...\n",
       "20635     39.48                25.0       1665.0\n",
       "20636     39.49                18.0        697.0\n",
       "20637     39.43                17.0       2254.0\n",
       "20638     39.43                18.0       1860.0\n",
       "20639     39.37                16.0       2785.0\n",
       "\n",
       "[20640 rows x 3 columns]"
      ]
     },
     "execution_count": 76,
     "metadata": {},
     "output_type": "execute_result"
    }
   ],
   "source": [
    "df[['latitude', 'housing_median_age', 'total_rooms']]"
   ]
  },
  {
   "cell_type": "code",
   "execution_count": null,
   "metadata": {
    "id": "992mlFZILkfy"
   },
   "outputs": [],
   "source": []
  },
  {
   "cell_type": "markdown",
   "metadata": {
    "id": "0348y-p7Lkfz"
   },
   "source": [
    "To select multiple columns with **iloc**, we have to take into account that a dataframe is distributed in the following way.\n",
    "\n",
    "* __dataframe[rows, columns]__: Where both rows and columns are indexable"
   ]
  },
  {
   "cell_type": "code",
   "execution_count": 77,
   "metadata": {
    "id": "3A5Nw6IcLkf1"
   },
   "outputs": [],
   "source": [
    "# df.iloc[filas,  columnas]\n",
    "# df.iloc[star:end:step,  star:end:step]"
   ]
  },
  {
   "cell_type": "code",
   "execution_count": 78,
   "metadata": {
    "id": "bplbM98HLkf1",
    "outputId": "ab298044-e6ed-4c7e-80d3-ac228cc99b81"
   },
   "outputs": [
    {
     "data": {
      "text/plain": [
       "Index(['longitude', 'latitude', 'housing_median_age', 'total_rooms',\n",
       "       'total_bedrooms', 'population', 'households', 'median_income',\n",
       "       'median_house_value', 'ocean_proximity'],\n",
       "      dtype='object')"
      ]
     },
     "execution_count": 78,
     "metadata": {},
     "output_type": "execute_result"
    }
   ],
   "source": [
    "df.columns"
   ]
  },
  {
   "cell_type": "code",
   "execution_count": 79,
   "metadata": {
    "id": "3qBv_HRWLkf2",
    "outputId": "cdcf7973-d9e4-49eb-bc39-d41ed18db37b"
   },
   "outputs": [
    {
     "data": {
      "text/html": [
       "<div>\n",
       "<style scoped>\n",
       "    .dataframe tbody tr th:only-of-type {\n",
       "        vertical-align: middle;\n",
       "    }\n",
       "\n",
       "    .dataframe tbody tr th {\n",
       "        vertical-align: top;\n",
       "    }\n",
       "\n",
       "    .dataframe thead th {\n",
       "        text-align: right;\n",
       "    }\n",
       "</style>\n",
       "<table border=\"1\" class=\"dataframe\">\n",
       "  <thead>\n",
       "    <tr style=\"text-align: right;\">\n",
       "      <th></th>\n",
       "      <th>latitude</th>\n",
       "      <th>total_rooms</th>\n",
       "    </tr>\n",
       "  </thead>\n",
       "  <tbody>\n",
       "    <tr>\n",
       "      <th>0</th>\n",
       "      <td>37.88</td>\n",
       "      <td>880.0</td>\n",
       "    </tr>\n",
       "    <tr>\n",
       "      <th>1</th>\n",
       "      <td>37.86</td>\n",
       "      <td>7099.0</td>\n",
       "    </tr>\n",
       "    <tr>\n",
       "      <th>2</th>\n",
       "      <td>37.85</td>\n",
       "      <td>1467.0</td>\n",
       "    </tr>\n",
       "    <tr>\n",
       "      <th>3</th>\n",
       "      <td>37.85</td>\n",
       "      <td>1274.0</td>\n",
       "    </tr>\n",
       "    <tr>\n",
       "      <th>4</th>\n",
       "      <td>37.85</td>\n",
       "      <td>1627.0</td>\n",
       "    </tr>\n",
       "    <tr>\n",
       "      <th>...</th>\n",
       "      <td>...</td>\n",
       "      <td>...</td>\n",
       "    </tr>\n",
       "    <tr>\n",
       "      <th>20635</th>\n",
       "      <td>39.48</td>\n",
       "      <td>1665.0</td>\n",
       "    </tr>\n",
       "    <tr>\n",
       "      <th>20636</th>\n",
       "      <td>39.49</td>\n",
       "      <td>697.0</td>\n",
       "    </tr>\n",
       "    <tr>\n",
       "      <th>20637</th>\n",
       "      <td>39.43</td>\n",
       "      <td>2254.0</td>\n",
       "    </tr>\n",
       "    <tr>\n",
       "      <th>20638</th>\n",
       "      <td>39.43</td>\n",
       "      <td>1860.0</td>\n",
       "    </tr>\n",
       "    <tr>\n",
       "      <th>20639</th>\n",
       "      <td>39.37</td>\n",
       "      <td>2785.0</td>\n",
       "    </tr>\n",
       "  </tbody>\n",
       "</table>\n",
       "<p>20640 rows × 2 columns</p>\n",
       "</div>"
      ],
      "text/plain": [
       "       latitude  total_rooms\n",
       "0         37.88        880.0\n",
       "1         37.86       7099.0\n",
       "2         37.85       1467.0\n",
       "3         37.85       1274.0\n",
       "4         37.85       1627.0\n",
       "...         ...          ...\n",
       "20635     39.48       1665.0\n",
       "20636     39.49        697.0\n",
       "20637     39.43       2254.0\n",
       "20638     39.43       1860.0\n",
       "20639     39.37       2785.0\n",
       "\n",
       "[20640 rows x 2 columns]"
      ]
     },
     "execution_count": 79,
     "metadata": {},
     "output_type": "execute_result"
    }
   ],
   "source": [
    "df.iloc[ : , [1,3]  ]"
   ]
  },
  {
   "cell_type": "code",
   "execution_count": 80,
   "metadata": {
    "id": "QwHdd263Lkf2",
    "outputId": "e097ecb5-8ad0-4500-916a-d6b67322483b"
   },
   "outputs": [
    {
     "data": {
      "text/html": [
       "<div>\n",
       "<style scoped>\n",
       "    .dataframe tbody tr th:only-of-type {\n",
       "        vertical-align: middle;\n",
       "    }\n",
       "\n",
       "    .dataframe tbody tr th {\n",
       "        vertical-align: top;\n",
       "    }\n",
       "\n",
       "    .dataframe thead th {\n",
       "        text-align: right;\n",
       "    }\n",
       "</style>\n",
       "<table border=\"1\" class=\"dataframe\">\n",
       "  <thead>\n",
       "    <tr style=\"text-align: right;\">\n",
       "      <th></th>\n",
       "      <th>housing_median_age</th>\n",
       "      <th>total_rooms</th>\n",
       "      <th>total_bedrooms</th>\n",
       "      <th>population</th>\n",
       "    </tr>\n",
       "  </thead>\n",
       "  <tbody>\n",
       "    <tr>\n",
       "      <th>0</th>\n",
       "      <td>41.0</td>\n",
       "      <td>880.0</td>\n",
       "      <td>129.0</td>\n",
       "      <td>322.0</td>\n",
       "    </tr>\n",
       "    <tr>\n",
       "      <th>1</th>\n",
       "      <td>21.0</td>\n",
       "      <td>7099.0</td>\n",
       "      <td>1106.0</td>\n",
       "      <td>2401.0</td>\n",
       "    </tr>\n",
       "    <tr>\n",
       "      <th>2</th>\n",
       "      <td>52.0</td>\n",
       "      <td>1467.0</td>\n",
       "      <td>190.0</td>\n",
       "      <td>496.0</td>\n",
       "    </tr>\n",
       "    <tr>\n",
       "      <th>3</th>\n",
       "      <td>52.0</td>\n",
       "      <td>1274.0</td>\n",
       "      <td>235.0</td>\n",
       "      <td>558.0</td>\n",
       "    </tr>\n",
       "    <tr>\n",
       "      <th>4</th>\n",
       "      <td>52.0</td>\n",
       "      <td>1627.0</td>\n",
       "      <td>280.0</td>\n",
       "      <td>565.0</td>\n",
       "    </tr>\n",
       "    <tr>\n",
       "      <th>...</th>\n",
       "      <td>...</td>\n",
       "      <td>...</td>\n",
       "      <td>...</td>\n",
       "      <td>...</td>\n",
       "    </tr>\n",
       "    <tr>\n",
       "      <th>20635</th>\n",
       "      <td>25.0</td>\n",
       "      <td>1665.0</td>\n",
       "      <td>374.0</td>\n",
       "      <td>845.0</td>\n",
       "    </tr>\n",
       "    <tr>\n",
       "      <th>20636</th>\n",
       "      <td>18.0</td>\n",
       "      <td>697.0</td>\n",
       "      <td>150.0</td>\n",
       "      <td>356.0</td>\n",
       "    </tr>\n",
       "    <tr>\n",
       "      <th>20637</th>\n",
       "      <td>17.0</td>\n",
       "      <td>2254.0</td>\n",
       "      <td>485.0</td>\n",
       "      <td>1007.0</td>\n",
       "    </tr>\n",
       "    <tr>\n",
       "      <th>20638</th>\n",
       "      <td>18.0</td>\n",
       "      <td>1860.0</td>\n",
       "      <td>409.0</td>\n",
       "      <td>741.0</td>\n",
       "    </tr>\n",
       "    <tr>\n",
       "      <th>20639</th>\n",
       "      <td>16.0</td>\n",
       "      <td>2785.0</td>\n",
       "      <td>616.0</td>\n",
       "      <td>1387.0</td>\n",
       "    </tr>\n",
       "  </tbody>\n",
       "</table>\n",
       "<p>20640 rows × 4 columns</p>\n",
       "</div>"
      ],
      "text/plain": [
       "       housing_median_age  total_rooms  total_bedrooms  population\n",
       "0                    41.0        880.0           129.0       322.0\n",
       "1                    21.0       7099.0          1106.0      2401.0\n",
       "2                    52.0       1467.0           190.0       496.0\n",
       "3                    52.0       1274.0           235.0       558.0\n",
       "4                    52.0       1627.0           280.0       565.0\n",
       "...                   ...          ...             ...         ...\n",
       "20635                25.0       1665.0           374.0       845.0\n",
       "20636                18.0        697.0           150.0       356.0\n",
       "20637                17.0       2254.0           485.0      1007.0\n",
       "20638                18.0       1860.0           409.0       741.0\n",
       "20639                16.0       2785.0           616.0      1387.0\n",
       "\n",
       "[20640 rows x 4 columns]"
      ]
     },
     "execution_count": 80,
     "metadata": {},
     "output_type": "execute_result"
    }
   ],
   "source": [
    "df.iloc[ : , 2:6  ]"
   ]
  },
  {
   "cell_type": "markdown",
   "metadata": {
    "id": "ro832x90Lkf2"
   },
   "source": [
    "### Selecting multiple rows\n",
    "\n",
    "In general, we can use the same properties as for lists, except to select a single row that is different:\n",
    "* To select from the first row to a limit we perform: <code>__dataframe[0:n]__</code>, similarly we can omit the zero and simply perform: <code>__dataframe[ :n]__</code>\n",
    "* To select from a row to the end we do: <code>__dataframe[n:]__</code>\n",
    "* To select a defined range of rows we do: <code>__dataframe[n:m]__</code>"
   ]
  },
  {
   "cell_type": "code",
   "execution_count": 81,
   "metadata": {
    "id": "ZUw7wMUILkf3",
    "outputId": "1a843a26-31f4-43c7-d405-308cc39bd77a"
   },
   "outputs": [
    {
     "data": {
      "text/html": [
       "<div>\n",
       "<style scoped>\n",
       "    .dataframe tbody tr th:only-of-type {\n",
       "        vertical-align: middle;\n",
       "    }\n",
       "\n",
       "    .dataframe tbody tr th {\n",
       "        vertical-align: top;\n",
       "    }\n",
       "\n",
       "    .dataframe thead th {\n",
       "        text-align: right;\n",
       "    }\n",
       "</style>\n",
       "<table border=\"1\" class=\"dataframe\">\n",
       "  <thead>\n",
       "    <tr style=\"text-align: right;\">\n",
       "      <th></th>\n",
       "      <th>longitude</th>\n",
       "      <th>latitude</th>\n",
       "      <th>housing_median_age</th>\n",
       "      <th>total_rooms</th>\n",
       "      <th>total_bedrooms</th>\n",
       "      <th>population</th>\n",
       "      <th>households</th>\n",
       "      <th>median_income</th>\n",
       "      <th>median_house_value</th>\n",
       "      <th>ocean_proximity</th>\n",
       "    </tr>\n",
       "  </thead>\n",
       "  <tbody>\n",
       "    <tr>\n",
       "      <th>0</th>\n",
       "      <td>-122.23</td>\n",
       "      <td>37.88</td>\n",
       "      <td>41.0</td>\n",
       "      <td>880.0</td>\n",
       "      <td>129.0</td>\n",
       "      <td>322.0</td>\n",
       "      <td>126.0</td>\n",
       "      <td>8.3252</td>\n",
       "      <td>452600.0</td>\n",
       "      <td>NEAR BAY</td>\n",
       "    </tr>\n",
       "    <tr>\n",
       "      <th>1</th>\n",
       "      <td>-122.22</td>\n",
       "      <td>37.86</td>\n",
       "      <td>21.0</td>\n",
       "      <td>7099.0</td>\n",
       "      <td>1106.0</td>\n",
       "      <td>2401.0</td>\n",
       "      <td>1138.0</td>\n",
       "      <td>8.3014</td>\n",
       "      <td>358500.0</td>\n",
       "      <td>NEAR BAY</td>\n",
       "    </tr>\n",
       "    <tr>\n",
       "      <th>2</th>\n",
       "      <td>-122.24</td>\n",
       "      <td>37.85</td>\n",
       "      <td>52.0</td>\n",
       "      <td>1467.0</td>\n",
       "      <td>190.0</td>\n",
       "      <td>496.0</td>\n",
       "      <td>177.0</td>\n",
       "      <td>7.2574</td>\n",
       "      <td>352100.0</td>\n",
       "      <td>NEAR BAY</td>\n",
       "    </tr>\n",
       "    <tr>\n",
       "      <th>3</th>\n",
       "      <td>-122.25</td>\n",
       "      <td>37.85</td>\n",
       "      <td>52.0</td>\n",
       "      <td>1274.0</td>\n",
       "      <td>235.0</td>\n",
       "      <td>558.0</td>\n",
       "      <td>219.0</td>\n",
       "      <td>5.6431</td>\n",
       "      <td>341300.0</td>\n",
       "      <td>NEAR BAY</td>\n",
       "    </tr>\n",
       "    <tr>\n",
       "      <th>4</th>\n",
       "      <td>-122.25</td>\n",
       "      <td>37.85</td>\n",
       "      <td>52.0</td>\n",
       "      <td>1627.0</td>\n",
       "      <td>280.0</td>\n",
       "      <td>565.0</td>\n",
       "      <td>259.0</td>\n",
       "      <td>3.8462</td>\n",
       "      <td>342200.0</td>\n",
       "      <td>NEAR BAY</td>\n",
       "    </tr>\n",
       "    <tr>\n",
       "      <th>5</th>\n",
       "      <td>-122.25</td>\n",
       "      <td>37.85</td>\n",
       "      <td>52.0</td>\n",
       "      <td>919.0</td>\n",
       "      <td>213.0</td>\n",
       "      <td>413.0</td>\n",
       "      <td>193.0</td>\n",
       "      <td>4.0368</td>\n",
       "      <td>269700.0</td>\n",
       "      <td>NEAR BAY</td>\n",
       "    </tr>\n",
       "    <tr>\n",
       "      <th>6</th>\n",
       "      <td>-122.25</td>\n",
       "      <td>37.84</td>\n",
       "      <td>52.0</td>\n",
       "      <td>2535.0</td>\n",
       "      <td>489.0</td>\n",
       "      <td>1094.0</td>\n",
       "      <td>514.0</td>\n",
       "      <td>3.6591</td>\n",
       "      <td>299200.0</td>\n",
       "      <td>NEAR BAY</td>\n",
       "    </tr>\n",
       "    <tr>\n",
       "      <th>7</th>\n",
       "      <td>-122.25</td>\n",
       "      <td>37.84</td>\n",
       "      <td>52.0</td>\n",
       "      <td>3104.0</td>\n",
       "      <td>687.0</td>\n",
       "      <td>1157.0</td>\n",
       "      <td>647.0</td>\n",
       "      <td>3.1200</td>\n",
       "      <td>241400.0</td>\n",
       "      <td>NEAR BAY</td>\n",
       "    </tr>\n",
       "    <tr>\n",
       "      <th>8</th>\n",
       "      <td>-122.26</td>\n",
       "      <td>37.84</td>\n",
       "      <td>42.0</td>\n",
       "      <td>2555.0</td>\n",
       "      <td>665.0</td>\n",
       "      <td>1206.0</td>\n",
       "      <td>595.0</td>\n",
       "      <td>2.0804</td>\n",
       "      <td>226700.0</td>\n",
       "      <td>NEAR BAY</td>\n",
       "    </tr>\n",
       "    <tr>\n",
       "      <th>9</th>\n",
       "      <td>-122.25</td>\n",
       "      <td>37.84</td>\n",
       "      <td>52.0</td>\n",
       "      <td>3549.0</td>\n",
       "      <td>707.0</td>\n",
       "      <td>1551.0</td>\n",
       "      <td>714.0</td>\n",
       "      <td>3.6912</td>\n",
       "      <td>261100.0</td>\n",
       "      <td>NEAR BAY</td>\n",
       "    </tr>\n",
       "  </tbody>\n",
       "</table>\n",
       "</div>"
      ],
      "text/plain": [
       "   longitude  latitude  housing_median_age  total_rooms  total_bedrooms  \\\n",
       "0    -122.23     37.88                41.0        880.0           129.0   \n",
       "1    -122.22     37.86                21.0       7099.0          1106.0   \n",
       "2    -122.24     37.85                52.0       1467.0           190.0   \n",
       "3    -122.25     37.85                52.0       1274.0           235.0   \n",
       "4    -122.25     37.85                52.0       1627.0           280.0   \n",
       "5    -122.25     37.85                52.0        919.0           213.0   \n",
       "6    -122.25     37.84                52.0       2535.0           489.0   \n",
       "7    -122.25     37.84                52.0       3104.0           687.0   \n",
       "8    -122.26     37.84                42.0       2555.0           665.0   \n",
       "9    -122.25     37.84                52.0       3549.0           707.0   \n",
       "\n",
       "   population  households  median_income  median_house_value ocean_proximity  \n",
       "0       322.0       126.0         8.3252            452600.0        NEAR BAY  \n",
       "1      2401.0      1138.0         8.3014            358500.0        NEAR BAY  \n",
       "2       496.0       177.0         7.2574            352100.0        NEAR BAY  \n",
       "3       558.0       219.0         5.6431            341300.0        NEAR BAY  \n",
       "4       565.0       259.0         3.8462            342200.0        NEAR BAY  \n",
       "5       413.0       193.0         4.0368            269700.0        NEAR BAY  \n",
       "6      1094.0       514.0         3.6591            299200.0        NEAR BAY  \n",
       "7      1157.0       647.0         3.1200            241400.0        NEAR BAY  \n",
       "8      1206.0       595.0         2.0804            226700.0        NEAR BAY  \n",
       "9      1551.0       714.0         3.6912            261100.0        NEAR BAY  "
      ]
     },
     "execution_count": 81,
     "metadata": {},
     "output_type": "execute_result"
    }
   ],
   "source": [
    "df[0:10]"
   ]
  },
  {
   "cell_type": "code",
   "execution_count": 82,
   "metadata": {
    "id": "czJYge38Lkf4",
    "outputId": "a2e1ff30-f518-408e-86cb-ae60c0206b86"
   },
   "outputs": [
    {
     "data": {
      "text/html": [
       "<div>\n",
       "<style scoped>\n",
       "    .dataframe tbody tr th:only-of-type {\n",
       "        vertical-align: middle;\n",
       "    }\n",
       "\n",
       "    .dataframe tbody tr th {\n",
       "        vertical-align: top;\n",
       "    }\n",
       "\n",
       "    .dataframe thead th {\n",
       "        text-align: right;\n",
       "    }\n",
       "</style>\n",
       "<table border=\"1\" class=\"dataframe\">\n",
       "  <thead>\n",
       "    <tr style=\"text-align: right;\">\n",
       "      <th></th>\n",
       "      <th>longitude</th>\n",
       "      <th>latitude</th>\n",
       "      <th>housing_median_age</th>\n",
       "      <th>total_rooms</th>\n",
       "      <th>total_bedrooms</th>\n",
       "      <th>population</th>\n",
       "      <th>households</th>\n",
       "      <th>median_income</th>\n",
       "      <th>median_house_value</th>\n",
       "      <th>ocean_proximity</th>\n",
       "    </tr>\n",
       "  </thead>\n",
       "  <tbody>\n",
       "    <tr>\n",
       "      <th>0</th>\n",
       "      <td>-122.23</td>\n",
       "      <td>37.88</td>\n",
       "      <td>41.0</td>\n",
       "      <td>880.0</td>\n",
       "      <td>129.0</td>\n",
       "      <td>322.0</td>\n",
       "      <td>126.0</td>\n",
       "      <td>8.3252</td>\n",
       "      <td>452600.0</td>\n",
       "      <td>NEAR BAY</td>\n",
       "    </tr>\n",
       "    <tr>\n",
       "      <th>1</th>\n",
       "      <td>-122.22</td>\n",
       "      <td>37.86</td>\n",
       "      <td>21.0</td>\n",
       "      <td>7099.0</td>\n",
       "      <td>1106.0</td>\n",
       "      <td>2401.0</td>\n",
       "      <td>1138.0</td>\n",
       "      <td>8.3014</td>\n",
       "      <td>358500.0</td>\n",
       "      <td>NEAR BAY</td>\n",
       "    </tr>\n",
       "    <tr>\n",
       "      <th>2</th>\n",
       "      <td>-122.24</td>\n",
       "      <td>37.85</td>\n",
       "      <td>52.0</td>\n",
       "      <td>1467.0</td>\n",
       "      <td>190.0</td>\n",
       "      <td>496.0</td>\n",
       "      <td>177.0</td>\n",
       "      <td>7.2574</td>\n",
       "      <td>352100.0</td>\n",
       "      <td>NEAR BAY</td>\n",
       "    </tr>\n",
       "    <tr>\n",
       "      <th>3</th>\n",
       "      <td>-122.25</td>\n",
       "      <td>37.85</td>\n",
       "      <td>52.0</td>\n",
       "      <td>1274.0</td>\n",
       "      <td>235.0</td>\n",
       "      <td>558.0</td>\n",
       "      <td>219.0</td>\n",
       "      <td>5.6431</td>\n",
       "      <td>341300.0</td>\n",
       "      <td>NEAR BAY</td>\n",
       "    </tr>\n",
       "    <tr>\n",
       "      <th>4</th>\n",
       "      <td>-122.25</td>\n",
       "      <td>37.85</td>\n",
       "      <td>52.0</td>\n",
       "      <td>1627.0</td>\n",
       "      <td>280.0</td>\n",
       "      <td>565.0</td>\n",
       "      <td>259.0</td>\n",
       "      <td>3.8462</td>\n",
       "      <td>342200.0</td>\n",
       "      <td>NEAR BAY</td>\n",
       "    </tr>\n",
       "    <tr>\n",
       "      <th>...</th>\n",
       "      <td>...</td>\n",
       "      <td>...</td>\n",
       "      <td>...</td>\n",
       "      <td>...</td>\n",
       "      <td>...</td>\n",
       "      <td>...</td>\n",
       "      <td>...</td>\n",
       "      <td>...</td>\n",
       "      <td>...</td>\n",
       "      <td>...</td>\n",
       "    </tr>\n",
       "    <tr>\n",
       "      <th>95</th>\n",
       "      <td>-122.26</td>\n",
       "      <td>37.80</td>\n",
       "      <td>36.0</td>\n",
       "      <td>5329.0</td>\n",
       "      <td>2477.0</td>\n",
       "      <td>3469.0</td>\n",
       "      <td>2323.0</td>\n",
       "      <td>2.0096</td>\n",
       "      <td>130000.0</td>\n",
       "      <td>NEAR BAY</td>\n",
       "    </tr>\n",
       "    <tr>\n",
       "      <th>96</th>\n",
       "      <td>-122.26</td>\n",
       "      <td>37.82</td>\n",
       "      <td>31.0</td>\n",
       "      <td>4596.0</td>\n",
       "      <td>1331.0</td>\n",
       "      <td>2048.0</td>\n",
       "      <td>1180.0</td>\n",
       "      <td>2.8345</td>\n",
       "      <td>183800.0</td>\n",
       "      <td>NEAR BAY</td>\n",
       "    </tr>\n",
       "    <tr>\n",
       "      <th>97</th>\n",
       "      <td>-122.26</td>\n",
       "      <td>37.81</td>\n",
       "      <td>29.0</td>\n",
       "      <td>335.0</td>\n",
       "      <td>107.0</td>\n",
       "      <td>202.0</td>\n",
       "      <td>91.0</td>\n",
       "      <td>2.0062</td>\n",
       "      <td>125000.0</td>\n",
       "      <td>NEAR BAY</td>\n",
       "    </tr>\n",
       "    <tr>\n",
       "      <th>98</th>\n",
       "      <td>-122.26</td>\n",
       "      <td>37.82</td>\n",
       "      <td>22.0</td>\n",
       "      <td>3682.0</td>\n",
       "      <td>1270.0</td>\n",
       "      <td>2024.0</td>\n",
       "      <td>1250.0</td>\n",
       "      <td>1.2185</td>\n",
       "      <td>170000.0</td>\n",
       "      <td>NEAR BAY</td>\n",
       "    </tr>\n",
       "    <tr>\n",
       "      <th>99</th>\n",
       "      <td>-122.26</td>\n",
       "      <td>37.82</td>\n",
       "      <td>37.0</td>\n",
       "      <td>3633.0</td>\n",
       "      <td>1085.0</td>\n",
       "      <td>1838.0</td>\n",
       "      <td>980.0</td>\n",
       "      <td>2.6104</td>\n",
       "      <td>193100.0</td>\n",
       "      <td>NEAR BAY</td>\n",
       "    </tr>\n",
       "  </tbody>\n",
       "</table>\n",
       "<p>100 rows × 10 columns</p>\n",
       "</div>"
      ],
      "text/plain": [
       "    longitude  latitude  housing_median_age  total_rooms  total_bedrooms  \\\n",
       "0     -122.23     37.88                41.0        880.0           129.0   \n",
       "1     -122.22     37.86                21.0       7099.0          1106.0   \n",
       "2     -122.24     37.85                52.0       1467.0           190.0   \n",
       "3     -122.25     37.85                52.0       1274.0           235.0   \n",
       "4     -122.25     37.85                52.0       1627.0           280.0   \n",
       "..        ...       ...                 ...          ...             ...   \n",
       "95    -122.26     37.80                36.0       5329.0          2477.0   \n",
       "96    -122.26     37.82                31.0       4596.0          1331.0   \n",
       "97    -122.26     37.81                29.0        335.0           107.0   \n",
       "98    -122.26     37.82                22.0       3682.0          1270.0   \n",
       "99    -122.26     37.82                37.0       3633.0          1085.0   \n",
       "\n",
       "    population  households  median_income  median_house_value ocean_proximity  \n",
       "0        322.0       126.0         8.3252            452600.0        NEAR BAY  \n",
       "1       2401.0      1138.0         8.3014            358500.0        NEAR BAY  \n",
       "2        496.0       177.0         7.2574            352100.0        NEAR BAY  \n",
       "3        558.0       219.0         5.6431            341300.0        NEAR BAY  \n",
       "4        565.0       259.0         3.8462            342200.0        NEAR BAY  \n",
       "..         ...         ...            ...                 ...             ...  \n",
       "95      3469.0      2323.0         2.0096            130000.0        NEAR BAY  \n",
       "96      2048.0      1180.0         2.8345            183800.0        NEAR BAY  \n",
       "97       202.0        91.0         2.0062            125000.0        NEAR BAY  \n",
       "98      2024.0      1250.0         1.2185            170000.0        NEAR BAY  \n",
       "99      1838.0       980.0         2.6104            193100.0        NEAR BAY  \n",
       "\n",
       "[100 rows x 10 columns]"
      ]
     },
     "execution_count": 82,
     "metadata": {},
     "output_type": "execute_result"
    }
   ],
   "source": [
    "df[ : 100]"
   ]
  },
  {
   "cell_type": "code",
   "execution_count": 83,
   "metadata": {
    "id": "OwmXJTDxLkf4",
    "outputId": "a84f7f6a-cc75-428b-97f0-277d3cb6122a"
   },
   "outputs": [
    {
     "data": {
      "text/html": [
       "<div>\n",
       "<style scoped>\n",
       "    .dataframe tbody tr th:only-of-type {\n",
       "        vertical-align: middle;\n",
       "    }\n",
       "\n",
       "    .dataframe tbody tr th {\n",
       "        vertical-align: top;\n",
       "    }\n",
       "\n",
       "    .dataframe thead th {\n",
       "        text-align: right;\n",
       "    }\n",
       "</style>\n",
       "<table border=\"1\" class=\"dataframe\">\n",
       "  <thead>\n",
       "    <tr style=\"text-align: right;\">\n",
       "      <th></th>\n",
       "      <th>longitude</th>\n",
       "      <th>latitude</th>\n",
       "      <th>housing_median_age</th>\n",
       "      <th>total_rooms</th>\n",
       "      <th>total_bedrooms</th>\n",
       "      <th>population</th>\n",
       "      <th>households</th>\n",
       "      <th>median_income</th>\n",
       "      <th>median_house_value</th>\n",
       "      <th>ocean_proximity</th>\n",
       "    </tr>\n",
       "  </thead>\n",
       "  <tbody>\n",
       "    <tr>\n",
       "      <th>0</th>\n",
       "      <td>-122.23</td>\n",
       "      <td>37.88</td>\n",
       "      <td>41.0</td>\n",
       "      <td>880.0</td>\n",
       "      <td>129.0</td>\n",
       "      <td>322.0</td>\n",
       "      <td>126.0</td>\n",
       "      <td>8.3252</td>\n",
       "      <td>452600.0</td>\n",
       "      <td>NEAR BAY</td>\n",
       "    </tr>\n",
       "    <tr>\n",
       "      <th>2</th>\n",
       "      <td>-122.24</td>\n",
       "      <td>37.85</td>\n",
       "      <td>52.0</td>\n",
       "      <td>1467.0</td>\n",
       "      <td>190.0</td>\n",
       "      <td>496.0</td>\n",
       "      <td>177.0</td>\n",
       "      <td>7.2574</td>\n",
       "      <td>352100.0</td>\n",
       "      <td>NEAR BAY</td>\n",
       "    </tr>\n",
       "    <tr>\n",
       "      <th>4</th>\n",
       "      <td>-122.25</td>\n",
       "      <td>37.85</td>\n",
       "      <td>52.0</td>\n",
       "      <td>1627.0</td>\n",
       "      <td>280.0</td>\n",
       "      <td>565.0</td>\n",
       "      <td>259.0</td>\n",
       "      <td>3.8462</td>\n",
       "      <td>342200.0</td>\n",
       "      <td>NEAR BAY</td>\n",
       "    </tr>\n",
       "    <tr>\n",
       "      <th>6</th>\n",
       "      <td>-122.25</td>\n",
       "      <td>37.84</td>\n",
       "      <td>52.0</td>\n",
       "      <td>2535.0</td>\n",
       "      <td>489.0</td>\n",
       "      <td>1094.0</td>\n",
       "      <td>514.0</td>\n",
       "      <td>3.6591</td>\n",
       "      <td>299200.0</td>\n",
       "      <td>NEAR BAY</td>\n",
       "    </tr>\n",
       "    <tr>\n",
       "      <th>8</th>\n",
       "      <td>-122.26</td>\n",
       "      <td>37.84</td>\n",
       "      <td>42.0</td>\n",
       "      <td>2555.0</td>\n",
       "      <td>665.0</td>\n",
       "      <td>1206.0</td>\n",
       "      <td>595.0</td>\n",
       "      <td>2.0804</td>\n",
       "      <td>226700.0</td>\n",
       "      <td>NEAR BAY</td>\n",
       "    </tr>\n",
       "    <tr>\n",
       "      <th>...</th>\n",
       "      <td>...</td>\n",
       "      <td>...</td>\n",
       "      <td>...</td>\n",
       "      <td>...</td>\n",
       "      <td>...</td>\n",
       "      <td>...</td>\n",
       "      <td>...</td>\n",
       "      <td>...</td>\n",
       "      <td>...</td>\n",
       "      <td>...</td>\n",
       "    </tr>\n",
       "    <tr>\n",
       "      <th>190</th>\n",
       "      <td>-122.24</td>\n",
       "      <td>37.79</td>\n",
       "      <td>52.0</td>\n",
       "      <td>674.0</td>\n",
       "      <td>180.0</td>\n",
       "      <td>647.0</td>\n",
       "      <td>168.0</td>\n",
       "      <td>3.3750</td>\n",
       "      <td>116100.0</td>\n",
       "      <td>NEAR BAY</td>\n",
       "    </tr>\n",
       "    <tr>\n",
       "      <th>192</th>\n",
       "      <td>-122.25</td>\n",
       "      <td>37.79</td>\n",
       "      <td>51.0</td>\n",
       "      <td>175.0</td>\n",
       "      <td>43.0</td>\n",
       "      <td>228.0</td>\n",
       "      <td>55.0</td>\n",
       "      <td>2.1000</td>\n",
       "      <td>75000.0</td>\n",
       "      <td>NEAR BAY</td>\n",
       "    </tr>\n",
       "    <tr>\n",
       "      <th>194</th>\n",
       "      <td>-122.25</td>\n",
       "      <td>37.79</td>\n",
       "      <td>52.0</td>\n",
       "      <td>902.0</td>\n",
       "      <td>237.0</td>\n",
       "      <td>846.0</td>\n",
       "      <td>227.0</td>\n",
       "      <td>3.6250</td>\n",
       "      <td>125000.0</td>\n",
       "      <td>NEAR BAY</td>\n",
       "    </tr>\n",
       "    <tr>\n",
       "      <th>196</th>\n",
       "      <td>-122.22</td>\n",
       "      <td>37.77</td>\n",
       "      <td>52.0</td>\n",
       "      <td>391.0</td>\n",
       "      <td>128.0</td>\n",
       "      <td>520.0</td>\n",
       "      <td>138.0</td>\n",
       "      <td>1.6471</td>\n",
       "      <td>95000.0</td>\n",
       "      <td>NEAR BAY</td>\n",
       "    </tr>\n",
       "    <tr>\n",
       "      <th>198</th>\n",
       "      <td>-122.23</td>\n",
       "      <td>37.77</td>\n",
       "      <td>52.0</td>\n",
       "      <td>769.0</td>\n",
       "      <td>206.0</td>\n",
       "      <td>612.0</td>\n",
       "      <td>183.0</td>\n",
       "      <td>2.5700</td>\n",
       "      <td>72000.0</td>\n",
       "      <td>NEAR BAY</td>\n",
       "    </tr>\n",
       "  </tbody>\n",
       "</table>\n",
       "<p>100 rows × 10 columns</p>\n",
       "</div>"
      ],
      "text/plain": [
       "     longitude  latitude  housing_median_age  total_rooms  total_bedrooms  \\\n",
       "0      -122.23     37.88                41.0        880.0           129.0   \n",
       "2      -122.24     37.85                52.0       1467.0           190.0   \n",
       "4      -122.25     37.85                52.0       1627.0           280.0   \n",
       "6      -122.25     37.84                52.0       2535.0           489.0   \n",
       "8      -122.26     37.84                42.0       2555.0           665.0   \n",
       "..         ...       ...                 ...          ...             ...   \n",
       "190    -122.24     37.79                52.0        674.0           180.0   \n",
       "192    -122.25     37.79                51.0        175.0            43.0   \n",
       "194    -122.25     37.79                52.0        902.0           237.0   \n",
       "196    -122.22     37.77                52.0        391.0           128.0   \n",
       "198    -122.23     37.77                52.0        769.0           206.0   \n",
       "\n",
       "     population  households  median_income  median_house_value ocean_proximity  \n",
       "0         322.0       126.0         8.3252            452600.0        NEAR BAY  \n",
       "2         496.0       177.0         7.2574            352100.0        NEAR BAY  \n",
       "4         565.0       259.0         3.8462            342200.0        NEAR BAY  \n",
       "6        1094.0       514.0         3.6591            299200.0        NEAR BAY  \n",
       "8        1206.0       595.0         2.0804            226700.0        NEAR BAY  \n",
       "..          ...         ...            ...                 ...             ...  \n",
       "190       647.0       168.0         3.3750            116100.0        NEAR BAY  \n",
       "192       228.0        55.0         2.1000             75000.0        NEAR BAY  \n",
       "194       846.0       227.0         3.6250            125000.0        NEAR BAY  \n",
       "196       520.0       138.0         1.6471             95000.0        NEAR BAY  \n",
       "198       612.0       183.0         2.5700             72000.0        NEAR BAY  \n",
       "\n",
       "[100 rows x 10 columns]"
      ]
     },
     "execution_count": 83,
     "metadata": {},
     "output_type": "execute_result"
    }
   ],
   "source": [
    "df[:200:2]"
   ]
  },
  {
   "cell_type": "code",
   "execution_count": 84,
   "metadata": {
    "id": "YEK9SJdTLkf5",
    "outputId": "b8f62522-bf04-4c34-b693-9d80f5a3d8b8"
   },
   "outputs": [
    {
     "data": {
      "text/html": [
       "<div>\n",
       "<style scoped>\n",
       "    .dataframe tbody tr th:only-of-type {\n",
       "        vertical-align: middle;\n",
       "    }\n",
       "\n",
       "    .dataframe tbody tr th {\n",
       "        vertical-align: top;\n",
       "    }\n",
       "\n",
       "    .dataframe thead th {\n",
       "        text-align: right;\n",
       "    }\n",
       "</style>\n",
       "<table border=\"1\" class=\"dataframe\">\n",
       "  <thead>\n",
       "    <tr style=\"text-align: right;\">\n",
       "      <th></th>\n",
       "      <th>longitude</th>\n",
       "      <th>latitude</th>\n",
       "      <th>housing_median_age</th>\n",
       "      <th>total_rooms</th>\n",
       "      <th>total_bedrooms</th>\n",
       "      <th>population</th>\n",
       "      <th>households</th>\n",
       "      <th>median_income</th>\n",
       "      <th>median_house_value</th>\n",
       "      <th>ocean_proximity</th>\n",
       "    </tr>\n",
       "  </thead>\n",
       "  <tbody>\n",
       "    <tr>\n",
       "      <th>20300</th>\n",
       "      <td>-119.19</td>\n",
       "      <td>34.15</td>\n",
       "      <td>31.0</td>\n",
       "      <td>4175.0</td>\n",
       "      <td>1004.0</td>\n",
       "      <td>3310.0</td>\n",
       "      <td>954.0</td>\n",
       "      <td>3.1989</td>\n",
       "      <td>185400.0</td>\n",
       "      <td>NEAR OCEAN</td>\n",
       "    </tr>\n",
       "    <tr>\n",
       "      <th>20301</th>\n",
       "      <td>-119.20</td>\n",
       "      <td>34.15</td>\n",
       "      <td>27.0</td>\n",
       "      <td>2076.0</td>\n",
       "      <td>681.0</td>\n",
       "      <td>1904.0</td>\n",
       "      <td>647.0</td>\n",
       "      <td>1.4773</td>\n",
       "      <td>160800.0</td>\n",
       "      <td>NEAR OCEAN</td>\n",
       "    </tr>\n",
       "    <tr>\n",
       "      <th>20302</th>\n",
       "      <td>-119.21</td>\n",
       "      <td>34.12</td>\n",
       "      <td>15.0</td>\n",
       "      <td>5778.0</td>\n",
       "      <td>1285.0</td>\n",
       "      <td>1722.0</td>\n",
       "      <td>829.0</td>\n",
       "      <td>4.3427</td>\n",
       "      <td>305800.0</td>\n",
       "      <td>NEAR OCEAN</td>\n",
       "    </tr>\n",
       "    <tr>\n",
       "      <th>20303</th>\n",
       "      <td>-119.18</td>\n",
       "      <td>34.16</td>\n",
       "      <td>12.0</td>\n",
       "      <td>460.0</td>\n",
       "      <td>101.0</td>\n",
       "      <td>405.0</td>\n",
       "      <td>103.0</td>\n",
       "      <td>5.2783</td>\n",
       "      <td>167400.0</td>\n",
       "      <td>NEAR OCEAN</td>\n",
       "    </tr>\n",
       "    <tr>\n",
       "      <th>20304</th>\n",
       "      <td>-119.18</td>\n",
       "      <td>34.16</td>\n",
       "      <td>27.0</td>\n",
       "      <td>1832.0</td>\n",
       "      <td>415.0</td>\n",
       "      <td>1480.0</td>\n",
       "      <td>414.0</td>\n",
       "      <td>3.9643</td>\n",
       "      <td>186000.0</td>\n",
       "      <td>NEAR OCEAN</td>\n",
       "    </tr>\n",
       "    <tr>\n",
       "      <th>...</th>\n",
       "      <td>...</td>\n",
       "      <td>...</td>\n",
       "      <td>...</td>\n",
       "      <td>...</td>\n",
       "      <td>...</td>\n",
       "      <td>...</td>\n",
       "      <td>...</td>\n",
       "      <td>...</td>\n",
       "      <td>...</td>\n",
       "      <td>...</td>\n",
       "    </tr>\n",
       "    <tr>\n",
       "      <th>20635</th>\n",
       "      <td>-121.09</td>\n",
       "      <td>39.48</td>\n",
       "      <td>25.0</td>\n",
       "      <td>1665.0</td>\n",
       "      <td>374.0</td>\n",
       "      <td>845.0</td>\n",
       "      <td>330.0</td>\n",
       "      <td>1.5603</td>\n",
       "      <td>78100.0</td>\n",
       "      <td>INLAND</td>\n",
       "    </tr>\n",
       "    <tr>\n",
       "      <th>20636</th>\n",
       "      <td>-121.21</td>\n",
       "      <td>39.49</td>\n",
       "      <td>18.0</td>\n",
       "      <td>697.0</td>\n",
       "      <td>150.0</td>\n",
       "      <td>356.0</td>\n",
       "      <td>114.0</td>\n",
       "      <td>2.5568</td>\n",
       "      <td>77100.0</td>\n",
       "      <td>INLAND</td>\n",
       "    </tr>\n",
       "    <tr>\n",
       "      <th>20637</th>\n",
       "      <td>-121.22</td>\n",
       "      <td>39.43</td>\n",
       "      <td>17.0</td>\n",
       "      <td>2254.0</td>\n",
       "      <td>485.0</td>\n",
       "      <td>1007.0</td>\n",
       "      <td>433.0</td>\n",
       "      <td>1.7000</td>\n",
       "      <td>92300.0</td>\n",
       "      <td>INLAND</td>\n",
       "    </tr>\n",
       "    <tr>\n",
       "      <th>20638</th>\n",
       "      <td>-121.32</td>\n",
       "      <td>39.43</td>\n",
       "      <td>18.0</td>\n",
       "      <td>1860.0</td>\n",
       "      <td>409.0</td>\n",
       "      <td>741.0</td>\n",
       "      <td>349.0</td>\n",
       "      <td>1.8672</td>\n",
       "      <td>84700.0</td>\n",
       "      <td>INLAND</td>\n",
       "    </tr>\n",
       "    <tr>\n",
       "      <th>20639</th>\n",
       "      <td>-121.24</td>\n",
       "      <td>39.37</td>\n",
       "      <td>16.0</td>\n",
       "      <td>2785.0</td>\n",
       "      <td>616.0</td>\n",
       "      <td>1387.0</td>\n",
       "      <td>530.0</td>\n",
       "      <td>2.3886</td>\n",
       "      <td>89400.0</td>\n",
       "      <td>INLAND</td>\n",
       "    </tr>\n",
       "  </tbody>\n",
       "</table>\n",
       "<p>340 rows × 10 columns</p>\n",
       "</div>"
      ],
      "text/plain": [
       "       longitude  latitude  housing_median_age  total_rooms  total_bedrooms  \\\n",
       "20300    -119.19     34.15                31.0       4175.0          1004.0   \n",
       "20301    -119.20     34.15                27.0       2076.0           681.0   \n",
       "20302    -119.21     34.12                15.0       5778.0          1285.0   \n",
       "20303    -119.18     34.16                12.0        460.0           101.0   \n",
       "20304    -119.18     34.16                27.0       1832.0           415.0   \n",
       "...          ...       ...                 ...          ...             ...   \n",
       "20635    -121.09     39.48                25.0       1665.0           374.0   \n",
       "20636    -121.21     39.49                18.0        697.0           150.0   \n",
       "20637    -121.22     39.43                17.0       2254.0           485.0   \n",
       "20638    -121.32     39.43                18.0       1860.0           409.0   \n",
       "20639    -121.24     39.37                16.0       2785.0           616.0   \n",
       "\n",
       "       population  households  median_income  median_house_value  \\\n",
       "20300      3310.0       954.0         3.1989            185400.0   \n",
       "20301      1904.0       647.0         1.4773            160800.0   \n",
       "20302      1722.0       829.0         4.3427            305800.0   \n",
       "20303       405.0       103.0         5.2783            167400.0   \n",
       "20304      1480.0       414.0         3.9643            186000.0   \n",
       "...           ...         ...            ...                 ...   \n",
       "20635       845.0       330.0         1.5603             78100.0   \n",
       "20636       356.0       114.0         2.5568             77100.0   \n",
       "20637      1007.0       433.0         1.7000             92300.0   \n",
       "20638       741.0       349.0         1.8672             84700.0   \n",
       "20639      1387.0       530.0         2.3886             89400.0   \n",
       "\n",
       "      ocean_proximity  \n",
       "20300      NEAR OCEAN  \n",
       "20301      NEAR OCEAN  \n",
       "20302      NEAR OCEAN  \n",
       "20303      NEAR OCEAN  \n",
       "20304      NEAR OCEAN  \n",
       "...               ...  \n",
       "20635          INLAND  \n",
       "20636          INLAND  \n",
       "20637          INLAND  \n",
       "20638          INLAND  \n",
       "20639          INLAND  \n",
       "\n",
       "[340 rows x 10 columns]"
      ]
     },
     "execution_count": 84,
     "metadata": {},
     "output_type": "execute_result"
    }
   ],
   "source": [
    "df[20300: ]"
   ]
  },
  {
   "cell_type": "code",
   "execution_count": 85,
   "metadata": {
    "id": "dx_NyRfyLkf5",
    "outputId": "7f80afa6-8ab7-4e12-c08e-20ee20ee260b"
   },
   "outputs": [
    {
     "data": {
      "text/html": [
       "<div>\n",
       "<style scoped>\n",
       "    .dataframe tbody tr th:only-of-type {\n",
       "        vertical-align: middle;\n",
       "    }\n",
       "\n",
       "    .dataframe tbody tr th {\n",
       "        vertical-align: top;\n",
       "    }\n",
       "\n",
       "    .dataframe thead th {\n",
       "        text-align: right;\n",
       "    }\n",
       "</style>\n",
       "<table border=\"1\" class=\"dataframe\">\n",
       "  <thead>\n",
       "    <tr style=\"text-align: right;\">\n",
       "      <th></th>\n",
       "      <th>longitude</th>\n",
       "      <th>latitude</th>\n",
       "      <th>housing_median_age</th>\n",
       "      <th>total_rooms</th>\n",
       "      <th>total_bedrooms</th>\n",
       "      <th>population</th>\n",
       "      <th>households</th>\n",
       "      <th>median_income</th>\n",
       "      <th>median_house_value</th>\n",
       "      <th>ocean_proximity</th>\n",
       "    </tr>\n",
       "  </thead>\n",
       "  <tbody>\n",
       "  </tbody>\n",
       "</table>\n",
       "</div>"
      ],
      "text/plain": [
       "Empty DataFrame\n",
       "Columns: [longitude, latitude, housing_median_age, total_rooms, total_bedrooms, population, households, median_income, median_house_value, ocean_proximity]\n",
       "Index: []"
      ]
     },
     "execution_count": 85,
     "metadata": {},
     "output_type": "execute_result"
    }
   ],
   "source": [
    "df[20300:20300]"
   ]
  },
  {
   "cell_type": "markdown",
   "metadata": {
    "id": "zz93f_doLkf6"
   },
   "source": [
    "To select a single row we cannot do the same operation as in the lists, index a single position <code>lista[n]</code>, since this does not return anything, for this, we have to select as a custom range the row we want to display plus one position <code>dataframe[n:n+1]</code>"
   ]
  },
  {
   "cell_type": "code",
   "execution_count": 86,
   "metadata": {
    "id": "6HpAxlwQLkf6",
    "outputId": "cc6f8dbd-80ac-4f7f-f03f-99a3f105a21e"
   },
   "outputs": [
    {
     "data": {
      "text/html": [
       "<div>\n",
       "<style scoped>\n",
       "    .dataframe tbody tr th:only-of-type {\n",
       "        vertical-align: middle;\n",
       "    }\n",
       "\n",
       "    .dataframe tbody tr th {\n",
       "        vertical-align: top;\n",
       "    }\n",
       "\n",
       "    .dataframe thead th {\n",
       "        text-align: right;\n",
       "    }\n",
       "</style>\n",
       "<table border=\"1\" class=\"dataframe\">\n",
       "  <thead>\n",
       "    <tr style=\"text-align: right;\">\n",
       "      <th></th>\n",
       "      <th>longitude</th>\n",
       "      <th>latitude</th>\n",
       "      <th>housing_median_age</th>\n",
       "      <th>total_rooms</th>\n",
       "      <th>total_bedrooms</th>\n",
       "      <th>population</th>\n",
       "      <th>households</th>\n",
       "      <th>median_income</th>\n",
       "      <th>median_house_value</th>\n",
       "      <th>ocean_proximity</th>\n",
       "    </tr>\n",
       "  </thead>\n",
       "  <tbody>\n",
       "    <tr>\n",
       "      <th>20300</th>\n",
       "      <td>-119.19</td>\n",
       "      <td>34.15</td>\n",
       "      <td>31.0</td>\n",
       "      <td>4175.0</td>\n",
       "      <td>1004.0</td>\n",
       "      <td>3310.0</td>\n",
       "      <td>954.0</td>\n",
       "      <td>3.1989</td>\n",
       "      <td>185400.0</td>\n",
       "      <td>NEAR OCEAN</td>\n",
       "    </tr>\n",
       "  </tbody>\n",
       "</table>\n",
       "</div>"
      ],
      "text/plain": [
       "       longitude  latitude  housing_median_age  total_rooms  total_bedrooms  \\\n",
       "20300    -119.19     34.15                31.0       4175.0          1004.0   \n",
       "\n",
       "       population  households  median_income  median_house_value  \\\n",
       "20300      3310.0       954.0         3.1989            185400.0   \n",
       "\n",
       "      ocean_proximity  \n",
       "20300      NEAR OCEAN  "
      ]
     },
     "execution_count": 86,
     "metadata": {},
     "output_type": "execute_result"
    }
   ],
   "source": [
    "df[20300:20301]"
   ]
  },
  {
   "cell_type": "markdown",
   "metadata": {
    "id": "znqYychhLkf7"
   },
   "source": [
    "### iloc Function Summary\n",
    "\n",
    "With the __.iloc__ function we can select several rows in a very simple way that can be summarized as:\n",
    "* <code>dataframe.iloc[0]</code> - First row of a dataframe.\n",
    "* <code>dataframe.iloc[1]</code> - Second row of a dataframe.\n",
    "* <code>dataframe.iloc[-1]</code> - (Negative indexing) Last row of a dataframe\n",
    "* <code>dataframe.iloc[[n]]</code> - Row _n_ of the dataframe.\n",
    "* <code>dataframe.iloc[n:m]</code> - Custom range of rows _n_ to _m_\n",
    "\n",
    "In columns, the summary of the __.iloc__ function would become:\n",
    "* <code>dataframe.iloc[:, 0]</code> - First column of a dataframe.\n",
    "* <code>dataframe.iloc[:, 1]</code> - Second column of a dataframe.\n",
    "* <code>dataframe.iloc[:, -1]</code> - (Negative indexing) Last column of a dataframe\n",
    "* <code>dataframe.iloc[:,[n,m]]</code> - Exactly, the _n_ and _m_ columns of a dataframe.\n",
    "* <code>dataframe.iloc[:, n:m]</code> - Custom range of columns _n_ to _m_ of a dataframe.\n",
    "\n",
    "We can also perform multiple row column selection with __.iloc__ with the following examples:\n",
    "* <code>dataframe.iloc[[0,5,7,9], [1,4]]</code> - Selection of rows 0,5,7,9 from columns 1 and 4\n",
    "* <code>dataframe.iloc[0:10, 0:2]</code> - Range-based selection of rows 0 to 10 from columns 0 to 2"
   ]
  },
  {
   "cell_type": "code",
   "execution_count": 87,
   "metadata": {
    "id": "9vsiOl5RLkf7",
    "outputId": "2ba79375-8b1d-4d05-9024-d33cfc6bf699"
   },
   "outputs": [
    {
     "data": {
      "text/plain": [
       "longitude             -121.32\n",
       "latitude                39.43\n",
       "housing_median_age       18.0\n",
       "total_rooms            1860.0\n",
       "total_bedrooms          409.0\n",
       "population              741.0\n",
       "households              349.0\n",
       "median_income          1.8672\n",
       "median_house_value    84700.0\n",
       "ocean_proximity        INLAND\n",
       "Name: 20638, dtype: object"
      ]
     },
     "execution_count": 87,
     "metadata": {},
     "output_type": "execute_result"
    }
   ],
   "source": [
    "df.iloc[-2] # Penúltma fila"
   ]
  },
  {
   "cell_type": "code",
   "execution_count": 88,
   "metadata": {
    "id": "xcrTnT9PLkf8",
    "outputId": "bcbb5148-e45e-4281-8e8b-34b85b89774d"
   },
   "outputs": [
    {
     "data": {
      "text/html": [
       "<div>\n",
       "<style scoped>\n",
       "    .dataframe tbody tr th:only-of-type {\n",
       "        vertical-align: middle;\n",
       "    }\n",
       "\n",
       "    .dataframe tbody tr th {\n",
       "        vertical-align: top;\n",
       "    }\n",
       "\n",
       "    .dataframe thead th {\n",
       "        text-align: right;\n",
       "    }\n",
       "</style>\n",
       "<table border=\"1\" class=\"dataframe\">\n",
       "  <thead>\n",
       "    <tr style=\"text-align: right;\">\n",
       "      <th></th>\n",
       "      <th>ocean_proximity</th>\n",
       "    </tr>\n",
       "  </thead>\n",
       "  <tbody>\n",
       "    <tr>\n",
       "      <th>0</th>\n",
       "      <td>NEAR BAY</td>\n",
       "    </tr>\n",
       "    <tr>\n",
       "      <th>1</th>\n",
       "      <td>NEAR BAY</td>\n",
       "    </tr>\n",
       "    <tr>\n",
       "      <th>2</th>\n",
       "      <td>NEAR BAY</td>\n",
       "    </tr>\n",
       "    <tr>\n",
       "      <th>3</th>\n",
       "      <td>NEAR BAY</td>\n",
       "    </tr>\n",
       "    <tr>\n",
       "      <th>4</th>\n",
       "      <td>NEAR BAY</td>\n",
       "    </tr>\n",
       "    <tr>\n",
       "      <th>...</th>\n",
       "      <td>...</td>\n",
       "    </tr>\n",
       "    <tr>\n",
       "      <th>20635</th>\n",
       "      <td>INLAND</td>\n",
       "    </tr>\n",
       "    <tr>\n",
       "      <th>20636</th>\n",
       "      <td>INLAND</td>\n",
       "    </tr>\n",
       "    <tr>\n",
       "      <th>20637</th>\n",
       "      <td>INLAND</td>\n",
       "    </tr>\n",
       "    <tr>\n",
       "      <th>20638</th>\n",
       "      <td>INLAND</td>\n",
       "    </tr>\n",
       "    <tr>\n",
       "      <th>20639</th>\n",
       "      <td>INLAND</td>\n",
       "    </tr>\n",
       "  </tbody>\n",
       "</table>\n",
       "<p>20640 rows × 1 columns</p>\n",
       "</div>"
      ],
      "text/plain": [
       "      ocean_proximity\n",
       "0            NEAR BAY\n",
       "1            NEAR BAY\n",
       "2            NEAR BAY\n",
       "3            NEAR BAY\n",
       "4            NEAR BAY\n",
       "...               ...\n",
       "20635          INLAND\n",
       "20636          INLAND\n",
       "20637          INLAND\n",
       "20638          INLAND\n",
       "20639          INLAND\n",
       "\n",
       "[20640 rows x 1 columns]"
      ]
     },
     "execution_count": 88,
     "metadata": {},
     "output_type": "execute_result"
    }
   ],
   "source": [
    "df.iloc[:, [-1]] # Última columna"
   ]
  },
  {
   "cell_type": "code",
   "execution_count": 89,
   "metadata": {
    "id": "Wz6242RlLkf8",
    "outputId": "a7fcc5d9-9cdd-4954-81fb-5fbcee65c82c"
   },
   "outputs": [
    {
     "data": {
      "text/html": [
       "<div>\n",
       "<style scoped>\n",
       "    .dataframe tbody tr th:only-of-type {\n",
       "        vertical-align: middle;\n",
       "    }\n",
       "\n",
       "    .dataframe tbody tr th {\n",
       "        vertical-align: top;\n",
       "    }\n",
       "\n",
       "    .dataframe thead th {\n",
       "        text-align: right;\n",
       "    }\n",
       "</style>\n",
       "<table border=\"1\" class=\"dataframe\">\n",
       "  <thead>\n",
       "    <tr style=\"text-align: right;\">\n",
       "      <th></th>\n",
       "      <th>latitude</th>\n",
       "      <th>total_bedrooms</th>\n",
       "    </tr>\n",
       "  </thead>\n",
       "  <tbody>\n",
       "    <tr>\n",
       "      <th>0</th>\n",
       "      <td>37.88</td>\n",
       "      <td>129.0</td>\n",
       "    </tr>\n",
       "    <tr>\n",
       "      <th>5</th>\n",
       "      <td>37.85</td>\n",
       "      <td>213.0</td>\n",
       "    </tr>\n",
       "    <tr>\n",
       "      <th>7</th>\n",
       "      <td>37.84</td>\n",
       "      <td>687.0</td>\n",
       "    </tr>\n",
       "    <tr>\n",
       "      <th>9</th>\n",
       "      <td>37.84</td>\n",
       "      <td>707.0</td>\n",
       "    </tr>\n",
       "  </tbody>\n",
       "</table>\n",
       "</div>"
      ],
      "text/plain": [
       "   latitude  total_bedrooms\n",
       "0     37.88           129.0\n",
       "5     37.85           213.0\n",
       "7     37.84           687.0\n",
       "9     37.84           707.0"
      ]
     },
     "execution_count": 89,
     "metadata": {},
     "output_type": "execute_result"
    }
   ],
   "source": [
    "df.iloc[[0,5,7,9], [1,4]]"
   ]
  },
  {
   "cell_type": "markdown",
   "metadata": {
    "id": "ksEudH7zLkf9"
   },
   "source": [
    "### Indexes of a DataFrame\n",
    "\n",
    "These are the positions occupied by each row within a dataframe, unless a specific type of index is specified based on labels, the indexes will be from 0 to the total length of the dataframe"
   ]
  },
  {
   "cell_type": "code",
   "execution_count": 90,
   "metadata": {
    "id": "f0gGVE6OLkf-",
    "outputId": "c98ffe9c-d10c-4777-fbf8-0850848b6bdb"
   },
   "outputs": [
    {
     "data": {
      "text/html": [
       "<div>\n",
       "<style scoped>\n",
       "    .dataframe tbody tr th:only-of-type {\n",
       "        vertical-align: middle;\n",
       "    }\n",
       "\n",
       "    .dataframe tbody tr th {\n",
       "        vertical-align: top;\n",
       "    }\n",
       "\n",
       "    .dataframe thead th {\n",
       "        text-align: right;\n",
       "    }\n",
       "</style>\n",
       "<table border=\"1\" class=\"dataframe\">\n",
       "  <thead>\n",
       "    <tr style=\"text-align: right;\">\n",
       "      <th></th>\n",
       "      <th>region</th>\n",
       "      <th>sales</th>\n",
       "      <th>year</th>\n",
       "    </tr>\n",
       "  </thead>\n",
       "  <tbody>\n",
       "    <tr>\n",
       "      <th>0</th>\n",
       "      <td>EUROPA</td>\n",
       "      <td>153752</td>\n",
       "      <td>2018</td>\n",
       "    </tr>\n",
       "    <tr>\n",
       "      <th>1</th>\n",
       "      <td>EUROPA</td>\n",
       "      <td>168742</td>\n",
       "      <td>2019</td>\n",
       "    </tr>\n",
       "    <tr>\n",
       "      <th>2</th>\n",
       "      <td>EUROPA</td>\n",
       "      <td>162587</td>\n",
       "      <td>2020</td>\n",
       "    </tr>\n",
       "    <tr>\n",
       "      <th>3</th>\n",
       "      <td>USA</td>\n",
       "      <td>256198</td>\n",
       "      <td>2018</td>\n",
       "    </tr>\n",
       "    <tr>\n",
       "      <th>4</th>\n",
       "      <td>USA</td>\n",
       "      <td>285743</td>\n",
       "      <td>2019</td>\n",
       "    </tr>\n",
       "    <tr>\n",
       "      <th>5</th>\n",
       "      <td>USA</td>\n",
       "      <td>290371</td>\n",
       "      <td>2020</td>\n",
       "    </tr>\n",
       "    <tr>\n",
       "      <th>6</th>\n",
       "      <td>LATAM</td>\n",
       "      <td>145638</td>\n",
       "      <td>2018</td>\n",
       "    </tr>\n",
       "    <tr>\n",
       "      <th>7</th>\n",
       "      <td>LATAM</td>\n",
       "      <td>151678</td>\n",
       "      <td>2019</td>\n",
       "    </tr>\n",
       "  </tbody>\n",
       "</table>\n",
       "</div>"
      ],
      "text/plain": [
       "   region   sales  year\n",
       "0  EUROPA  153752  2018\n",
       "1  EUROPA  168742  2019\n",
       "2  EUROPA  162587  2020\n",
       "3     USA  256198  2018\n",
       "4     USA  285743  2019\n",
       "5     USA  290371  2020\n",
       "6   LATAM  145638  2018\n",
       "7   LATAM  151678  2019"
      ]
     },
     "execution_count": 90,
     "metadata": {},
     "output_type": "execute_result"
    }
   ],
   "source": [
    "# Create a df\n",
    "sales = {\n",
    "   'region': [\"EUROPA\", \"EUROPA\", \"EUROPA\", \n",
    "              \"USA\", \"USA\", \"USA\", \"LATAM\", \"LATAM\"],\n",
    "   'sales':[153752, 168742, 162587, 256198, 285743, 290371, 145638, 151678],\n",
    "   'year':[2018, 2019, 2020, 2018, 2019, 2020, 2018, 2019]\n",
    "}\n",
    "df = pd.DataFrame(sales)\n",
    "df"
   ]
  },
  {
   "cell_type": "markdown",
   "metadata": {
    "id": "ylbIXxbHLkf-"
   },
   "source": [
    "To observe the index of a dataframe we can use its attribute <code>**index**</code>"
   ]
  },
  {
   "cell_type": "code",
   "execution_count": 91,
   "metadata": {
    "id": "aL4EbTnDLkf_",
    "outputId": "476390e4-189c-4d0f-bb8c-6d9d444b58e4"
   },
   "outputs": [
    {
     "data": {
      "text/plain": [
       "RangeIndex(start=0, stop=8, step=1)"
      ]
     },
     "execution_count": 91,
     "metadata": {},
     "output_type": "execute_result"
    }
   ],
   "source": [
    "df.index"
   ]
  },
  {
   "cell_type": "markdown",
   "metadata": {
    "id": "LldGXkLkLkgA"
   },
   "source": [
    "Depending on how our data is formed, we will be able to create multi-indices based on our dataframe's own columns, if we look at the region and year columns that have repeated elements. This will allow us to do multi-indices where we have one continent per year of sales.\n",
    "\n",
    "With the function <code> set_index()</code> we will be able to establish a new index"
   ]
  },
  {
   "cell_type": "code",
   "execution_count": 92,
   "metadata": {
    "id": "mxLI2KUALkgA",
    "outputId": "69594c83-7bea-478f-84fd-339bcd9a7d28",
    "scrolled": true
   },
   "outputs": [
    {
     "data": {
      "text/html": [
       "<div>\n",
       "<style scoped>\n",
       "    .dataframe tbody tr th:only-of-type {\n",
       "        vertical-align: middle;\n",
       "    }\n",
       "\n",
       "    .dataframe tbody tr th {\n",
       "        vertical-align: top;\n",
       "    }\n",
       "\n",
       "    .dataframe thead th {\n",
       "        text-align: right;\n",
       "    }\n",
       "</style>\n",
       "<table border=\"1\" class=\"dataframe\">\n",
       "  <thead>\n",
       "    <tr style=\"text-align: right;\">\n",
       "      <th></th>\n",
       "      <th></th>\n",
       "      <th>sales</th>\n",
       "    </tr>\n",
       "    <tr>\n",
       "      <th>region</th>\n",
       "      <th>year</th>\n",
       "      <th></th>\n",
       "    </tr>\n",
       "  </thead>\n",
       "  <tbody>\n",
       "    <tr>\n",
       "      <th rowspan=\"3\" valign=\"top\">EUROPA</th>\n",
       "      <th>2018</th>\n",
       "      <td>153752</td>\n",
       "    </tr>\n",
       "    <tr>\n",
       "      <th>2019</th>\n",
       "      <td>168742</td>\n",
       "    </tr>\n",
       "    <tr>\n",
       "      <th>2020</th>\n",
       "      <td>162587</td>\n",
       "    </tr>\n",
       "    <tr>\n",
       "      <th rowspan=\"3\" valign=\"top\">USA</th>\n",
       "      <th>2018</th>\n",
       "      <td>256198</td>\n",
       "    </tr>\n",
       "    <tr>\n",
       "      <th>2019</th>\n",
       "      <td>285743</td>\n",
       "    </tr>\n",
       "    <tr>\n",
       "      <th>2020</th>\n",
       "      <td>290371</td>\n",
       "    </tr>\n",
       "    <tr>\n",
       "      <th rowspan=\"2\" valign=\"top\">LATAM</th>\n",
       "      <th>2018</th>\n",
       "      <td>145638</td>\n",
       "    </tr>\n",
       "    <tr>\n",
       "      <th>2019</th>\n",
       "      <td>151678</td>\n",
       "    </tr>\n",
       "  </tbody>\n",
       "</table>\n",
       "</div>"
      ],
      "text/plain": [
       "              sales\n",
       "region year        \n",
       "EUROPA 2018  153752\n",
       "       2019  168742\n",
       "       2020  162587\n",
       "USA    2018  256198\n",
       "       2019  285743\n",
       "       2020  290371\n",
       "LATAM  2018  145638\n",
       "       2019  151678"
      ]
     },
     "execution_count": 92,
     "metadata": {},
     "output_type": "execute_result"
    }
   ],
   "source": [
    "df_index = df.set_index([\"region\", \"year\"])\n",
    "df_index"
   ]
  },
  {
   "cell_type": "markdown",
   "metadata": {
    "id": "frPKZxX4LkgB"
   },
   "source": [
    "In view of the new dataframe, we can see that the region and year columns now act as an index, so if we query the first row..."
   ]
  },
  {
   "cell_type": "code",
   "execution_count": 93,
   "metadata": {
    "id": "RD8eMDA-LkgC",
    "outputId": "4c007b9b-329b-4dd1-85e6-f58e97685d00"
   },
   "outputs": [
    {
     "data": {
      "text/plain": [
       "sales    153752\n",
       "Name: (EUROPA, 2018), dtype: int64"
      ]
     },
     "execution_count": 93,
     "metadata": {},
     "output_type": "execute_result"
    }
   ],
   "source": [
    "df_index.iloc[0]"
   ]
  },
  {
   "cell_type": "markdown",
   "metadata": {
    "id": "qdXoPeeOLkgC"
   },
   "source": [
    "We obtain the data that belongs to the sales volume, being the region (Europe) and the year (2018) its indices\n",
    "\n",
    "Similarly, we can pass a list as an index to a dataframe. Obviously, this list must be the same length as the dataframe."
   ]
  },
  {
   "cell_type": "code",
   "execution_count": 94,
   "metadata": {
    "id": "rBXYQ0tMLkgC",
    "outputId": "67bedcec-42a7-4abd-d04c-577e0c41da84"
   },
   "outputs": [
    {
     "data": {
      "text/plain": [
       "['Rec_1', 'Rec_2', 'Rec_3', 'Rec_4', 'Rec_5', 'Rec_6', 'Rec_7', 'Rec_8']"
      ]
     },
     "execution_count": 94,
     "metadata": {},
     "output_type": "execute_result"
    }
   ],
   "source": [
    "index_list = [\"Rec_1\", \"Rec_2\", \"Rec_3\", \"Rec_4\", \"Rec_5\", \"Rec_6\", \"Rec_7\", \"Rec_8\"]\n",
    "\n",
    "index_list"
   ]
  },
  {
   "cell_type": "code",
   "execution_count": 95,
   "metadata": {
    "id": "l6BSZkZGLkgE",
    "outputId": "9eca9268-da81-4edd-c37a-6171df416906"
   },
   "outputs": [
    {
     "data": {
      "text/plain": [
       "MultiIndex([('EUROPA', 2018),\n",
       "            ('EUROPA', 2019),\n",
       "            ('EUROPA', 2020),\n",
       "            (   'USA', 2018),\n",
       "            (   'USA', 2019),\n",
       "            (   'USA', 2020),\n",
       "            ( 'LATAM', 2018),\n",
       "            ( 'LATAM', 2019)],\n",
       "           names=['region', 'year'])"
      ]
     },
     "execution_count": 95,
     "metadata": {},
     "output_type": "execute_result"
    }
   ],
   "source": [
    "df_index.index"
   ]
  },
  {
   "cell_type": "code",
   "execution_count": 96,
   "metadata": {
    "id": "cbSJHgT6LkgE",
    "outputId": "7a3b2732-7d9a-444b-e289-fcb187a32d65"
   },
   "outputs": [
    {
     "data": {
      "text/plain": [
       "RangeIndex(start=0, stop=8, step=1)"
      ]
     },
     "execution_count": 96,
     "metadata": {},
     "output_type": "execute_result"
    }
   ],
   "source": [
    "df.index"
   ]
  },
  {
   "cell_type": "code",
   "execution_count": 97,
   "metadata": {
    "id": "JWQQ5FH_LkgE"
   },
   "outputs": [],
   "source": [
    "df.index = index_list"
   ]
  },
  {
   "cell_type": "code",
   "execution_count": 98,
   "metadata": {
    "id": "mSF8cCAaLkgE",
    "outputId": "da2eb7b9-8f0f-47b9-9072-ce3eb26bb234"
   },
   "outputs": [
    {
     "data": {
      "text/html": [
       "<div>\n",
       "<style scoped>\n",
       "    .dataframe tbody tr th:only-of-type {\n",
       "        vertical-align: middle;\n",
       "    }\n",
       "\n",
       "    .dataframe tbody tr th {\n",
       "        vertical-align: top;\n",
       "    }\n",
       "\n",
       "    .dataframe thead th {\n",
       "        text-align: right;\n",
       "    }\n",
       "</style>\n",
       "<table border=\"1\" class=\"dataframe\">\n",
       "  <thead>\n",
       "    <tr style=\"text-align: right;\">\n",
       "      <th></th>\n",
       "      <th>region</th>\n",
       "      <th>sales</th>\n",
       "      <th>year</th>\n",
       "    </tr>\n",
       "  </thead>\n",
       "  <tbody>\n",
       "    <tr>\n",
       "      <th>Rec_1</th>\n",
       "      <td>EUROPA</td>\n",
       "      <td>153752</td>\n",
       "      <td>2018</td>\n",
       "    </tr>\n",
       "    <tr>\n",
       "      <th>Rec_2</th>\n",
       "      <td>EUROPA</td>\n",
       "      <td>168742</td>\n",
       "      <td>2019</td>\n",
       "    </tr>\n",
       "    <tr>\n",
       "      <th>Rec_3</th>\n",
       "      <td>EUROPA</td>\n",
       "      <td>162587</td>\n",
       "      <td>2020</td>\n",
       "    </tr>\n",
       "    <tr>\n",
       "      <th>Rec_4</th>\n",
       "      <td>USA</td>\n",
       "      <td>256198</td>\n",
       "      <td>2018</td>\n",
       "    </tr>\n",
       "    <tr>\n",
       "      <th>Rec_5</th>\n",
       "      <td>USA</td>\n",
       "      <td>285743</td>\n",
       "      <td>2019</td>\n",
       "    </tr>\n",
       "    <tr>\n",
       "      <th>Rec_6</th>\n",
       "      <td>USA</td>\n",
       "      <td>290371</td>\n",
       "      <td>2020</td>\n",
       "    </tr>\n",
       "    <tr>\n",
       "      <th>Rec_7</th>\n",
       "      <td>LATAM</td>\n",
       "      <td>145638</td>\n",
       "      <td>2018</td>\n",
       "    </tr>\n",
       "    <tr>\n",
       "      <th>Rec_8</th>\n",
       "      <td>LATAM</td>\n",
       "      <td>151678</td>\n",
       "      <td>2019</td>\n",
       "    </tr>\n",
       "  </tbody>\n",
       "</table>\n",
       "</div>"
      ],
      "text/plain": [
       "       region   sales  year\n",
       "Rec_1  EUROPA  153752  2018\n",
       "Rec_2  EUROPA  168742  2019\n",
       "Rec_3  EUROPA  162587  2020\n",
       "Rec_4     USA  256198  2018\n",
       "Rec_5     USA  285743  2019\n",
       "Rec_6     USA  290371  2020\n",
       "Rec_7   LATAM  145638  2018\n",
       "Rec_8   LATAM  151678  2019"
      ]
     },
     "execution_count": 98,
     "metadata": {},
     "output_type": "execute_result"
    }
   ],
   "source": [
    "df"
   ]
  },
  {
   "cell_type": "markdown",
   "metadata": {
    "id": "koQDlsVSLkgF"
   },
   "source": [
    "With the <code>.loc</code> function we can search for elements in the index"
   ]
  },
  {
   "cell_type": "code",
   "execution_count": 99,
   "metadata": {
    "id": "14_8s6LxLkgG",
    "outputId": "39b2eb9c-cb24-4d03-aa38-fb86bf461cac"
   },
   "outputs": [
    {
     "data": {
      "text/html": [
       "<div>\n",
       "<style scoped>\n",
       "    .dataframe tbody tr th:only-of-type {\n",
       "        vertical-align: middle;\n",
       "    }\n",
       "\n",
       "    .dataframe tbody tr th {\n",
       "        vertical-align: top;\n",
       "    }\n",
       "\n",
       "    .dataframe thead th {\n",
       "        text-align: right;\n",
       "    }\n",
       "</style>\n",
       "<table border=\"1\" class=\"dataframe\">\n",
       "  <thead>\n",
       "    <tr style=\"text-align: right;\">\n",
       "      <th></th>\n",
       "      <th></th>\n",
       "      <th>sales</th>\n",
       "    </tr>\n",
       "    <tr>\n",
       "      <th>region</th>\n",
       "      <th>year</th>\n",
       "      <th></th>\n",
       "    </tr>\n",
       "  </thead>\n",
       "  <tbody>\n",
       "    <tr>\n",
       "      <th rowspan=\"3\" valign=\"top\">EUROPA</th>\n",
       "      <th>2018</th>\n",
       "      <td>153752</td>\n",
       "    </tr>\n",
       "    <tr>\n",
       "      <th>2019</th>\n",
       "      <td>168742</td>\n",
       "    </tr>\n",
       "    <tr>\n",
       "      <th>2020</th>\n",
       "      <td>162587</td>\n",
       "    </tr>\n",
       "    <tr>\n",
       "      <th rowspan=\"3\" valign=\"top\">USA</th>\n",
       "      <th>2018</th>\n",
       "      <td>256198</td>\n",
       "    </tr>\n",
       "    <tr>\n",
       "      <th>2019</th>\n",
       "      <td>285743</td>\n",
       "    </tr>\n",
       "    <tr>\n",
       "      <th>2020</th>\n",
       "      <td>290371</td>\n",
       "    </tr>\n",
       "    <tr>\n",
       "      <th rowspan=\"2\" valign=\"top\">LATAM</th>\n",
       "      <th>2018</th>\n",
       "      <td>145638</td>\n",
       "    </tr>\n",
       "    <tr>\n",
       "      <th>2019</th>\n",
       "      <td>151678</td>\n",
       "    </tr>\n",
       "  </tbody>\n",
       "</table>\n",
       "</div>"
      ],
      "text/plain": [
       "              sales\n",
       "region year        \n",
       "EUROPA 2018  153752\n",
       "       2019  168742\n",
       "       2020  162587\n",
       "USA    2018  256198\n",
       "       2019  285743\n",
       "       2020  290371\n",
       "LATAM  2018  145638\n",
       "       2019  151678"
      ]
     },
     "execution_count": 99,
     "metadata": {},
     "output_type": "execute_result"
    }
   ],
   "source": [
    "df_index"
   ]
  },
  {
   "cell_type": "code",
   "execution_count": 100,
   "metadata": {
    "id": "BF1On5RdLkgG",
    "outputId": "6601f7fa-a94d-4f4d-c713-f7ce34dacabd"
   },
   "outputs": [
    {
     "data": {
      "text/html": [
       "<div>\n",
       "<style scoped>\n",
       "    .dataframe tbody tr th:only-of-type {\n",
       "        vertical-align: middle;\n",
       "    }\n",
       "\n",
       "    .dataframe tbody tr th {\n",
       "        vertical-align: top;\n",
       "    }\n",
       "\n",
       "    .dataframe thead th {\n",
       "        text-align: right;\n",
       "    }\n",
       "</style>\n",
       "<table border=\"1\" class=\"dataframe\">\n",
       "  <thead>\n",
       "    <tr style=\"text-align: right;\">\n",
       "      <th></th>\n",
       "      <th>sales</th>\n",
       "    </tr>\n",
       "    <tr>\n",
       "      <th>year</th>\n",
       "      <th></th>\n",
       "    </tr>\n",
       "  </thead>\n",
       "  <tbody>\n",
       "    <tr>\n",
       "      <th>2018</th>\n",
       "      <td>153752</td>\n",
       "    </tr>\n",
       "    <tr>\n",
       "      <th>2019</th>\n",
       "      <td>168742</td>\n",
       "    </tr>\n",
       "    <tr>\n",
       "      <th>2020</th>\n",
       "      <td>162587</td>\n",
       "    </tr>\n",
       "  </tbody>\n",
       "</table>\n",
       "</div>"
      ],
      "text/plain": [
       "       sales\n",
       "year        \n",
       "2018  153752\n",
       "2019  168742\n",
       "2020  162587"
      ]
     },
     "execution_count": 100,
     "metadata": {},
     "output_type": "execute_result"
    }
   ],
   "source": [
    "df_index.loc[\"EUROPA\"]"
   ]
  },
  {
   "cell_type": "code",
   "execution_count": 101,
   "metadata": {
    "id": "Gws0g3JULkgG",
    "outputId": "650f7aff-78d0-4bee-dd12-804c5107070f"
   },
   "outputs": [
    {
     "data": {
      "text/html": [
       "<div>\n",
       "<style scoped>\n",
       "    .dataframe tbody tr th:only-of-type {\n",
       "        vertical-align: middle;\n",
       "    }\n",
       "\n",
       "    .dataframe tbody tr th {\n",
       "        vertical-align: top;\n",
       "    }\n",
       "\n",
       "    .dataframe thead th {\n",
       "        text-align: right;\n",
       "    }\n",
       "</style>\n",
       "<table border=\"1\" class=\"dataframe\">\n",
       "  <thead>\n",
       "    <tr style=\"text-align: right;\">\n",
       "      <th></th>\n",
       "      <th>region</th>\n",
       "      <th>sales</th>\n",
       "      <th>year</th>\n",
       "    </tr>\n",
       "  </thead>\n",
       "  <tbody>\n",
       "    <tr>\n",
       "      <th>Rec_1</th>\n",
       "      <td>EUROPA</td>\n",
       "      <td>153752</td>\n",
       "      <td>2018</td>\n",
       "    </tr>\n",
       "    <tr>\n",
       "      <th>Rec_2</th>\n",
       "      <td>EUROPA</td>\n",
       "      <td>168742</td>\n",
       "      <td>2019</td>\n",
       "    </tr>\n",
       "    <tr>\n",
       "      <th>Rec_3</th>\n",
       "      <td>EUROPA</td>\n",
       "      <td>162587</td>\n",
       "      <td>2020</td>\n",
       "    </tr>\n",
       "    <tr>\n",
       "      <th>Rec_4</th>\n",
       "      <td>USA</td>\n",
       "      <td>256198</td>\n",
       "      <td>2018</td>\n",
       "    </tr>\n",
       "    <tr>\n",
       "      <th>Rec_5</th>\n",
       "      <td>USA</td>\n",
       "      <td>285743</td>\n",
       "      <td>2019</td>\n",
       "    </tr>\n",
       "    <tr>\n",
       "      <th>Rec_6</th>\n",
       "      <td>USA</td>\n",
       "      <td>290371</td>\n",
       "      <td>2020</td>\n",
       "    </tr>\n",
       "    <tr>\n",
       "      <th>Rec_7</th>\n",
       "      <td>LATAM</td>\n",
       "      <td>145638</td>\n",
       "      <td>2018</td>\n",
       "    </tr>\n",
       "    <tr>\n",
       "      <th>Rec_8</th>\n",
       "      <td>LATAM</td>\n",
       "      <td>151678</td>\n",
       "      <td>2019</td>\n",
       "    </tr>\n",
       "  </tbody>\n",
       "</table>\n",
       "</div>"
      ],
      "text/plain": [
       "       region   sales  year\n",
       "Rec_1  EUROPA  153752  2018\n",
       "Rec_2  EUROPA  168742  2019\n",
       "Rec_3  EUROPA  162587  2020\n",
       "Rec_4     USA  256198  2018\n",
       "Rec_5     USA  285743  2019\n",
       "Rec_6     USA  290371  2020\n",
       "Rec_7   LATAM  145638  2018\n",
       "Rec_8   LATAM  151678  2019"
      ]
     },
     "execution_count": 101,
     "metadata": {},
     "output_type": "execute_result"
    }
   ],
   "source": [
    "df"
   ]
  },
  {
   "cell_type": "code",
   "execution_count": 102,
   "metadata": {
    "id": "1gudKGs-LkgH",
    "outputId": "47cd8fe6-888e-49bf-e213-1de45bb0047e"
   },
   "outputs": [
    {
     "data": {
      "text/plain": [
       "region       USA\n",
       "sales     256198\n",
       "year        2018\n",
       "Name: Rec_4, dtype: object"
      ]
     },
     "execution_count": 102,
     "metadata": {},
     "output_type": "execute_result"
    }
   ],
   "source": [
    "df.loc[\"Rec_4\"]"
   ]
  },
  {
   "cell_type": "code",
   "execution_count": 103,
   "metadata": {
    "id": "Ueb_tiDYLkgH",
    "outputId": "644c4d5b-d533-413f-a7d1-e355ef0cd6d2"
   },
   "outputs": [
    {
     "data": {
      "text/plain": [
       "pandas.core.series.Series"
      ]
     },
     "execution_count": 103,
     "metadata": {},
     "output_type": "execute_result"
    }
   ],
   "source": [
    "type(df.loc[\"Rec_4\"])"
   ]
  },
  {
   "cell_type": "code",
   "execution_count": 104,
   "metadata": {
    "id": "eQOSnLO-LkgH",
    "outputId": "608ec0c3-f901-4a17-8c21-0ff8fa4b24ee"
   },
   "outputs": [
    {
     "data": {
      "text/plain": [
       "array(['USA', 256198, 2018], dtype=object)"
      ]
     },
     "execution_count": 104,
     "metadata": {},
     "output_type": "execute_result"
    }
   ],
   "source": [
    "df.loc[\"Rec_4\"].values"
   ]
  },
  {
   "cell_type": "markdown",
   "metadata": {
    "id": "hSPA9_R8LkgI"
   },
   "source": [
    "### Some basic functions of a dataframe\n",
    "\n",
    "Next, we are going to see a list of some of the main functions that we can apply in a dataframe to operate on its columns:\n",
    "\n",
    "* Get the first rows of a dataframe with __<code>.head</code>__\n",
    "* Get the last rows of a dataframe with __<code>.tail</code>__\n",
    "* Get the unique elements of a dataframe column with __<code>.unique</code>__\n",
    "* Get the frequency of the unique values ​​of a column of a dataframe __<code>.value_counts</code>__\n",
    "* Obtain a statistical summary of the dataset with __<code>.describe</code>__\n",
    "* Get the mean of a column with __<code>.mean</code>__\n",
    "* Get a copy of a dataframe with __<code>.copy</code>__\n",
    "* View the column names of a dataframe with __<code>.columns</code>__\n",
    "* Get the correlation between all numeric variables with __<code>.corr</code>__\n",
    "* Remove duplicates from a dataframe with __<code>.drop_duplicates</code>__\n",
    "* Especially for Big Data sets we can see the RAM memory consumption of our dataset with __<code>.memory_usage</code>__\n",
    "* See a graphical summary summary (based on density, scatter plots and correlation plots) of all variables in the dataframe with __<code>.scatter_matrix</code>__\n",
    "* Obtain a histogram of each numerical variable of the dataset with __<code>.hist</code>__"
   ]
  },
  {
   "cell_type": "markdown",
   "metadata": {
    "id": "9Gn25uNSLkgM"
   },
   "source": [
    "### First rows of a dataframe"
   ]
  },
  {
   "cell_type": "code",
   "execution_count": 105,
   "metadata": {
    "id": "Fv4PQ6wNLkgN",
    "outputId": "d771e4ca-1eea-4395-af83-649dc25bc925"
   },
   "outputs": [
    {
     "data": {
      "text/html": [
       "<div>\n",
       "<style scoped>\n",
       "    .dataframe tbody tr th:only-of-type {\n",
       "        vertical-align: middle;\n",
       "    }\n",
       "\n",
       "    .dataframe tbody tr th {\n",
       "        vertical-align: top;\n",
       "    }\n",
       "\n",
       "    .dataframe thead th {\n",
       "        text-align: right;\n",
       "    }\n",
       "</style>\n",
       "<table border=\"1\" class=\"dataframe\">\n",
       "  <thead>\n",
       "    <tr style=\"text-align: right;\">\n",
       "      <th></th>\n",
       "      <th>longitude</th>\n",
       "      <th>latitude</th>\n",
       "      <th>housing_median_age</th>\n",
       "      <th>total_rooms</th>\n",
       "      <th>total_bedrooms</th>\n",
       "      <th>population</th>\n",
       "      <th>households</th>\n",
       "      <th>median_income</th>\n",
       "      <th>median_house_value</th>\n",
       "      <th>ocean_proximity</th>\n",
       "    </tr>\n",
       "  </thead>\n",
       "  <tbody>\n",
       "    <tr>\n",
       "      <th>0</th>\n",
       "      <td>-122.23</td>\n",
       "      <td>37.88</td>\n",
       "      <td>41.0</td>\n",
       "      <td>880.0</td>\n",
       "      <td>129.0</td>\n",
       "      <td>322.0</td>\n",
       "      <td>126.0</td>\n",
       "      <td>8.3252</td>\n",
       "      <td>452600.0</td>\n",
       "      <td>NEAR BAY</td>\n",
       "    </tr>\n",
       "    <tr>\n",
       "      <th>1</th>\n",
       "      <td>-122.22</td>\n",
       "      <td>37.86</td>\n",
       "      <td>21.0</td>\n",
       "      <td>7099.0</td>\n",
       "      <td>1106.0</td>\n",
       "      <td>2401.0</td>\n",
       "      <td>1138.0</td>\n",
       "      <td>8.3014</td>\n",
       "      <td>358500.0</td>\n",
       "      <td>NEAR BAY</td>\n",
       "    </tr>\n",
       "    <tr>\n",
       "      <th>2</th>\n",
       "      <td>-122.24</td>\n",
       "      <td>37.85</td>\n",
       "      <td>52.0</td>\n",
       "      <td>1467.0</td>\n",
       "      <td>190.0</td>\n",
       "      <td>496.0</td>\n",
       "      <td>177.0</td>\n",
       "      <td>7.2574</td>\n",
       "      <td>352100.0</td>\n",
       "      <td>NEAR BAY</td>\n",
       "    </tr>\n",
       "    <tr>\n",
       "      <th>3</th>\n",
       "      <td>-122.25</td>\n",
       "      <td>37.85</td>\n",
       "      <td>52.0</td>\n",
       "      <td>1274.0</td>\n",
       "      <td>235.0</td>\n",
       "      <td>558.0</td>\n",
       "      <td>219.0</td>\n",
       "      <td>5.6431</td>\n",
       "      <td>341300.0</td>\n",
       "      <td>NEAR BAY</td>\n",
       "    </tr>\n",
       "    <tr>\n",
       "      <th>4</th>\n",
       "      <td>-122.25</td>\n",
       "      <td>37.85</td>\n",
       "      <td>52.0</td>\n",
       "      <td>1627.0</td>\n",
       "      <td>280.0</td>\n",
       "      <td>565.0</td>\n",
       "      <td>259.0</td>\n",
       "      <td>3.8462</td>\n",
       "      <td>342200.0</td>\n",
       "      <td>NEAR BAY</td>\n",
       "    </tr>\n",
       "  </tbody>\n",
       "</table>\n",
       "</div>"
      ],
      "text/plain": [
       "   longitude  latitude  housing_median_age  total_rooms  total_bedrooms  \\\n",
       "0    -122.23     37.88                41.0        880.0           129.0   \n",
       "1    -122.22     37.86                21.0       7099.0          1106.0   \n",
       "2    -122.24     37.85                52.0       1467.0           190.0   \n",
       "3    -122.25     37.85                52.0       1274.0           235.0   \n",
       "4    -122.25     37.85                52.0       1627.0           280.0   \n",
       "\n",
       "   population  households  median_income  median_house_value ocean_proximity  \n",
       "0       322.0       126.0         8.3252            452600.0        NEAR BAY  \n",
       "1      2401.0      1138.0         8.3014            358500.0        NEAR BAY  \n",
       "2       496.0       177.0         7.2574            352100.0        NEAR BAY  \n",
       "3       558.0       219.0         5.6431            341300.0        NEAR BAY  \n",
       "4       565.0       259.0         3.8462            342200.0        NEAR BAY  "
      ]
     },
     "execution_count": 105,
     "metadata": {},
     "output_type": "execute_result"
    }
   ],
   "source": [
    "df = pd.read_csv(\"CR_Files/housing_California.csv\")\n",
    "df.head()"
   ]
  },
  {
   "cell_type": "markdown",
   "metadata": {
    "id": "ZNgXjrl4LkgN"
   },
   "source": [
    "If in .head() we don't specify anything, by default, 5 are shown, we can specify the number of rows to show."
   ]
  },
  {
   "cell_type": "code",
   "execution_count": 106,
   "metadata": {
    "id": "I14bxYqVLkgO",
    "outputId": "46f72f13-07d2-47b0-d6d1-100eef71b16e"
   },
   "outputs": [
    {
     "data": {
      "text/html": [
       "<div>\n",
       "<style scoped>\n",
       "    .dataframe tbody tr th:only-of-type {\n",
       "        vertical-align: middle;\n",
       "    }\n",
       "\n",
       "    .dataframe tbody tr th {\n",
       "        vertical-align: top;\n",
       "    }\n",
       "\n",
       "    .dataframe thead th {\n",
       "        text-align: right;\n",
       "    }\n",
       "</style>\n",
       "<table border=\"1\" class=\"dataframe\">\n",
       "  <thead>\n",
       "    <tr style=\"text-align: right;\">\n",
       "      <th></th>\n",
       "      <th>longitude</th>\n",
       "      <th>latitude</th>\n",
       "      <th>housing_median_age</th>\n",
       "      <th>total_rooms</th>\n",
       "      <th>total_bedrooms</th>\n",
       "      <th>population</th>\n",
       "      <th>households</th>\n",
       "      <th>median_income</th>\n",
       "      <th>median_house_value</th>\n",
       "      <th>ocean_proximity</th>\n",
       "    </tr>\n",
       "  </thead>\n",
       "  <tbody>\n",
       "    <tr>\n",
       "      <th>0</th>\n",
       "      <td>-122.23</td>\n",
       "      <td>37.88</td>\n",
       "      <td>41.0</td>\n",
       "      <td>880.0</td>\n",
       "      <td>129.0</td>\n",
       "      <td>322.0</td>\n",
       "      <td>126.0</td>\n",
       "      <td>8.3252</td>\n",
       "      <td>452600.0</td>\n",
       "      <td>NEAR BAY</td>\n",
       "    </tr>\n",
       "    <tr>\n",
       "      <th>1</th>\n",
       "      <td>-122.22</td>\n",
       "      <td>37.86</td>\n",
       "      <td>21.0</td>\n",
       "      <td>7099.0</td>\n",
       "      <td>1106.0</td>\n",
       "      <td>2401.0</td>\n",
       "      <td>1138.0</td>\n",
       "      <td>8.3014</td>\n",
       "      <td>358500.0</td>\n",
       "      <td>NEAR BAY</td>\n",
       "    </tr>\n",
       "    <tr>\n",
       "      <th>2</th>\n",
       "      <td>-122.24</td>\n",
       "      <td>37.85</td>\n",
       "      <td>52.0</td>\n",
       "      <td>1467.0</td>\n",
       "      <td>190.0</td>\n",
       "      <td>496.0</td>\n",
       "      <td>177.0</td>\n",
       "      <td>7.2574</td>\n",
       "      <td>352100.0</td>\n",
       "      <td>NEAR BAY</td>\n",
       "    </tr>\n",
       "    <tr>\n",
       "      <th>3</th>\n",
       "      <td>-122.25</td>\n",
       "      <td>37.85</td>\n",
       "      <td>52.0</td>\n",
       "      <td>1274.0</td>\n",
       "      <td>235.0</td>\n",
       "      <td>558.0</td>\n",
       "      <td>219.0</td>\n",
       "      <td>5.6431</td>\n",
       "      <td>341300.0</td>\n",
       "      <td>NEAR BAY</td>\n",
       "    </tr>\n",
       "    <tr>\n",
       "      <th>4</th>\n",
       "      <td>-122.25</td>\n",
       "      <td>37.85</td>\n",
       "      <td>52.0</td>\n",
       "      <td>1627.0</td>\n",
       "      <td>280.0</td>\n",
       "      <td>565.0</td>\n",
       "      <td>259.0</td>\n",
       "      <td>3.8462</td>\n",
       "      <td>342200.0</td>\n",
       "      <td>NEAR BAY</td>\n",
       "    </tr>\n",
       "    <tr>\n",
       "      <th>5</th>\n",
       "      <td>-122.25</td>\n",
       "      <td>37.85</td>\n",
       "      <td>52.0</td>\n",
       "      <td>919.0</td>\n",
       "      <td>213.0</td>\n",
       "      <td>413.0</td>\n",
       "      <td>193.0</td>\n",
       "      <td>4.0368</td>\n",
       "      <td>269700.0</td>\n",
       "      <td>NEAR BAY</td>\n",
       "    </tr>\n",
       "    <tr>\n",
       "      <th>6</th>\n",
       "      <td>-122.25</td>\n",
       "      <td>37.84</td>\n",
       "      <td>52.0</td>\n",
       "      <td>2535.0</td>\n",
       "      <td>489.0</td>\n",
       "      <td>1094.0</td>\n",
       "      <td>514.0</td>\n",
       "      <td>3.6591</td>\n",
       "      <td>299200.0</td>\n",
       "      <td>NEAR BAY</td>\n",
       "    </tr>\n",
       "    <tr>\n",
       "      <th>7</th>\n",
       "      <td>-122.25</td>\n",
       "      <td>37.84</td>\n",
       "      <td>52.0</td>\n",
       "      <td>3104.0</td>\n",
       "      <td>687.0</td>\n",
       "      <td>1157.0</td>\n",
       "      <td>647.0</td>\n",
       "      <td>3.1200</td>\n",
       "      <td>241400.0</td>\n",
       "      <td>NEAR BAY</td>\n",
       "    </tr>\n",
       "    <tr>\n",
       "      <th>8</th>\n",
       "      <td>-122.26</td>\n",
       "      <td>37.84</td>\n",
       "      <td>42.0</td>\n",
       "      <td>2555.0</td>\n",
       "      <td>665.0</td>\n",
       "      <td>1206.0</td>\n",
       "      <td>595.0</td>\n",
       "      <td>2.0804</td>\n",
       "      <td>226700.0</td>\n",
       "      <td>NEAR BAY</td>\n",
       "    </tr>\n",
       "    <tr>\n",
       "      <th>9</th>\n",
       "      <td>-122.25</td>\n",
       "      <td>37.84</td>\n",
       "      <td>52.0</td>\n",
       "      <td>3549.0</td>\n",
       "      <td>707.0</td>\n",
       "      <td>1551.0</td>\n",
       "      <td>714.0</td>\n",
       "      <td>3.6912</td>\n",
       "      <td>261100.0</td>\n",
       "      <td>NEAR BAY</td>\n",
       "    </tr>\n",
       "    <tr>\n",
       "      <th>10</th>\n",
       "      <td>-122.26</td>\n",
       "      <td>37.85</td>\n",
       "      <td>52.0</td>\n",
       "      <td>2202.0</td>\n",
       "      <td>434.0</td>\n",
       "      <td>910.0</td>\n",
       "      <td>402.0</td>\n",
       "      <td>3.2031</td>\n",
       "      <td>281500.0</td>\n",
       "      <td>NEAR BAY</td>\n",
       "    </tr>\n",
       "    <tr>\n",
       "      <th>11</th>\n",
       "      <td>-122.26</td>\n",
       "      <td>37.85</td>\n",
       "      <td>52.0</td>\n",
       "      <td>3503.0</td>\n",
       "      <td>752.0</td>\n",
       "      <td>1504.0</td>\n",
       "      <td>734.0</td>\n",
       "      <td>3.2705</td>\n",
       "      <td>241800.0</td>\n",
       "      <td>NEAR BAY</td>\n",
       "    </tr>\n",
       "    <tr>\n",
       "      <th>12</th>\n",
       "      <td>-122.26</td>\n",
       "      <td>37.85</td>\n",
       "      <td>52.0</td>\n",
       "      <td>2491.0</td>\n",
       "      <td>474.0</td>\n",
       "      <td>1098.0</td>\n",
       "      <td>468.0</td>\n",
       "      <td>3.0750</td>\n",
       "      <td>213500.0</td>\n",
       "      <td>NEAR BAY</td>\n",
       "    </tr>\n",
       "    <tr>\n",
       "      <th>13</th>\n",
       "      <td>-122.26</td>\n",
       "      <td>37.84</td>\n",
       "      <td>52.0</td>\n",
       "      <td>696.0</td>\n",
       "      <td>191.0</td>\n",
       "      <td>345.0</td>\n",
       "      <td>174.0</td>\n",
       "      <td>2.6736</td>\n",
       "      <td>191300.0</td>\n",
       "      <td>NEAR BAY</td>\n",
       "    </tr>\n",
       "    <tr>\n",
       "      <th>14</th>\n",
       "      <td>-122.26</td>\n",
       "      <td>37.85</td>\n",
       "      <td>52.0</td>\n",
       "      <td>2643.0</td>\n",
       "      <td>626.0</td>\n",
       "      <td>1212.0</td>\n",
       "      <td>620.0</td>\n",
       "      <td>1.9167</td>\n",
       "      <td>159200.0</td>\n",
       "      <td>NEAR BAY</td>\n",
       "    </tr>\n",
       "    <tr>\n",
       "      <th>15</th>\n",
       "      <td>-122.26</td>\n",
       "      <td>37.85</td>\n",
       "      <td>50.0</td>\n",
       "      <td>1120.0</td>\n",
       "      <td>283.0</td>\n",
       "      <td>697.0</td>\n",
       "      <td>264.0</td>\n",
       "      <td>2.1250</td>\n",
       "      <td>140000.0</td>\n",
       "      <td>NEAR BAY</td>\n",
       "    </tr>\n",
       "    <tr>\n",
       "      <th>16</th>\n",
       "      <td>-122.27</td>\n",
       "      <td>37.85</td>\n",
       "      <td>52.0</td>\n",
       "      <td>1966.0</td>\n",
       "      <td>347.0</td>\n",
       "      <td>793.0</td>\n",
       "      <td>331.0</td>\n",
       "      <td>2.7750</td>\n",
       "      <td>152500.0</td>\n",
       "      <td>NEAR BAY</td>\n",
       "    </tr>\n",
       "    <tr>\n",
       "      <th>17</th>\n",
       "      <td>-122.27</td>\n",
       "      <td>37.85</td>\n",
       "      <td>52.0</td>\n",
       "      <td>1228.0</td>\n",
       "      <td>293.0</td>\n",
       "      <td>648.0</td>\n",
       "      <td>303.0</td>\n",
       "      <td>2.1202</td>\n",
       "      <td>155500.0</td>\n",
       "      <td>NEAR BAY</td>\n",
       "    </tr>\n",
       "    <tr>\n",
       "      <th>18</th>\n",
       "      <td>-122.26</td>\n",
       "      <td>37.84</td>\n",
       "      <td>50.0</td>\n",
       "      <td>2239.0</td>\n",
       "      <td>455.0</td>\n",
       "      <td>990.0</td>\n",
       "      <td>419.0</td>\n",
       "      <td>1.9911</td>\n",
       "      <td>158700.0</td>\n",
       "      <td>NEAR BAY</td>\n",
       "    </tr>\n",
       "    <tr>\n",
       "      <th>19</th>\n",
       "      <td>-122.27</td>\n",
       "      <td>37.84</td>\n",
       "      <td>52.0</td>\n",
       "      <td>1503.0</td>\n",
       "      <td>298.0</td>\n",
       "      <td>690.0</td>\n",
       "      <td>275.0</td>\n",
       "      <td>2.6033</td>\n",
       "      <td>162900.0</td>\n",
       "      <td>NEAR BAY</td>\n",
       "    </tr>\n",
       "  </tbody>\n",
       "</table>\n",
       "</div>"
      ],
      "text/plain": [
       "    longitude  latitude  housing_median_age  total_rooms  total_bedrooms  \\\n",
       "0     -122.23     37.88                41.0        880.0           129.0   \n",
       "1     -122.22     37.86                21.0       7099.0          1106.0   \n",
       "2     -122.24     37.85                52.0       1467.0           190.0   \n",
       "3     -122.25     37.85                52.0       1274.0           235.0   \n",
       "4     -122.25     37.85                52.0       1627.0           280.0   \n",
       "5     -122.25     37.85                52.0        919.0           213.0   \n",
       "6     -122.25     37.84                52.0       2535.0           489.0   \n",
       "7     -122.25     37.84                52.0       3104.0           687.0   \n",
       "8     -122.26     37.84                42.0       2555.0           665.0   \n",
       "9     -122.25     37.84                52.0       3549.0           707.0   \n",
       "10    -122.26     37.85                52.0       2202.0           434.0   \n",
       "11    -122.26     37.85                52.0       3503.0           752.0   \n",
       "12    -122.26     37.85                52.0       2491.0           474.0   \n",
       "13    -122.26     37.84                52.0        696.0           191.0   \n",
       "14    -122.26     37.85                52.0       2643.0           626.0   \n",
       "15    -122.26     37.85                50.0       1120.0           283.0   \n",
       "16    -122.27     37.85                52.0       1966.0           347.0   \n",
       "17    -122.27     37.85                52.0       1228.0           293.0   \n",
       "18    -122.26     37.84                50.0       2239.0           455.0   \n",
       "19    -122.27     37.84                52.0       1503.0           298.0   \n",
       "\n",
       "    population  households  median_income  median_house_value ocean_proximity  \n",
       "0        322.0       126.0         8.3252            452600.0        NEAR BAY  \n",
       "1       2401.0      1138.0         8.3014            358500.0        NEAR BAY  \n",
       "2        496.0       177.0         7.2574            352100.0        NEAR BAY  \n",
       "3        558.0       219.0         5.6431            341300.0        NEAR BAY  \n",
       "4        565.0       259.0         3.8462            342200.0        NEAR BAY  \n",
       "5        413.0       193.0         4.0368            269700.0        NEAR BAY  \n",
       "6       1094.0       514.0         3.6591            299200.0        NEAR BAY  \n",
       "7       1157.0       647.0         3.1200            241400.0        NEAR BAY  \n",
       "8       1206.0       595.0         2.0804            226700.0        NEAR BAY  \n",
       "9       1551.0       714.0         3.6912            261100.0        NEAR BAY  \n",
       "10       910.0       402.0         3.2031            281500.0        NEAR BAY  \n",
       "11      1504.0       734.0         3.2705            241800.0        NEAR BAY  \n",
       "12      1098.0       468.0         3.0750            213500.0        NEAR BAY  \n",
       "13       345.0       174.0         2.6736            191300.0        NEAR BAY  \n",
       "14      1212.0       620.0         1.9167            159200.0        NEAR BAY  \n",
       "15       697.0       264.0         2.1250            140000.0        NEAR BAY  \n",
       "16       793.0       331.0         2.7750            152500.0        NEAR BAY  \n",
       "17       648.0       303.0         2.1202            155500.0        NEAR BAY  \n",
       "18       990.0       419.0         1.9911            158700.0        NEAR BAY  \n",
       "19       690.0       275.0         2.6033            162900.0        NEAR BAY  "
      ]
     },
     "execution_count": 106,
     "metadata": {},
     "output_type": "execute_result"
    }
   ],
   "source": [
    "df.head(20)"
   ]
  },
  {
   "cell_type": "markdown",
   "metadata": {
    "id": "satuazC6LkgO"
   },
   "source": [
    "### Last Rows of a Dataframe\n",
    "\n",
    "The same happens with the __tail__ command, if we do not pass the number of rows to display as a parameter, it will take the last 5"
   ]
  },
  {
   "cell_type": "code",
   "execution_count": 107,
   "metadata": {
    "id": "Fe7ii24GLkgO",
    "outputId": "85c75b8d-2982-4f30-90ce-fe4b97fe2735"
   },
   "outputs": [
    {
     "data": {
      "text/html": [
       "<div>\n",
       "<style scoped>\n",
       "    .dataframe tbody tr th:only-of-type {\n",
       "        vertical-align: middle;\n",
       "    }\n",
       "\n",
       "    .dataframe tbody tr th {\n",
       "        vertical-align: top;\n",
       "    }\n",
       "\n",
       "    .dataframe thead th {\n",
       "        text-align: right;\n",
       "    }\n",
       "</style>\n",
       "<table border=\"1\" class=\"dataframe\">\n",
       "  <thead>\n",
       "    <tr style=\"text-align: right;\">\n",
       "      <th></th>\n",
       "      <th>longitude</th>\n",
       "      <th>latitude</th>\n",
       "      <th>housing_median_age</th>\n",
       "      <th>total_rooms</th>\n",
       "      <th>total_bedrooms</th>\n",
       "      <th>population</th>\n",
       "      <th>households</th>\n",
       "      <th>median_income</th>\n",
       "      <th>median_house_value</th>\n",
       "      <th>ocean_proximity</th>\n",
       "    </tr>\n",
       "  </thead>\n",
       "  <tbody>\n",
       "    <tr>\n",
       "      <th>20635</th>\n",
       "      <td>-121.09</td>\n",
       "      <td>39.48</td>\n",
       "      <td>25.0</td>\n",
       "      <td>1665.0</td>\n",
       "      <td>374.0</td>\n",
       "      <td>845.0</td>\n",
       "      <td>330.0</td>\n",
       "      <td>1.5603</td>\n",
       "      <td>78100.0</td>\n",
       "      <td>INLAND</td>\n",
       "    </tr>\n",
       "    <tr>\n",
       "      <th>20636</th>\n",
       "      <td>-121.21</td>\n",
       "      <td>39.49</td>\n",
       "      <td>18.0</td>\n",
       "      <td>697.0</td>\n",
       "      <td>150.0</td>\n",
       "      <td>356.0</td>\n",
       "      <td>114.0</td>\n",
       "      <td>2.5568</td>\n",
       "      <td>77100.0</td>\n",
       "      <td>INLAND</td>\n",
       "    </tr>\n",
       "    <tr>\n",
       "      <th>20637</th>\n",
       "      <td>-121.22</td>\n",
       "      <td>39.43</td>\n",
       "      <td>17.0</td>\n",
       "      <td>2254.0</td>\n",
       "      <td>485.0</td>\n",
       "      <td>1007.0</td>\n",
       "      <td>433.0</td>\n",
       "      <td>1.7000</td>\n",
       "      <td>92300.0</td>\n",
       "      <td>INLAND</td>\n",
       "    </tr>\n",
       "    <tr>\n",
       "      <th>20638</th>\n",
       "      <td>-121.32</td>\n",
       "      <td>39.43</td>\n",
       "      <td>18.0</td>\n",
       "      <td>1860.0</td>\n",
       "      <td>409.0</td>\n",
       "      <td>741.0</td>\n",
       "      <td>349.0</td>\n",
       "      <td>1.8672</td>\n",
       "      <td>84700.0</td>\n",
       "      <td>INLAND</td>\n",
       "    </tr>\n",
       "    <tr>\n",
       "      <th>20639</th>\n",
       "      <td>-121.24</td>\n",
       "      <td>39.37</td>\n",
       "      <td>16.0</td>\n",
       "      <td>2785.0</td>\n",
       "      <td>616.0</td>\n",
       "      <td>1387.0</td>\n",
       "      <td>530.0</td>\n",
       "      <td>2.3886</td>\n",
       "      <td>89400.0</td>\n",
       "      <td>INLAND</td>\n",
       "    </tr>\n",
       "  </tbody>\n",
       "</table>\n",
       "</div>"
      ],
      "text/plain": [
       "       longitude  latitude  housing_median_age  total_rooms  total_bedrooms  \\\n",
       "20635    -121.09     39.48                25.0       1665.0           374.0   \n",
       "20636    -121.21     39.49                18.0        697.0           150.0   \n",
       "20637    -121.22     39.43                17.0       2254.0           485.0   \n",
       "20638    -121.32     39.43                18.0       1860.0           409.0   \n",
       "20639    -121.24     39.37                16.0       2785.0           616.0   \n",
       "\n",
       "       population  households  median_income  median_house_value  \\\n",
       "20635       845.0       330.0         1.5603             78100.0   \n",
       "20636       356.0       114.0         2.5568             77100.0   \n",
       "20637      1007.0       433.0         1.7000             92300.0   \n",
       "20638       741.0       349.0         1.8672             84700.0   \n",
       "20639      1387.0       530.0         2.3886             89400.0   \n",
       "\n",
       "      ocean_proximity  \n",
       "20635          INLAND  \n",
       "20636          INLAND  \n",
       "20637          INLAND  \n",
       "20638          INLAND  \n",
       "20639          INLAND  "
      ]
     },
     "execution_count": 107,
     "metadata": {},
     "output_type": "execute_result"
    }
   ],
   "source": [
    "df.tail()"
   ]
  },
  {
   "cell_type": "code",
   "execution_count": 108,
   "metadata": {
    "id": "Yk3MY4i3LkgP",
    "outputId": "204f8c75-3c88-4908-f9cd-f3d9b7801e7a"
   },
   "outputs": [
    {
     "data": {
      "text/html": [
       "<div>\n",
       "<style scoped>\n",
       "    .dataframe tbody tr th:only-of-type {\n",
       "        vertical-align: middle;\n",
       "    }\n",
       "\n",
       "    .dataframe tbody tr th {\n",
       "        vertical-align: top;\n",
       "    }\n",
       "\n",
       "    .dataframe thead th {\n",
       "        text-align: right;\n",
       "    }\n",
       "</style>\n",
       "<table border=\"1\" class=\"dataframe\">\n",
       "  <thead>\n",
       "    <tr style=\"text-align: right;\">\n",
       "      <th></th>\n",
       "      <th>longitude</th>\n",
       "      <th>latitude</th>\n",
       "      <th>housing_median_age</th>\n",
       "      <th>total_rooms</th>\n",
       "      <th>total_bedrooms</th>\n",
       "      <th>population</th>\n",
       "      <th>households</th>\n",
       "      <th>median_income</th>\n",
       "      <th>median_house_value</th>\n",
       "      <th>ocean_proximity</th>\n",
       "    </tr>\n",
       "  </thead>\n",
       "  <tbody>\n",
       "    <tr>\n",
       "      <th>20620</th>\n",
       "      <td>-121.48</td>\n",
       "      <td>39.05</td>\n",
       "      <td>40.0</td>\n",
       "      <td>198.0</td>\n",
       "      <td>41.0</td>\n",
       "      <td>151.0</td>\n",
       "      <td>48.0</td>\n",
       "      <td>4.5625</td>\n",
       "      <td>100000.0</td>\n",
       "      <td>INLAND</td>\n",
       "    </tr>\n",
       "    <tr>\n",
       "      <th>20621</th>\n",
       "      <td>-121.47</td>\n",
       "      <td>39.01</td>\n",
       "      <td>37.0</td>\n",
       "      <td>1244.0</td>\n",
       "      <td>247.0</td>\n",
       "      <td>484.0</td>\n",
       "      <td>157.0</td>\n",
       "      <td>2.3661</td>\n",
       "      <td>77500.0</td>\n",
       "      <td>INLAND</td>\n",
       "    </tr>\n",
       "    <tr>\n",
       "      <th>20622</th>\n",
       "      <td>-121.44</td>\n",
       "      <td>39.00</td>\n",
       "      <td>20.0</td>\n",
       "      <td>755.0</td>\n",
       "      <td>147.0</td>\n",
       "      <td>457.0</td>\n",
       "      <td>157.0</td>\n",
       "      <td>2.4167</td>\n",
       "      <td>67000.0</td>\n",
       "      <td>INLAND</td>\n",
       "    </tr>\n",
       "    <tr>\n",
       "      <th>20623</th>\n",
       "      <td>-121.37</td>\n",
       "      <td>39.03</td>\n",
       "      <td>32.0</td>\n",
       "      <td>1158.0</td>\n",
       "      <td>244.0</td>\n",
       "      <td>598.0</td>\n",
       "      <td>227.0</td>\n",
       "      <td>2.8235</td>\n",
       "      <td>65500.0</td>\n",
       "      <td>INLAND</td>\n",
       "    </tr>\n",
       "    <tr>\n",
       "      <th>20624</th>\n",
       "      <td>-121.41</td>\n",
       "      <td>39.04</td>\n",
       "      <td>16.0</td>\n",
       "      <td>1698.0</td>\n",
       "      <td>300.0</td>\n",
       "      <td>731.0</td>\n",
       "      <td>291.0</td>\n",
       "      <td>3.0739</td>\n",
       "      <td>87200.0</td>\n",
       "      <td>INLAND</td>\n",
       "    </tr>\n",
       "    <tr>\n",
       "      <th>20625</th>\n",
       "      <td>-121.52</td>\n",
       "      <td>39.12</td>\n",
       "      <td>37.0</td>\n",
       "      <td>102.0</td>\n",
       "      <td>17.0</td>\n",
       "      <td>29.0</td>\n",
       "      <td>14.0</td>\n",
       "      <td>4.1250</td>\n",
       "      <td>72000.0</td>\n",
       "      <td>INLAND</td>\n",
       "    </tr>\n",
       "    <tr>\n",
       "      <th>20626</th>\n",
       "      <td>-121.43</td>\n",
       "      <td>39.18</td>\n",
       "      <td>36.0</td>\n",
       "      <td>1124.0</td>\n",
       "      <td>184.0</td>\n",
       "      <td>504.0</td>\n",
       "      <td>171.0</td>\n",
       "      <td>2.1667</td>\n",
       "      <td>93800.0</td>\n",
       "      <td>INLAND</td>\n",
       "    </tr>\n",
       "    <tr>\n",
       "      <th>20627</th>\n",
       "      <td>-121.32</td>\n",
       "      <td>39.13</td>\n",
       "      <td>5.0</td>\n",
       "      <td>358.0</td>\n",
       "      <td>65.0</td>\n",
       "      <td>169.0</td>\n",
       "      <td>59.0</td>\n",
       "      <td>3.0000</td>\n",
       "      <td>162500.0</td>\n",
       "      <td>INLAND</td>\n",
       "    </tr>\n",
       "    <tr>\n",
       "      <th>20628</th>\n",
       "      <td>-121.48</td>\n",
       "      <td>39.10</td>\n",
       "      <td>19.0</td>\n",
       "      <td>2043.0</td>\n",
       "      <td>421.0</td>\n",
       "      <td>1018.0</td>\n",
       "      <td>390.0</td>\n",
       "      <td>2.5952</td>\n",
       "      <td>92400.0</td>\n",
       "      <td>INLAND</td>\n",
       "    </tr>\n",
       "    <tr>\n",
       "      <th>20629</th>\n",
       "      <td>-121.39</td>\n",
       "      <td>39.12</td>\n",
       "      <td>28.0</td>\n",
       "      <td>10035.0</td>\n",
       "      <td>1856.0</td>\n",
       "      <td>6912.0</td>\n",
       "      <td>1818.0</td>\n",
       "      <td>2.0943</td>\n",
       "      <td>108300.0</td>\n",
       "      <td>INLAND</td>\n",
       "    </tr>\n",
       "    <tr>\n",
       "      <th>20630</th>\n",
       "      <td>-121.32</td>\n",
       "      <td>39.29</td>\n",
       "      <td>11.0</td>\n",
       "      <td>2640.0</td>\n",
       "      <td>505.0</td>\n",
       "      <td>1257.0</td>\n",
       "      <td>445.0</td>\n",
       "      <td>3.5673</td>\n",
       "      <td>112000.0</td>\n",
       "      <td>INLAND</td>\n",
       "    </tr>\n",
       "    <tr>\n",
       "      <th>20631</th>\n",
       "      <td>-121.40</td>\n",
       "      <td>39.33</td>\n",
       "      <td>15.0</td>\n",
       "      <td>2655.0</td>\n",
       "      <td>493.0</td>\n",
       "      <td>1200.0</td>\n",
       "      <td>432.0</td>\n",
       "      <td>3.5179</td>\n",
       "      <td>107200.0</td>\n",
       "      <td>INLAND</td>\n",
       "    </tr>\n",
       "    <tr>\n",
       "      <th>20632</th>\n",
       "      <td>-121.45</td>\n",
       "      <td>39.26</td>\n",
       "      <td>15.0</td>\n",
       "      <td>2319.0</td>\n",
       "      <td>416.0</td>\n",
       "      <td>1047.0</td>\n",
       "      <td>385.0</td>\n",
       "      <td>3.1250</td>\n",
       "      <td>115600.0</td>\n",
       "      <td>INLAND</td>\n",
       "    </tr>\n",
       "    <tr>\n",
       "      <th>20633</th>\n",
       "      <td>-121.53</td>\n",
       "      <td>39.19</td>\n",
       "      <td>27.0</td>\n",
       "      <td>2080.0</td>\n",
       "      <td>412.0</td>\n",
       "      <td>1082.0</td>\n",
       "      <td>382.0</td>\n",
       "      <td>2.5495</td>\n",
       "      <td>98300.0</td>\n",
       "      <td>INLAND</td>\n",
       "    </tr>\n",
       "    <tr>\n",
       "      <th>20634</th>\n",
       "      <td>-121.56</td>\n",
       "      <td>39.27</td>\n",
       "      <td>28.0</td>\n",
       "      <td>2332.0</td>\n",
       "      <td>395.0</td>\n",
       "      <td>1041.0</td>\n",
       "      <td>344.0</td>\n",
       "      <td>3.7125</td>\n",
       "      <td>116800.0</td>\n",
       "      <td>INLAND</td>\n",
       "    </tr>\n",
       "    <tr>\n",
       "      <th>20635</th>\n",
       "      <td>-121.09</td>\n",
       "      <td>39.48</td>\n",
       "      <td>25.0</td>\n",
       "      <td>1665.0</td>\n",
       "      <td>374.0</td>\n",
       "      <td>845.0</td>\n",
       "      <td>330.0</td>\n",
       "      <td>1.5603</td>\n",
       "      <td>78100.0</td>\n",
       "      <td>INLAND</td>\n",
       "    </tr>\n",
       "    <tr>\n",
       "      <th>20636</th>\n",
       "      <td>-121.21</td>\n",
       "      <td>39.49</td>\n",
       "      <td>18.0</td>\n",
       "      <td>697.0</td>\n",
       "      <td>150.0</td>\n",
       "      <td>356.0</td>\n",
       "      <td>114.0</td>\n",
       "      <td>2.5568</td>\n",
       "      <td>77100.0</td>\n",
       "      <td>INLAND</td>\n",
       "    </tr>\n",
       "    <tr>\n",
       "      <th>20637</th>\n",
       "      <td>-121.22</td>\n",
       "      <td>39.43</td>\n",
       "      <td>17.0</td>\n",
       "      <td>2254.0</td>\n",
       "      <td>485.0</td>\n",
       "      <td>1007.0</td>\n",
       "      <td>433.0</td>\n",
       "      <td>1.7000</td>\n",
       "      <td>92300.0</td>\n",
       "      <td>INLAND</td>\n",
       "    </tr>\n",
       "    <tr>\n",
       "      <th>20638</th>\n",
       "      <td>-121.32</td>\n",
       "      <td>39.43</td>\n",
       "      <td>18.0</td>\n",
       "      <td>1860.0</td>\n",
       "      <td>409.0</td>\n",
       "      <td>741.0</td>\n",
       "      <td>349.0</td>\n",
       "      <td>1.8672</td>\n",
       "      <td>84700.0</td>\n",
       "      <td>INLAND</td>\n",
       "    </tr>\n",
       "    <tr>\n",
       "      <th>20639</th>\n",
       "      <td>-121.24</td>\n",
       "      <td>39.37</td>\n",
       "      <td>16.0</td>\n",
       "      <td>2785.0</td>\n",
       "      <td>616.0</td>\n",
       "      <td>1387.0</td>\n",
       "      <td>530.0</td>\n",
       "      <td>2.3886</td>\n",
       "      <td>89400.0</td>\n",
       "      <td>INLAND</td>\n",
       "    </tr>\n",
       "  </tbody>\n",
       "</table>\n",
       "</div>"
      ],
      "text/plain": [
       "       longitude  latitude  housing_median_age  total_rooms  total_bedrooms  \\\n",
       "20620    -121.48     39.05                40.0        198.0            41.0   \n",
       "20621    -121.47     39.01                37.0       1244.0           247.0   \n",
       "20622    -121.44     39.00                20.0        755.0           147.0   \n",
       "20623    -121.37     39.03                32.0       1158.0           244.0   \n",
       "20624    -121.41     39.04                16.0       1698.0           300.0   \n",
       "20625    -121.52     39.12                37.0        102.0            17.0   \n",
       "20626    -121.43     39.18                36.0       1124.0           184.0   \n",
       "20627    -121.32     39.13                 5.0        358.0            65.0   \n",
       "20628    -121.48     39.10                19.0       2043.0           421.0   \n",
       "20629    -121.39     39.12                28.0      10035.0          1856.0   \n",
       "20630    -121.32     39.29                11.0       2640.0           505.0   \n",
       "20631    -121.40     39.33                15.0       2655.0           493.0   \n",
       "20632    -121.45     39.26                15.0       2319.0           416.0   \n",
       "20633    -121.53     39.19                27.0       2080.0           412.0   \n",
       "20634    -121.56     39.27                28.0       2332.0           395.0   \n",
       "20635    -121.09     39.48                25.0       1665.0           374.0   \n",
       "20636    -121.21     39.49                18.0        697.0           150.0   \n",
       "20637    -121.22     39.43                17.0       2254.0           485.0   \n",
       "20638    -121.32     39.43                18.0       1860.0           409.0   \n",
       "20639    -121.24     39.37                16.0       2785.0           616.0   \n",
       "\n",
       "       population  households  median_income  median_house_value  \\\n",
       "20620       151.0        48.0         4.5625            100000.0   \n",
       "20621       484.0       157.0         2.3661             77500.0   \n",
       "20622       457.0       157.0         2.4167             67000.0   \n",
       "20623       598.0       227.0         2.8235             65500.0   \n",
       "20624       731.0       291.0         3.0739             87200.0   \n",
       "20625        29.0        14.0         4.1250             72000.0   \n",
       "20626       504.0       171.0         2.1667             93800.0   \n",
       "20627       169.0        59.0         3.0000            162500.0   \n",
       "20628      1018.0       390.0         2.5952             92400.0   \n",
       "20629      6912.0      1818.0         2.0943            108300.0   \n",
       "20630      1257.0       445.0         3.5673            112000.0   \n",
       "20631      1200.0       432.0         3.5179            107200.0   \n",
       "20632      1047.0       385.0         3.1250            115600.0   \n",
       "20633      1082.0       382.0         2.5495             98300.0   \n",
       "20634      1041.0       344.0         3.7125            116800.0   \n",
       "20635       845.0       330.0         1.5603             78100.0   \n",
       "20636       356.0       114.0         2.5568             77100.0   \n",
       "20637      1007.0       433.0         1.7000             92300.0   \n",
       "20638       741.0       349.0         1.8672             84700.0   \n",
       "20639      1387.0       530.0         2.3886             89400.0   \n",
       "\n",
       "      ocean_proximity  \n",
       "20620          INLAND  \n",
       "20621          INLAND  \n",
       "20622          INLAND  \n",
       "20623          INLAND  \n",
       "20624          INLAND  \n",
       "20625          INLAND  \n",
       "20626          INLAND  \n",
       "20627          INLAND  \n",
       "20628          INLAND  \n",
       "20629          INLAND  \n",
       "20630          INLAND  \n",
       "20631          INLAND  \n",
       "20632          INLAND  \n",
       "20633          INLAND  \n",
       "20634          INLAND  \n",
       "20635          INLAND  \n",
       "20636          INLAND  \n",
       "20637          INLAND  \n",
       "20638          INLAND  \n",
       "20639          INLAND  "
      ]
     },
     "execution_count": 108,
     "metadata": {},
     "output_type": "execute_result"
    }
   ],
   "source": [
    "df.tail(20)"
   ]
  },
  {
   "cell_type": "code",
   "execution_count": 109,
   "metadata": {
    "id": "RU0aly_3LkgP",
    "outputId": "b24a1519-3378-45b9-8013-5c462a12c26a"
   },
   "outputs": [
    {
     "data": {
      "text/html": [
       "<div>\n",
       "<style scoped>\n",
       "    .dataframe tbody tr th:only-of-type {\n",
       "        vertical-align: middle;\n",
       "    }\n",
       "\n",
       "    .dataframe tbody tr th {\n",
       "        vertical-align: top;\n",
       "    }\n",
       "\n",
       "    .dataframe thead th {\n",
       "        text-align: right;\n",
       "    }\n",
       "</style>\n",
       "<table border=\"1\" class=\"dataframe\">\n",
       "  <thead>\n",
       "    <tr style=\"text-align: right;\">\n",
       "      <th></th>\n",
       "      <th>longitude</th>\n",
       "      <th>latitude</th>\n",
       "      <th>housing_median_age</th>\n",
       "      <th>total_rooms</th>\n",
       "      <th>total_bedrooms</th>\n",
       "      <th>population</th>\n",
       "      <th>households</th>\n",
       "      <th>median_income</th>\n",
       "      <th>median_house_value</th>\n",
       "      <th>ocean_proximity</th>\n",
       "    </tr>\n",
       "  </thead>\n",
       "  <tbody>\n",
       "    <tr>\n",
       "      <th>0</th>\n",
       "      <td>-122.23</td>\n",
       "      <td>37.88</td>\n",
       "      <td>41.0</td>\n",
       "      <td>880.0</td>\n",
       "      <td>129.0</td>\n",
       "      <td>322.0</td>\n",
       "      <td>126.0</td>\n",
       "      <td>8.3252</td>\n",
       "      <td>452600.0</td>\n",
       "      <td>NEAR BAY</td>\n",
       "    </tr>\n",
       "    <tr>\n",
       "      <th>1</th>\n",
       "      <td>-122.22</td>\n",
       "      <td>37.86</td>\n",
       "      <td>21.0</td>\n",
       "      <td>7099.0</td>\n",
       "      <td>1106.0</td>\n",
       "      <td>2401.0</td>\n",
       "      <td>1138.0</td>\n",
       "      <td>8.3014</td>\n",
       "      <td>358500.0</td>\n",
       "      <td>NEAR BAY</td>\n",
       "    </tr>\n",
       "    <tr>\n",
       "      <th>2</th>\n",
       "      <td>-122.24</td>\n",
       "      <td>37.85</td>\n",
       "      <td>52.0</td>\n",
       "      <td>1467.0</td>\n",
       "      <td>190.0</td>\n",
       "      <td>496.0</td>\n",
       "      <td>177.0</td>\n",
       "      <td>7.2574</td>\n",
       "      <td>352100.0</td>\n",
       "      <td>NEAR BAY</td>\n",
       "    </tr>\n",
       "    <tr>\n",
       "      <th>3</th>\n",
       "      <td>-122.25</td>\n",
       "      <td>37.85</td>\n",
       "      <td>52.0</td>\n",
       "      <td>1274.0</td>\n",
       "      <td>235.0</td>\n",
       "      <td>558.0</td>\n",
       "      <td>219.0</td>\n",
       "      <td>5.6431</td>\n",
       "      <td>341300.0</td>\n",
       "      <td>NEAR BAY</td>\n",
       "    </tr>\n",
       "    <tr>\n",
       "      <th>4</th>\n",
       "      <td>-122.25</td>\n",
       "      <td>37.85</td>\n",
       "      <td>52.0</td>\n",
       "      <td>1627.0</td>\n",
       "      <td>280.0</td>\n",
       "      <td>565.0</td>\n",
       "      <td>259.0</td>\n",
       "      <td>3.8462</td>\n",
       "      <td>342200.0</td>\n",
       "      <td>NEAR BAY</td>\n",
       "    </tr>\n",
       "    <tr>\n",
       "      <th>...</th>\n",
       "      <td>...</td>\n",
       "      <td>...</td>\n",
       "      <td>...</td>\n",
       "      <td>...</td>\n",
       "      <td>...</td>\n",
       "      <td>...</td>\n",
       "      <td>...</td>\n",
       "      <td>...</td>\n",
       "      <td>...</td>\n",
       "      <td>...</td>\n",
       "    </tr>\n",
       "    <tr>\n",
       "      <th>20635</th>\n",
       "      <td>-121.09</td>\n",
       "      <td>39.48</td>\n",
       "      <td>25.0</td>\n",
       "      <td>1665.0</td>\n",
       "      <td>374.0</td>\n",
       "      <td>845.0</td>\n",
       "      <td>330.0</td>\n",
       "      <td>1.5603</td>\n",
       "      <td>78100.0</td>\n",
       "      <td>INLAND</td>\n",
       "    </tr>\n",
       "    <tr>\n",
       "      <th>20636</th>\n",
       "      <td>-121.21</td>\n",
       "      <td>39.49</td>\n",
       "      <td>18.0</td>\n",
       "      <td>697.0</td>\n",
       "      <td>150.0</td>\n",
       "      <td>356.0</td>\n",
       "      <td>114.0</td>\n",
       "      <td>2.5568</td>\n",
       "      <td>77100.0</td>\n",
       "      <td>INLAND</td>\n",
       "    </tr>\n",
       "    <tr>\n",
       "      <th>20637</th>\n",
       "      <td>-121.22</td>\n",
       "      <td>39.43</td>\n",
       "      <td>17.0</td>\n",
       "      <td>2254.0</td>\n",
       "      <td>485.0</td>\n",
       "      <td>1007.0</td>\n",
       "      <td>433.0</td>\n",
       "      <td>1.7000</td>\n",
       "      <td>92300.0</td>\n",
       "      <td>INLAND</td>\n",
       "    </tr>\n",
       "    <tr>\n",
       "      <th>20638</th>\n",
       "      <td>-121.32</td>\n",
       "      <td>39.43</td>\n",
       "      <td>18.0</td>\n",
       "      <td>1860.0</td>\n",
       "      <td>409.0</td>\n",
       "      <td>741.0</td>\n",
       "      <td>349.0</td>\n",
       "      <td>1.8672</td>\n",
       "      <td>84700.0</td>\n",
       "      <td>INLAND</td>\n",
       "    </tr>\n",
       "    <tr>\n",
       "      <th>20639</th>\n",
       "      <td>-121.24</td>\n",
       "      <td>39.37</td>\n",
       "      <td>16.0</td>\n",
       "      <td>2785.0</td>\n",
       "      <td>616.0</td>\n",
       "      <td>1387.0</td>\n",
       "      <td>530.0</td>\n",
       "      <td>2.3886</td>\n",
       "      <td>89400.0</td>\n",
       "      <td>INLAND</td>\n",
       "    </tr>\n",
       "  </tbody>\n",
       "</table>\n",
       "<p>20640 rows × 10 columns</p>\n",
       "</div>"
      ],
      "text/plain": [
       "       longitude  latitude  housing_median_age  total_rooms  total_bedrooms  \\\n",
       "0        -122.23     37.88                41.0        880.0           129.0   \n",
       "1        -122.22     37.86                21.0       7099.0          1106.0   \n",
       "2        -122.24     37.85                52.0       1467.0           190.0   \n",
       "3        -122.25     37.85                52.0       1274.0           235.0   \n",
       "4        -122.25     37.85                52.0       1627.0           280.0   \n",
       "...          ...       ...                 ...          ...             ...   \n",
       "20635    -121.09     39.48                25.0       1665.0           374.0   \n",
       "20636    -121.21     39.49                18.0        697.0           150.0   \n",
       "20637    -121.22     39.43                17.0       2254.0           485.0   \n",
       "20638    -121.32     39.43                18.0       1860.0           409.0   \n",
       "20639    -121.24     39.37                16.0       2785.0           616.0   \n",
       "\n",
       "       population  households  median_income  median_house_value  \\\n",
       "0           322.0       126.0         8.3252            452600.0   \n",
       "1          2401.0      1138.0         8.3014            358500.0   \n",
       "2           496.0       177.0         7.2574            352100.0   \n",
       "3           558.0       219.0         5.6431            341300.0   \n",
       "4           565.0       259.0         3.8462            342200.0   \n",
       "...           ...         ...            ...                 ...   \n",
       "20635       845.0       330.0         1.5603             78100.0   \n",
       "20636       356.0       114.0         2.5568             77100.0   \n",
       "20637      1007.0       433.0         1.7000             92300.0   \n",
       "20638       741.0       349.0         1.8672             84700.0   \n",
       "20639      1387.0       530.0         2.3886             89400.0   \n",
       "\n",
       "      ocean_proximity  \n",
       "0            NEAR BAY  \n",
       "1            NEAR BAY  \n",
       "2            NEAR BAY  \n",
       "3            NEAR BAY  \n",
       "4            NEAR BAY  \n",
       "...               ...  \n",
       "20635          INLAND  \n",
       "20636          INLAND  \n",
       "20637          INLAND  \n",
       "20638          INLAND  \n",
       "20639          INLAND  \n",
       "\n",
       "[20640 rows x 10 columns]"
      ]
     },
     "execution_count": 109,
     "metadata": {},
     "output_type": "execute_result"
    }
   ],
   "source": [
    "df"
   ]
  },
  {
   "cell_type": "markdown",
   "metadata": {
    "id": "CkSNxqBJLkgQ"
   },
   "source": [
    "### Unique values by column"
   ]
  },
  {
   "cell_type": "code",
   "execution_count": 110,
   "metadata": {
    "id": "p7aUS4uHLkgQ",
    "outputId": "33ce2b8a-1a79-43fe-a260-259ca601031a"
   },
   "outputs": [
    {
     "data": {
      "text/plain": [
       "array(['NEAR BAY', '<1H OCEAN', 'INLAND', 'NEAR OCEAN', 'ISLAND'],\n",
       "      dtype=object)"
      ]
     },
     "execution_count": 110,
     "metadata": {},
     "output_type": "execute_result"
    }
   ],
   "source": [
    "df.ocean_proximity.unique()"
   ]
  },
  {
   "cell_type": "code",
   "execution_count": 111,
   "metadata": {
    "id": "aB2aO0UwLkgQ",
    "outputId": "0b3a45b4-93bf-4a34-ea29-de592c9354d7"
   },
   "outputs": [
    {
     "data": {
      "text/plain": [
       "array([452600., 358500., 352100., ..., 425800., 200700.,  47000.])"
      ]
     },
     "execution_count": 111,
     "metadata": {},
     "output_type": "execute_result"
    }
   ],
   "source": [
    "df.median_house_value.unique()"
   ]
  },
  {
   "cell_type": "markdown",
   "metadata": {
    "id": "7PLDfbRULkgR"
   },
   "source": [
    "As we can see, this is a function that has a greater impact on categorical variables, since in general, numerical variables have too many different values."
   ]
  },
  {
   "cell_type": "markdown",
   "metadata": {
    "id": "rS2WFVBELkgR"
   },
   "source": [
    "### Summary with statistics"
   ]
  },
  {
   "cell_type": "code",
   "execution_count": 112,
   "metadata": {
    "id": "AjfL1iXjLkgS",
    "outputId": "f99ac7cf-68b5-4623-ea40-ebf4e0df7807"
   },
   "outputs": [
    {
     "data": {
      "text/html": [
       "<div>\n",
       "<style scoped>\n",
       "    .dataframe tbody tr th:only-of-type {\n",
       "        vertical-align: middle;\n",
       "    }\n",
       "\n",
       "    .dataframe tbody tr th {\n",
       "        vertical-align: top;\n",
       "    }\n",
       "\n",
       "    .dataframe thead th {\n",
       "        text-align: right;\n",
       "    }\n",
       "</style>\n",
       "<table border=\"1\" class=\"dataframe\">\n",
       "  <thead>\n",
       "    <tr style=\"text-align: right;\">\n",
       "      <th></th>\n",
       "      <th>longitude</th>\n",
       "      <th>latitude</th>\n",
       "      <th>housing_median_age</th>\n",
       "      <th>total_rooms</th>\n",
       "      <th>total_bedrooms</th>\n",
       "      <th>population</th>\n",
       "      <th>households</th>\n",
       "      <th>median_income</th>\n",
       "      <th>median_house_value</th>\n",
       "    </tr>\n",
       "  </thead>\n",
       "  <tbody>\n",
       "    <tr>\n",
       "      <th>count</th>\n",
       "      <td>20640.000000</td>\n",
       "      <td>20640.000000</td>\n",
       "      <td>20640.000000</td>\n",
       "      <td>20640.000000</td>\n",
       "      <td>20433.000000</td>\n",
       "      <td>20640.000000</td>\n",
       "      <td>20640.000000</td>\n",
       "      <td>20640.000000</td>\n",
       "      <td>20640.000000</td>\n",
       "    </tr>\n",
       "    <tr>\n",
       "      <th>mean</th>\n",
       "      <td>-119.569704</td>\n",
       "      <td>35.631861</td>\n",
       "      <td>28.639486</td>\n",
       "      <td>2635.763081</td>\n",
       "      <td>537.870553</td>\n",
       "      <td>1425.476744</td>\n",
       "      <td>499.539680</td>\n",
       "      <td>3.870671</td>\n",
       "      <td>206855.816909</td>\n",
       "    </tr>\n",
       "    <tr>\n",
       "      <th>std</th>\n",
       "      <td>2.003532</td>\n",
       "      <td>2.135952</td>\n",
       "      <td>12.585558</td>\n",
       "      <td>2181.615252</td>\n",
       "      <td>421.385070</td>\n",
       "      <td>1132.462122</td>\n",
       "      <td>382.329753</td>\n",
       "      <td>1.899822</td>\n",
       "      <td>115395.615874</td>\n",
       "    </tr>\n",
       "    <tr>\n",
       "      <th>min</th>\n",
       "      <td>-124.350000</td>\n",
       "      <td>32.540000</td>\n",
       "      <td>1.000000</td>\n",
       "      <td>2.000000</td>\n",
       "      <td>1.000000</td>\n",
       "      <td>3.000000</td>\n",
       "      <td>1.000000</td>\n",
       "      <td>0.499900</td>\n",
       "      <td>14999.000000</td>\n",
       "    </tr>\n",
       "    <tr>\n",
       "      <th>25%</th>\n",
       "      <td>-121.800000</td>\n",
       "      <td>33.930000</td>\n",
       "      <td>18.000000</td>\n",
       "      <td>1447.750000</td>\n",
       "      <td>296.000000</td>\n",
       "      <td>787.000000</td>\n",
       "      <td>280.000000</td>\n",
       "      <td>2.563400</td>\n",
       "      <td>119600.000000</td>\n",
       "    </tr>\n",
       "    <tr>\n",
       "      <th>50%</th>\n",
       "      <td>-118.490000</td>\n",
       "      <td>34.260000</td>\n",
       "      <td>29.000000</td>\n",
       "      <td>2127.000000</td>\n",
       "      <td>435.000000</td>\n",
       "      <td>1166.000000</td>\n",
       "      <td>409.000000</td>\n",
       "      <td>3.534800</td>\n",
       "      <td>179700.000000</td>\n",
       "    </tr>\n",
       "    <tr>\n",
       "      <th>75%</th>\n",
       "      <td>-118.010000</td>\n",
       "      <td>37.710000</td>\n",
       "      <td>37.000000</td>\n",
       "      <td>3148.000000</td>\n",
       "      <td>647.000000</td>\n",
       "      <td>1725.000000</td>\n",
       "      <td>605.000000</td>\n",
       "      <td>4.743250</td>\n",
       "      <td>264725.000000</td>\n",
       "    </tr>\n",
       "    <tr>\n",
       "      <th>max</th>\n",
       "      <td>-114.310000</td>\n",
       "      <td>41.950000</td>\n",
       "      <td>52.000000</td>\n",
       "      <td>39320.000000</td>\n",
       "      <td>6445.000000</td>\n",
       "      <td>35682.000000</td>\n",
       "      <td>6082.000000</td>\n",
       "      <td>15.000100</td>\n",
       "      <td>500001.000000</td>\n",
       "    </tr>\n",
       "  </tbody>\n",
       "</table>\n",
       "</div>"
      ],
      "text/plain": [
       "          longitude      latitude  housing_median_age   total_rooms  \\\n",
       "count  20640.000000  20640.000000        20640.000000  20640.000000   \n",
       "mean    -119.569704     35.631861           28.639486   2635.763081   \n",
       "std        2.003532      2.135952           12.585558   2181.615252   \n",
       "min     -124.350000     32.540000            1.000000      2.000000   \n",
       "25%     -121.800000     33.930000           18.000000   1447.750000   \n",
       "50%     -118.490000     34.260000           29.000000   2127.000000   \n",
       "75%     -118.010000     37.710000           37.000000   3148.000000   \n",
       "max     -114.310000     41.950000           52.000000  39320.000000   \n",
       "\n",
       "       total_bedrooms    population    households  median_income  \\\n",
       "count    20433.000000  20640.000000  20640.000000   20640.000000   \n",
       "mean       537.870553   1425.476744    499.539680       3.870671   \n",
       "std        421.385070   1132.462122    382.329753       1.899822   \n",
       "min          1.000000      3.000000      1.000000       0.499900   \n",
       "25%        296.000000    787.000000    280.000000       2.563400   \n",
       "50%        435.000000   1166.000000    409.000000       3.534800   \n",
       "75%        647.000000   1725.000000    605.000000       4.743250   \n",
       "max       6445.000000  35682.000000   6082.000000      15.000100   \n",
       "\n",
       "       median_house_value  \n",
       "count        20640.000000  \n",
       "mean        206855.816909  \n",
       "std         115395.615874  \n",
       "min          14999.000000  \n",
       "25%         119600.000000  \n",
       "50%         179700.000000  \n",
       "75%         264725.000000  \n",
       "max         500001.000000  "
      ]
     },
     "execution_count": 112,
     "metadata": {},
     "output_type": "execute_result"
    }
   ],
   "source": [
    "df.describe()"
   ]
  },
  {
   "cell_type": "code",
   "execution_count": 113,
   "metadata": {
    "id": "7D4ed34lLkgS"
   },
   "outputs": [],
   "source": [
    "# 15 + 96\n",
    "# 20 + 45\n",
    "# 3 + 3\n",
    "# 20 + 99\n",
    "\n",
    "# 2565988784156 + 654548974894"
   ]
  },
  {
   "cell_type": "markdown",
   "metadata": {
    "id": "jLSFz0WVLkgT"
   },
   "source": [
    "https://www.kdnuggets.com/2019/11/understanding-boxplots.html"
   ]
  },
  {
   "cell_type": "markdown",
   "metadata": {
    "id": "rz1HTaxnLkgT"
   },
   "source": [
    "It is interesting to note that the statistical summary automatically discards any variable that is not numerical."
   ]
  },
  {
   "cell_type": "code",
   "execution_count": 114,
   "metadata": {
    "id": "lYl9UhAiLkgU",
    "outputId": "838c3131-4c9e-492b-8530-4a953dc5738d"
   },
   "outputs": [
    {
     "name": "stdout",
     "output_type": "stream",
     "text": [
      "<class 'pandas.core.frame.DataFrame'>\n",
      "RangeIndex: 20640 entries, 0 to 20639\n",
      "Data columns (total 10 columns):\n",
      " #   Column              Non-Null Count  Dtype  \n",
      "---  ------              --------------  -----  \n",
      " 0   longitude           20640 non-null  float64\n",
      " 1   latitude            20640 non-null  float64\n",
      " 2   housing_median_age  20640 non-null  float64\n",
      " 3   total_rooms         20640 non-null  float64\n",
      " 4   total_bedrooms      20433 non-null  float64\n",
      " 5   population          20640 non-null  float64\n",
      " 6   households          20640 non-null  float64\n",
      " 7   median_income       20640 non-null  float64\n",
      " 8   median_house_value  20640 non-null  float64\n",
      " 9   ocean_proximity     20640 non-null  object \n",
      "dtypes: float64(9), object(1)\n",
      "memory usage: 1.6+ MB\n"
     ]
    }
   ],
   "source": [
    "df.info()"
   ]
  },
  {
   "cell_type": "code",
   "execution_count": 115,
   "metadata": {
    "id": "PSXtHnjSLkgV"
   },
   "outputs": [],
   "source": [
    "# Object -> Categórica | Category\n",
    "#        -> Fecha  | Datetime\n",
    "#        -> String | str"
   ]
  },
  {
   "cell_type": "code",
   "execution_count": 116,
   "metadata": {
    "id": "Ht4XSzwfLkgV",
    "outputId": "c2c299e0-31d9-4e52-bda5-1f66e9816292"
   },
   "outputs": [
    {
     "data": {
      "text/html": [
       "<div>\n",
       "<style scoped>\n",
       "    .dataframe tbody tr th:only-of-type {\n",
       "        vertical-align: middle;\n",
       "    }\n",
       "\n",
       "    .dataframe tbody tr th {\n",
       "        vertical-align: top;\n",
       "    }\n",
       "\n",
       "    .dataframe thead th {\n",
       "        text-align: right;\n",
       "    }\n",
       "</style>\n",
       "<table border=\"1\" class=\"dataframe\">\n",
       "  <thead>\n",
       "    <tr style=\"text-align: right;\">\n",
       "      <th></th>\n",
       "      <th>ocean_proximity</th>\n",
       "    </tr>\n",
       "  </thead>\n",
       "  <tbody>\n",
       "    <tr>\n",
       "      <th>count</th>\n",
       "      <td>20640</td>\n",
       "    </tr>\n",
       "    <tr>\n",
       "      <th>unique</th>\n",
       "      <td>5</td>\n",
       "    </tr>\n",
       "    <tr>\n",
       "      <th>top</th>\n",
       "      <td>&lt;1H OCEAN</td>\n",
       "    </tr>\n",
       "    <tr>\n",
       "      <th>freq</th>\n",
       "      <td>9136</td>\n",
       "    </tr>\n",
       "  </tbody>\n",
       "</table>\n",
       "</div>"
      ],
      "text/plain": [
       "       ocean_proximity\n",
       "count            20640\n",
       "unique               5\n",
       "top          <1H OCEAN\n",
       "freq              9136"
      ]
     },
     "execution_count": 116,
     "metadata": {},
     "output_type": "execute_result"
    }
   ],
   "source": [
    "df.describe(include=\"object\")"
   ]
  },
  {
   "cell_type": "code",
   "execution_count": 117,
   "metadata": {
    "id": "iTeJRg_nLkgV",
    "outputId": "d8e63030-1d28-480b-a4bc-417b9153c32b"
   },
   "outputs": [
    {
     "data": {
      "text/html": [
       "<div>\n",
       "<style scoped>\n",
       "    .dataframe tbody tr th:only-of-type {\n",
       "        vertical-align: middle;\n",
       "    }\n",
       "\n",
       "    .dataframe tbody tr th {\n",
       "        vertical-align: top;\n",
       "    }\n",
       "\n",
       "    .dataframe thead th {\n",
       "        text-align: right;\n",
       "    }\n",
       "</style>\n",
       "<table border=\"1\" class=\"dataframe\">\n",
       "  <thead>\n",
       "    <tr style=\"text-align: right;\">\n",
       "      <th></th>\n",
       "      <th>longitude</th>\n",
       "      <th>latitude</th>\n",
       "      <th>housing_median_age</th>\n",
       "      <th>total_rooms</th>\n",
       "      <th>total_bedrooms</th>\n",
       "      <th>population</th>\n",
       "      <th>households</th>\n",
       "      <th>median_income</th>\n",
       "      <th>median_house_value</th>\n",
       "      <th>ocean_proximity</th>\n",
       "    </tr>\n",
       "  </thead>\n",
       "  <tbody>\n",
       "    <tr>\n",
       "      <th>count</th>\n",
       "      <td>20640.000000</td>\n",
       "      <td>20640.000000</td>\n",
       "      <td>20640.000000</td>\n",
       "      <td>20640.000000</td>\n",
       "      <td>20433.000000</td>\n",
       "      <td>20640.000000</td>\n",
       "      <td>20640.000000</td>\n",
       "      <td>20640.000000</td>\n",
       "      <td>20640.000000</td>\n",
       "      <td>20640</td>\n",
       "    </tr>\n",
       "    <tr>\n",
       "      <th>unique</th>\n",
       "      <td>NaN</td>\n",
       "      <td>NaN</td>\n",
       "      <td>NaN</td>\n",
       "      <td>NaN</td>\n",
       "      <td>NaN</td>\n",
       "      <td>NaN</td>\n",
       "      <td>NaN</td>\n",
       "      <td>NaN</td>\n",
       "      <td>NaN</td>\n",
       "      <td>5</td>\n",
       "    </tr>\n",
       "    <tr>\n",
       "      <th>top</th>\n",
       "      <td>NaN</td>\n",
       "      <td>NaN</td>\n",
       "      <td>NaN</td>\n",
       "      <td>NaN</td>\n",
       "      <td>NaN</td>\n",
       "      <td>NaN</td>\n",
       "      <td>NaN</td>\n",
       "      <td>NaN</td>\n",
       "      <td>NaN</td>\n",
       "      <td>&lt;1H OCEAN</td>\n",
       "    </tr>\n",
       "    <tr>\n",
       "      <th>freq</th>\n",
       "      <td>NaN</td>\n",
       "      <td>NaN</td>\n",
       "      <td>NaN</td>\n",
       "      <td>NaN</td>\n",
       "      <td>NaN</td>\n",
       "      <td>NaN</td>\n",
       "      <td>NaN</td>\n",
       "      <td>NaN</td>\n",
       "      <td>NaN</td>\n",
       "      <td>9136</td>\n",
       "    </tr>\n",
       "    <tr>\n",
       "      <th>mean</th>\n",
       "      <td>-119.569704</td>\n",
       "      <td>35.631861</td>\n",
       "      <td>28.639486</td>\n",
       "      <td>2635.763081</td>\n",
       "      <td>537.870553</td>\n",
       "      <td>1425.476744</td>\n",
       "      <td>499.539680</td>\n",
       "      <td>3.870671</td>\n",
       "      <td>206855.816909</td>\n",
       "      <td>NaN</td>\n",
       "    </tr>\n",
       "    <tr>\n",
       "      <th>std</th>\n",
       "      <td>2.003532</td>\n",
       "      <td>2.135952</td>\n",
       "      <td>12.585558</td>\n",
       "      <td>2181.615252</td>\n",
       "      <td>421.385070</td>\n",
       "      <td>1132.462122</td>\n",
       "      <td>382.329753</td>\n",
       "      <td>1.899822</td>\n",
       "      <td>115395.615874</td>\n",
       "      <td>NaN</td>\n",
       "    </tr>\n",
       "    <tr>\n",
       "      <th>min</th>\n",
       "      <td>-124.350000</td>\n",
       "      <td>32.540000</td>\n",
       "      <td>1.000000</td>\n",
       "      <td>2.000000</td>\n",
       "      <td>1.000000</td>\n",
       "      <td>3.000000</td>\n",
       "      <td>1.000000</td>\n",
       "      <td>0.499900</td>\n",
       "      <td>14999.000000</td>\n",
       "      <td>NaN</td>\n",
       "    </tr>\n",
       "    <tr>\n",
       "      <th>25%</th>\n",
       "      <td>-121.800000</td>\n",
       "      <td>33.930000</td>\n",
       "      <td>18.000000</td>\n",
       "      <td>1447.750000</td>\n",
       "      <td>296.000000</td>\n",
       "      <td>787.000000</td>\n",
       "      <td>280.000000</td>\n",
       "      <td>2.563400</td>\n",
       "      <td>119600.000000</td>\n",
       "      <td>NaN</td>\n",
       "    </tr>\n",
       "    <tr>\n",
       "      <th>50%</th>\n",
       "      <td>-118.490000</td>\n",
       "      <td>34.260000</td>\n",
       "      <td>29.000000</td>\n",
       "      <td>2127.000000</td>\n",
       "      <td>435.000000</td>\n",
       "      <td>1166.000000</td>\n",
       "      <td>409.000000</td>\n",
       "      <td>3.534800</td>\n",
       "      <td>179700.000000</td>\n",
       "      <td>NaN</td>\n",
       "    </tr>\n",
       "    <tr>\n",
       "      <th>75%</th>\n",
       "      <td>-118.010000</td>\n",
       "      <td>37.710000</td>\n",
       "      <td>37.000000</td>\n",
       "      <td>3148.000000</td>\n",
       "      <td>647.000000</td>\n",
       "      <td>1725.000000</td>\n",
       "      <td>605.000000</td>\n",
       "      <td>4.743250</td>\n",
       "      <td>264725.000000</td>\n",
       "      <td>NaN</td>\n",
       "    </tr>\n",
       "    <tr>\n",
       "      <th>max</th>\n",
       "      <td>-114.310000</td>\n",
       "      <td>41.950000</td>\n",
       "      <td>52.000000</td>\n",
       "      <td>39320.000000</td>\n",
       "      <td>6445.000000</td>\n",
       "      <td>35682.000000</td>\n",
       "      <td>6082.000000</td>\n",
       "      <td>15.000100</td>\n",
       "      <td>500001.000000</td>\n",
       "      <td>NaN</td>\n",
       "    </tr>\n",
       "  </tbody>\n",
       "</table>\n",
       "</div>"
      ],
      "text/plain": [
       "           longitude      latitude  housing_median_age   total_rooms  \\\n",
       "count   20640.000000  20640.000000        20640.000000  20640.000000   \n",
       "unique           NaN           NaN                 NaN           NaN   \n",
       "top              NaN           NaN                 NaN           NaN   \n",
       "freq             NaN           NaN                 NaN           NaN   \n",
       "mean     -119.569704     35.631861           28.639486   2635.763081   \n",
       "std         2.003532      2.135952           12.585558   2181.615252   \n",
       "min      -124.350000     32.540000            1.000000      2.000000   \n",
       "25%      -121.800000     33.930000           18.000000   1447.750000   \n",
       "50%      -118.490000     34.260000           29.000000   2127.000000   \n",
       "75%      -118.010000     37.710000           37.000000   3148.000000   \n",
       "max      -114.310000     41.950000           52.000000  39320.000000   \n",
       "\n",
       "        total_bedrooms    population    households  median_income  \\\n",
       "count     20433.000000  20640.000000  20640.000000   20640.000000   \n",
       "unique             NaN           NaN           NaN            NaN   \n",
       "top                NaN           NaN           NaN            NaN   \n",
       "freq               NaN           NaN           NaN            NaN   \n",
       "mean        537.870553   1425.476744    499.539680       3.870671   \n",
       "std         421.385070   1132.462122    382.329753       1.899822   \n",
       "min           1.000000      3.000000      1.000000       0.499900   \n",
       "25%         296.000000    787.000000    280.000000       2.563400   \n",
       "50%         435.000000   1166.000000    409.000000       3.534800   \n",
       "75%         647.000000   1725.000000    605.000000       4.743250   \n",
       "max        6445.000000  35682.000000   6082.000000      15.000100   \n",
       "\n",
       "        median_house_value ocean_proximity  \n",
       "count         20640.000000           20640  \n",
       "unique                 NaN               5  \n",
       "top                    NaN       <1H OCEAN  \n",
       "freq                   NaN            9136  \n",
       "mean         206855.816909             NaN  \n",
       "std          115395.615874             NaN  \n",
       "min           14999.000000             NaN  \n",
       "25%          119600.000000             NaN  \n",
       "50%          179700.000000             NaN  \n",
       "75%          264725.000000             NaN  \n",
       "max          500001.000000             NaN  "
      ]
     },
     "execution_count": 117,
     "metadata": {},
     "output_type": "execute_result"
    }
   ],
   "source": [
    "df.describe(include=\"all\")"
   ]
  },
  {
   "cell_type": "code",
   "execution_count": 118,
   "metadata": {
    "id": "kn3ntj4wLkgW",
    "outputId": "e251cadc-b3a9-4e53-8762-10657ab9b913"
   },
   "outputs": [
    {
     "data": {
      "text/plain": [
       "Index(['count', 'mean', 'std', 'min', '25%', '50%', '75%', 'max'], dtype='object')"
      ]
     },
     "execution_count": 118,
     "metadata": {},
     "output_type": "execute_result"
    }
   ],
   "source": [
    "df.describe().index"
   ]
  },
  {
   "cell_type": "code",
   "execution_count": 119,
   "metadata": {
    "id": "LmFMqG0lLkgW",
    "outputId": "1bbbc12f-d42e-4750-824b-dd06c08afe27"
   },
   "outputs": [
    {
     "data": {
      "text/plain": [
       "longitude                  2.003532\n",
       "latitude                   2.135952\n",
       "housing_median_age        12.585558\n",
       "total_rooms             2181.615252\n",
       "total_bedrooms           421.385070\n",
       "population              1132.462122\n",
       "households               382.329753\n",
       "median_income              1.899822\n",
       "median_house_value    115395.615874\n",
       "Name: std, dtype: float64"
      ]
     },
     "execution_count": 119,
     "metadata": {},
     "output_type": "execute_result"
    }
   ],
   "source": [
    "df.describe().loc[\"std\"]"
   ]
  },
  {
   "cell_type": "code",
   "execution_count": 120,
   "metadata": {
    "id": "hEERe6tELkgX",
    "outputId": "db674de8-7e04-4243-bc67-8ae2e7099033"
   },
   "outputs": [
    {
     "data": {
      "text/plain": [
       "count    20640.000000\n",
       "mean      2635.763081\n",
       "std       2181.615252\n",
       "min          2.000000\n",
       "25%       1447.750000\n",
       "50%       2127.000000\n",
       "75%       3148.000000\n",
       "max      39320.000000\n",
       "Name: total_rooms, dtype: float64"
      ]
     },
     "execution_count": 120,
     "metadata": {},
     "output_type": "execute_result"
    }
   ],
   "source": [
    "df.describe()[\"total_rooms\"]"
   ]
  },
  {
   "cell_type": "code",
   "execution_count": 121,
   "metadata": {
    "id": "WtfDoA_JLkgX",
    "outputId": "e96e39fe-8fd1-4d31-a6b6-647bdd58b3c7"
   },
   "outputs": [
    {
     "data": {
      "text/plain": [
       "20640.0"
      ]
     },
     "execution_count": 121,
     "metadata": {},
     "output_type": "execute_result"
    }
   ],
   "source": [
    "df.describe()[\"total_rooms\"][\"count\"]"
   ]
  },
  {
   "cell_type": "code",
   "execution_count": 122,
   "metadata": {
    "id": "qX1IYLPxLkgY",
    "outputId": "01de881f-aac7-4777-b7ee-97fcbb48ea24"
   },
   "outputs": [
    {
     "data": {
      "text/plain": [
       "count    20640.000000\n",
       "mean      2635.763081\n",
       "std       2181.615252\n",
       "min          2.000000\n",
       "25%       1447.750000\n",
       "50%       2127.000000\n",
       "75%       3148.000000\n",
       "max      39320.000000\n",
       "Name: total_rooms, dtype: float64"
      ]
     },
     "execution_count": 122,
     "metadata": {},
     "output_type": "execute_result"
    }
   ],
   "source": [
    "df.total_rooms.describe()"
   ]
  },
  {
   "cell_type": "markdown",
   "metadata": {
    "id": "IaonkU2jLkgZ"
   },
   "source": [
    "### Mean of a column"
   ]
  },
  {
   "cell_type": "code",
   "execution_count": 123,
   "metadata": {
    "id": "FoFn0p23Lkga",
    "outputId": "729be33f-1661-49f4-ad0f-d1a3414bbfc8"
   },
   "outputs": [
    {
     "data": {
      "text/plain": [
       "2635.7630813953488"
      ]
     },
     "execution_count": 123,
     "metadata": {},
     "output_type": "execute_result"
    }
   ],
   "source": [
    "df.total_rooms.mean()"
   ]
  },
  {
   "cell_type": "code",
   "execution_count": 124,
   "metadata": {
    "id": "MYvQOX_KLkgb",
    "outputId": "52c07ae9-a265-47c8-855a-f9799fe2b86b"
   },
   "outputs": [
    {
     "data": {
      "text/plain": [
       "2635.763"
      ]
     },
     "execution_count": 124,
     "metadata": {},
     "output_type": "execute_result"
    }
   ],
   "source": [
    "round(df.total_rooms.mean(), 3)"
   ]
  },
  {
   "cell_type": "code",
   "execution_count": null,
   "metadata": {
    "id": "j6Sm7gUTLkgb"
   },
   "outputs": [],
   "source": []
  },
  {
   "cell_type": "markdown",
   "metadata": {
    "id": "nxALpZjJLkgb"
   },
   "source": [
    "## Filtering columns"
   ]
  },
  {
   "cell_type": "code",
   "execution_count": 125,
   "metadata": {
    "id": "iVaBX0hjLkgb",
    "outputId": "7e467d04-315c-49e0-fa10-4f364ec3fdd7"
   },
   "outputs": [
    {
     "data": {
      "text/html": [
       "<div>\n",
       "<style scoped>\n",
       "    .dataframe tbody tr th:only-of-type {\n",
       "        vertical-align: middle;\n",
       "    }\n",
       "\n",
       "    .dataframe tbody tr th {\n",
       "        vertical-align: top;\n",
       "    }\n",
       "\n",
       "    .dataframe thead th {\n",
       "        text-align: right;\n",
       "    }\n",
       "</style>\n",
       "<table border=\"1\" class=\"dataframe\">\n",
       "  <thead>\n",
       "    <tr style=\"text-align: right;\">\n",
       "      <th></th>\n",
       "      <th>longitude</th>\n",
       "      <th>latitude</th>\n",
       "      <th>housing_median_age</th>\n",
       "      <th>total_rooms</th>\n",
       "      <th>total_bedrooms</th>\n",
       "      <th>population</th>\n",
       "      <th>households</th>\n",
       "      <th>median_income</th>\n",
       "      <th>median_house_value</th>\n",
       "    </tr>\n",
       "  </thead>\n",
       "  <tbody>\n",
       "    <tr>\n",
       "      <th>count</th>\n",
       "      <td>20640.000000</td>\n",
       "      <td>20640.000000</td>\n",
       "      <td>20640.000000</td>\n",
       "      <td>20640.000000</td>\n",
       "      <td>20433.000000</td>\n",
       "      <td>20640.000000</td>\n",
       "      <td>20640.000000</td>\n",
       "      <td>20640.000000</td>\n",
       "      <td>20640.000000</td>\n",
       "    </tr>\n",
       "    <tr>\n",
       "      <th>mean</th>\n",
       "      <td>-119.569704</td>\n",
       "      <td>35.631861</td>\n",
       "      <td>28.639486</td>\n",
       "      <td>2635.763081</td>\n",
       "      <td>537.870553</td>\n",
       "      <td>1425.476744</td>\n",
       "      <td>499.539680</td>\n",
       "      <td>3.870671</td>\n",
       "      <td>206855.816909</td>\n",
       "    </tr>\n",
       "    <tr>\n",
       "      <th>std</th>\n",
       "      <td>2.003532</td>\n",
       "      <td>2.135952</td>\n",
       "      <td>12.585558</td>\n",
       "      <td>2181.615252</td>\n",
       "      <td>421.385070</td>\n",
       "      <td>1132.462122</td>\n",
       "      <td>382.329753</td>\n",
       "      <td>1.899822</td>\n",
       "      <td>115395.615874</td>\n",
       "    </tr>\n",
       "    <tr>\n",
       "      <th>min</th>\n",
       "      <td>-124.350000</td>\n",
       "      <td>32.540000</td>\n",
       "      <td>1.000000</td>\n",
       "      <td>2.000000</td>\n",
       "      <td>1.000000</td>\n",
       "      <td>3.000000</td>\n",
       "      <td>1.000000</td>\n",
       "      <td>0.499900</td>\n",
       "      <td>14999.000000</td>\n",
       "    </tr>\n",
       "    <tr>\n",
       "      <th>25%</th>\n",
       "      <td>-121.800000</td>\n",
       "      <td>33.930000</td>\n",
       "      <td>18.000000</td>\n",
       "      <td>1447.750000</td>\n",
       "      <td>296.000000</td>\n",
       "      <td>787.000000</td>\n",
       "      <td>280.000000</td>\n",
       "      <td>2.563400</td>\n",
       "      <td>119600.000000</td>\n",
       "    </tr>\n",
       "    <tr>\n",
       "      <th>50%</th>\n",
       "      <td>-118.490000</td>\n",
       "      <td>34.260000</td>\n",
       "      <td>29.000000</td>\n",
       "      <td>2127.000000</td>\n",
       "      <td>435.000000</td>\n",
       "      <td>1166.000000</td>\n",
       "      <td>409.000000</td>\n",
       "      <td>3.534800</td>\n",
       "      <td>179700.000000</td>\n",
       "    </tr>\n",
       "    <tr>\n",
       "      <th>75%</th>\n",
       "      <td>-118.010000</td>\n",
       "      <td>37.710000</td>\n",
       "      <td>37.000000</td>\n",
       "      <td>3148.000000</td>\n",
       "      <td>647.000000</td>\n",
       "      <td>1725.000000</td>\n",
       "      <td>605.000000</td>\n",
       "      <td>4.743250</td>\n",
       "      <td>264725.000000</td>\n",
       "    </tr>\n",
       "    <tr>\n",
       "      <th>max</th>\n",
       "      <td>-114.310000</td>\n",
       "      <td>41.950000</td>\n",
       "      <td>52.000000</td>\n",
       "      <td>39320.000000</td>\n",
       "      <td>6445.000000</td>\n",
       "      <td>35682.000000</td>\n",
       "      <td>6082.000000</td>\n",
       "      <td>15.000100</td>\n",
       "      <td>500001.000000</td>\n",
       "    </tr>\n",
       "  </tbody>\n",
       "</table>\n",
       "</div>"
      ],
      "text/plain": [
       "          longitude      latitude  housing_median_age   total_rooms  \\\n",
       "count  20640.000000  20640.000000        20640.000000  20640.000000   \n",
       "mean    -119.569704     35.631861           28.639486   2635.763081   \n",
       "std        2.003532      2.135952           12.585558   2181.615252   \n",
       "min     -124.350000     32.540000            1.000000      2.000000   \n",
       "25%     -121.800000     33.930000           18.000000   1447.750000   \n",
       "50%     -118.490000     34.260000           29.000000   2127.000000   \n",
       "75%     -118.010000     37.710000           37.000000   3148.000000   \n",
       "max     -114.310000     41.950000           52.000000  39320.000000   \n",
       "\n",
       "       total_bedrooms    population    households  median_income  \\\n",
       "count    20433.000000  20640.000000  20640.000000   20640.000000   \n",
       "mean       537.870553   1425.476744    499.539680       3.870671   \n",
       "std        421.385070   1132.462122    382.329753       1.899822   \n",
       "min          1.000000      3.000000      1.000000       0.499900   \n",
       "25%        296.000000    787.000000    280.000000       2.563400   \n",
       "50%        435.000000   1166.000000    409.000000       3.534800   \n",
       "75%        647.000000   1725.000000    605.000000       4.743250   \n",
       "max       6445.000000  35682.000000   6082.000000      15.000100   \n",
       "\n",
       "       median_house_value  \n",
       "count        20640.000000  \n",
       "mean        206855.816909  \n",
       "std         115395.615874  \n",
       "min          14999.000000  \n",
       "25%         119600.000000  \n",
       "50%         179700.000000  \n",
       "75%         264725.000000  \n",
       "max         500001.000000  "
      ]
     },
     "execution_count": 125,
     "metadata": {},
     "output_type": "execute_result"
    }
   ],
   "source": [
    "df.describe()"
   ]
  },
  {
   "cell_type": "code",
   "execution_count": 126,
   "metadata": {
    "id": "MJ8dkOt3Lkgb",
    "outputId": "44903360-1a86-40bf-b709-6b3d1baa20c4"
   },
   "outputs": [
    {
     "data": {
      "text/html": [
       "<div>\n",
       "<style scoped>\n",
       "    .dataframe tbody tr th:only-of-type {\n",
       "        vertical-align: middle;\n",
       "    }\n",
       "\n",
       "    .dataframe tbody tr th {\n",
       "        vertical-align: top;\n",
       "    }\n",
       "\n",
       "    .dataframe thead th {\n",
       "        text-align: right;\n",
       "    }\n",
       "</style>\n",
       "<table border=\"1\" class=\"dataframe\">\n",
       "  <thead>\n",
       "    <tr style=\"text-align: right;\">\n",
       "      <th></th>\n",
       "      <th>longitude</th>\n",
       "      <th>latitude</th>\n",
       "      <th>housing_median_age</th>\n",
       "      <th>total_rooms</th>\n",
       "      <th>total_bedrooms</th>\n",
       "      <th>population</th>\n",
       "      <th>households</th>\n",
       "      <th>median_income</th>\n",
       "      <th>median_house_value</th>\n",
       "      <th>ocean_proximity</th>\n",
       "    </tr>\n",
       "  </thead>\n",
       "  <tbody>\n",
       "    <tr>\n",
       "      <th>1</th>\n",
       "      <td>-122.22</td>\n",
       "      <td>37.86</td>\n",
       "      <td>21.0</td>\n",
       "      <td>7099.0</td>\n",
       "      <td>1106.0</td>\n",
       "      <td>2401.0</td>\n",
       "      <td>1138.0</td>\n",
       "      <td>8.3014</td>\n",
       "      <td>358500.0</td>\n",
       "      <td>NEAR BAY</td>\n",
       "    </tr>\n",
       "    <tr>\n",
       "      <th>50</th>\n",
       "      <td>-122.27</td>\n",
       "      <td>37.82</td>\n",
       "      <td>21.0</td>\n",
       "      <td>896.0</td>\n",
       "      <td>453.0</td>\n",
       "      <td>735.0</td>\n",
       "      <td>438.0</td>\n",
       "      <td>0.9218</td>\n",
       "      <td>171900.0</td>\n",
       "      <td>NEAR BAY</td>\n",
       "    </tr>\n",
       "    <tr>\n",
       "      <th>59</th>\n",
       "      <td>-122.29</td>\n",
       "      <td>37.82</td>\n",
       "      <td>2.0</td>\n",
       "      <td>158.0</td>\n",
       "      <td>43.0</td>\n",
       "      <td>94.0</td>\n",
       "      <td>57.0</td>\n",
       "      <td>2.5625</td>\n",
       "      <td>60000.0</td>\n",
       "      <td>NEAR BAY</td>\n",
       "    </tr>\n",
       "    <tr>\n",
       "      <th>70</th>\n",
       "      <td>-122.29</td>\n",
       "      <td>37.81</td>\n",
       "      <td>26.0</td>\n",
       "      <td>768.0</td>\n",
       "      <td>152.0</td>\n",
       "      <td>392.0</td>\n",
       "      <td>127.0</td>\n",
       "      <td>1.7719</td>\n",
       "      <td>82500.0</td>\n",
       "      <td>NEAR BAY</td>\n",
       "    </tr>\n",
       "    <tr>\n",
       "      <th>74</th>\n",
       "      <td>-122.29</td>\n",
       "      <td>37.81</td>\n",
       "      <td>20.0</td>\n",
       "      <td>835.0</td>\n",
       "      <td>161.0</td>\n",
       "      <td>290.0</td>\n",
       "      <td>133.0</td>\n",
       "      <td>2.4830</td>\n",
       "      <td>137500.0</td>\n",
       "      <td>NEAR BAY</td>\n",
       "    </tr>\n",
       "    <tr>\n",
       "      <th>...</th>\n",
       "      <td>...</td>\n",
       "      <td>...</td>\n",
       "      <td>...</td>\n",
       "      <td>...</td>\n",
       "      <td>...</td>\n",
       "      <td>...</td>\n",
       "      <td>...</td>\n",
       "      <td>...</td>\n",
       "      <td>...</td>\n",
       "      <td>...</td>\n",
       "    </tr>\n",
       "    <tr>\n",
       "      <th>20635</th>\n",
       "      <td>-121.09</td>\n",
       "      <td>39.48</td>\n",
       "      <td>25.0</td>\n",
       "      <td>1665.0</td>\n",
       "      <td>374.0</td>\n",
       "      <td>845.0</td>\n",
       "      <td>330.0</td>\n",
       "      <td>1.5603</td>\n",
       "      <td>78100.0</td>\n",
       "      <td>INLAND</td>\n",
       "    </tr>\n",
       "    <tr>\n",
       "      <th>20636</th>\n",
       "      <td>-121.21</td>\n",
       "      <td>39.49</td>\n",
       "      <td>18.0</td>\n",
       "      <td>697.0</td>\n",
       "      <td>150.0</td>\n",
       "      <td>356.0</td>\n",
       "      <td>114.0</td>\n",
       "      <td>2.5568</td>\n",
       "      <td>77100.0</td>\n",
       "      <td>INLAND</td>\n",
       "    </tr>\n",
       "    <tr>\n",
       "      <th>20637</th>\n",
       "      <td>-121.22</td>\n",
       "      <td>39.43</td>\n",
       "      <td>17.0</td>\n",
       "      <td>2254.0</td>\n",
       "      <td>485.0</td>\n",
       "      <td>1007.0</td>\n",
       "      <td>433.0</td>\n",
       "      <td>1.7000</td>\n",
       "      <td>92300.0</td>\n",
       "      <td>INLAND</td>\n",
       "    </tr>\n",
       "    <tr>\n",
       "      <th>20638</th>\n",
       "      <td>-121.32</td>\n",
       "      <td>39.43</td>\n",
       "      <td>18.0</td>\n",
       "      <td>1860.0</td>\n",
       "      <td>409.0</td>\n",
       "      <td>741.0</td>\n",
       "      <td>349.0</td>\n",
       "      <td>1.8672</td>\n",
       "      <td>84700.0</td>\n",
       "      <td>INLAND</td>\n",
       "    </tr>\n",
       "    <tr>\n",
       "      <th>20639</th>\n",
       "      <td>-121.24</td>\n",
       "      <td>39.37</td>\n",
       "      <td>16.0</td>\n",
       "      <td>2785.0</td>\n",
       "      <td>616.0</td>\n",
       "      <td>1387.0</td>\n",
       "      <td>530.0</td>\n",
       "      <td>2.3886</td>\n",
       "      <td>89400.0</td>\n",
       "      <td>INLAND</td>\n",
       "    </tr>\n",
       "  </tbody>\n",
       "</table>\n",
       "<p>10208 rows × 10 columns</p>\n",
       "</div>"
      ],
      "text/plain": [
       "       longitude  latitude  housing_median_age  total_rooms  total_bedrooms  \\\n",
       "1        -122.22     37.86                21.0       7099.0          1106.0   \n",
       "50       -122.27     37.82                21.0        896.0           453.0   \n",
       "59       -122.29     37.82                 2.0        158.0            43.0   \n",
       "70       -122.29     37.81                26.0        768.0           152.0   \n",
       "74       -122.29     37.81                20.0        835.0           161.0   \n",
       "...          ...       ...                 ...          ...             ...   \n",
       "20635    -121.09     39.48                25.0       1665.0           374.0   \n",
       "20636    -121.21     39.49                18.0        697.0           150.0   \n",
       "20637    -121.22     39.43                17.0       2254.0           485.0   \n",
       "20638    -121.32     39.43                18.0       1860.0           409.0   \n",
       "20639    -121.24     39.37                16.0       2785.0           616.0   \n",
       "\n",
       "       population  households  median_income  median_house_value  \\\n",
       "1          2401.0      1138.0         8.3014            358500.0   \n",
       "50          735.0       438.0         0.9218            171900.0   \n",
       "59           94.0        57.0         2.5625             60000.0   \n",
       "70          392.0       127.0         1.7719             82500.0   \n",
       "74          290.0       133.0         2.4830            137500.0   \n",
       "...           ...         ...            ...                 ...   \n",
       "20635       845.0       330.0         1.5603             78100.0   \n",
       "20636       356.0       114.0         2.5568             77100.0   \n",
       "20637      1007.0       433.0         1.7000             92300.0   \n",
       "20638       741.0       349.0         1.8672             84700.0   \n",
       "20639      1387.0       530.0         2.3886             89400.0   \n",
       "\n",
       "      ocean_proximity  \n",
       "1            NEAR BAY  \n",
       "50           NEAR BAY  \n",
       "59           NEAR BAY  \n",
       "70           NEAR BAY  \n",
       "74           NEAR BAY  \n",
       "...               ...  \n",
       "20635          INLAND  \n",
       "20636          INLAND  \n",
       "20637          INLAND  \n",
       "20638          INLAND  \n",
       "20639          INLAND  \n",
       "\n",
       "[10208 rows x 10 columns]"
      ]
     },
     "execution_count": 126,
     "metadata": {},
     "output_type": "execute_result"
    }
   ],
   "source": [
    "df[ (df[\"housing_median_age\"] <= 28.63)  ]"
   ]
  },
  {
   "cell_type": "code",
   "execution_count": 127,
   "metadata": {
    "id": "sCQCZ8F4Lkgc",
    "outputId": "51dc61d5-21af-4f68-f9d6-ba0bb44f3303"
   },
   "outputs": [
    {
     "data": {
      "text/html": [
       "<div>\n",
       "<style scoped>\n",
       "    .dataframe tbody tr th:only-of-type {\n",
       "        vertical-align: middle;\n",
       "    }\n",
       "\n",
       "    .dataframe tbody tr th {\n",
       "        vertical-align: top;\n",
       "    }\n",
       "\n",
       "    .dataframe thead th {\n",
       "        text-align: right;\n",
       "    }\n",
       "</style>\n",
       "<table border=\"1\" class=\"dataframe\">\n",
       "  <thead>\n",
       "    <tr style=\"text-align: right;\">\n",
       "      <th></th>\n",
       "      <th>longitude</th>\n",
       "      <th>latitude</th>\n",
       "      <th>housing_median_age</th>\n",
       "      <th>total_rooms</th>\n",
       "      <th>total_bedrooms</th>\n",
       "      <th>population</th>\n",
       "      <th>households</th>\n",
       "      <th>median_income</th>\n",
       "      <th>median_house_value</th>\n",
       "      <th>ocean_proximity</th>\n",
       "    </tr>\n",
       "  </thead>\n",
       "  <tbody>\n",
       "    <tr>\n",
       "      <th>1</th>\n",
       "      <td>-122.22</td>\n",
       "      <td>37.86</td>\n",
       "      <td>21.0</td>\n",
       "      <td>7099.0</td>\n",
       "      <td>1106.0</td>\n",
       "      <td>2401.0</td>\n",
       "      <td>1138.0</td>\n",
       "      <td>8.3014</td>\n",
       "      <td>358500.0</td>\n",
       "      <td>NEAR BAY</td>\n",
       "    </tr>\n",
       "    <tr>\n",
       "      <th>50</th>\n",
       "      <td>-122.27</td>\n",
       "      <td>37.82</td>\n",
       "      <td>21.0</td>\n",
       "      <td>896.0</td>\n",
       "      <td>453.0</td>\n",
       "      <td>735.0</td>\n",
       "      <td>438.0</td>\n",
       "      <td>0.9218</td>\n",
       "      <td>171900.0</td>\n",
       "      <td>NEAR BAY</td>\n",
       "    </tr>\n",
       "  </tbody>\n",
       "</table>\n",
       "</div>"
      ],
      "text/plain": [
       "    longitude  latitude  housing_median_age  total_rooms  total_bedrooms  \\\n",
       "1     -122.22     37.86                21.0       7099.0          1106.0   \n",
       "50    -122.27     37.82                21.0        896.0           453.0   \n",
       "\n",
       "    population  households  median_income  median_house_value ocean_proximity  \n",
       "1       2401.0      1138.0         8.3014            358500.0        NEAR BAY  \n",
       "50       735.0       438.0         0.9218            171900.0        NEAR BAY  "
      ]
     },
     "execution_count": 127,
     "metadata": {},
     "output_type": "execute_result"
    }
   ],
   "source": [
    "df[ (df[\"housing_median_age\"] <= 28.63)  ][:2]"
   ]
  },
  {
   "cell_type": "code",
   "execution_count": 128,
   "metadata": {
    "id": "QH3G61jXLkge",
    "outputId": "d16babbb-b9f9-43ff-8737-ff88847ed174"
   },
   "outputs": [
    {
     "data": {
      "text/plain": [
       "0        False\n",
       "1         True\n",
       "2        False\n",
       "3        False\n",
       "4        False\n",
       "         ...  \n",
       "20635     True\n",
       "20636     True\n",
       "20637     True\n",
       "20638     True\n",
       "20639     True\n",
       "Name: housing_median_age, Length: 20640, dtype: bool"
      ]
     },
     "execution_count": 128,
     "metadata": {},
     "output_type": "execute_result"
    }
   ],
   "source": [
    "df[\"housing_median_age\"] <= 28.63 # Máscara booleana"
   ]
  },
  {
   "cell_type": "code",
   "execution_count": 129,
   "metadata": {
    "id": "tnPTSomeLkge",
    "outputId": "c6c54af0-fe1e-42af-816a-f2c0eb603cdf"
   },
   "outputs": [
    {
     "data": {
      "text/html": [
       "<div>\n",
       "<style scoped>\n",
       "    .dataframe tbody tr th:only-of-type {\n",
       "        vertical-align: middle;\n",
       "    }\n",
       "\n",
       "    .dataframe tbody tr th {\n",
       "        vertical-align: top;\n",
       "    }\n",
       "\n",
       "    .dataframe thead th {\n",
       "        text-align: right;\n",
       "    }\n",
       "</style>\n",
       "<table border=\"1\" class=\"dataframe\">\n",
       "  <thead>\n",
       "    <tr style=\"text-align: right;\">\n",
       "      <th></th>\n",
       "      <th>longitude</th>\n",
       "      <th>latitude</th>\n",
       "      <th>housing_median_age</th>\n",
       "      <th>total_rooms</th>\n",
       "      <th>total_bedrooms</th>\n",
       "      <th>population</th>\n",
       "      <th>households</th>\n",
       "      <th>median_income</th>\n",
       "      <th>median_house_value</th>\n",
       "      <th>ocean_proximity</th>\n",
       "    </tr>\n",
       "  </thead>\n",
       "  <tbody>\n",
       "    <tr>\n",
       "      <th>20622</th>\n",
       "      <td>-121.44</td>\n",
       "      <td>39.00</td>\n",
       "      <td>20.0</td>\n",
       "      <td>755.0</td>\n",
       "      <td>147.0</td>\n",
       "      <td>457.0</td>\n",
       "      <td>157.0</td>\n",
       "      <td>2.4167</td>\n",
       "      <td>67000.0</td>\n",
       "      <td>INLAND</td>\n",
       "    </tr>\n",
       "    <tr>\n",
       "      <th>20624</th>\n",
       "      <td>-121.41</td>\n",
       "      <td>39.04</td>\n",
       "      <td>16.0</td>\n",
       "      <td>1698.0</td>\n",
       "      <td>300.0</td>\n",
       "      <td>731.0</td>\n",
       "      <td>291.0</td>\n",
       "      <td>3.0739</td>\n",
       "      <td>87200.0</td>\n",
       "      <td>INLAND</td>\n",
       "    </tr>\n",
       "    <tr>\n",
       "      <th>20627</th>\n",
       "      <td>-121.32</td>\n",
       "      <td>39.13</td>\n",
       "      <td>5.0</td>\n",
       "      <td>358.0</td>\n",
       "      <td>65.0</td>\n",
       "      <td>169.0</td>\n",
       "      <td>59.0</td>\n",
       "      <td>3.0000</td>\n",
       "      <td>162500.0</td>\n",
       "      <td>INLAND</td>\n",
       "    </tr>\n",
       "    <tr>\n",
       "      <th>20628</th>\n",
       "      <td>-121.48</td>\n",
       "      <td>39.10</td>\n",
       "      <td>19.0</td>\n",
       "      <td>2043.0</td>\n",
       "      <td>421.0</td>\n",
       "      <td>1018.0</td>\n",
       "      <td>390.0</td>\n",
       "      <td>2.5952</td>\n",
       "      <td>92400.0</td>\n",
       "      <td>INLAND</td>\n",
       "    </tr>\n",
       "    <tr>\n",
       "      <th>20629</th>\n",
       "      <td>-121.39</td>\n",
       "      <td>39.12</td>\n",
       "      <td>28.0</td>\n",
       "      <td>10035.0</td>\n",
       "      <td>1856.0</td>\n",
       "      <td>6912.0</td>\n",
       "      <td>1818.0</td>\n",
       "      <td>2.0943</td>\n",
       "      <td>108300.0</td>\n",
       "      <td>INLAND</td>\n",
       "    </tr>\n",
       "    <tr>\n",
       "      <th>20630</th>\n",
       "      <td>-121.32</td>\n",
       "      <td>39.29</td>\n",
       "      <td>11.0</td>\n",
       "      <td>2640.0</td>\n",
       "      <td>505.0</td>\n",
       "      <td>1257.0</td>\n",
       "      <td>445.0</td>\n",
       "      <td>3.5673</td>\n",
       "      <td>112000.0</td>\n",
       "      <td>INLAND</td>\n",
       "    </tr>\n",
       "    <tr>\n",
       "      <th>20631</th>\n",
       "      <td>-121.40</td>\n",
       "      <td>39.33</td>\n",
       "      <td>15.0</td>\n",
       "      <td>2655.0</td>\n",
       "      <td>493.0</td>\n",
       "      <td>1200.0</td>\n",
       "      <td>432.0</td>\n",
       "      <td>3.5179</td>\n",
       "      <td>107200.0</td>\n",
       "      <td>INLAND</td>\n",
       "    </tr>\n",
       "    <tr>\n",
       "      <th>20632</th>\n",
       "      <td>-121.45</td>\n",
       "      <td>39.26</td>\n",
       "      <td>15.0</td>\n",
       "      <td>2319.0</td>\n",
       "      <td>416.0</td>\n",
       "      <td>1047.0</td>\n",
       "      <td>385.0</td>\n",
       "      <td>3.1250</td>\n",
       "      <td>115600.0</td>\n",
       "      <td>INLAND</td>\n",
       "    </tr>\n",
       "    <tr>\n",
       "      <th>20633</th>\n",
       "      <td>-121.53</td>\n",
       "      <td>39.19</td>\n",
       "      <td>27.0</td>\n",
       "      <td>2080.0</td>\n",
       "      <td>412.0</td>\n",
       "      <td>1082.0</td>\n",
       "      <td>382.0</td>\n",
       "      <td>2.5495</td>\n",
       "      <td>98300.0</td>\n",
       "      <td>INLAND</td>\n",
       "    </tr>\n",
       "    <tr>\n",
       "      <th>20634</th>\n",
       "      <td>-121.56</td>\n",
       "      <td>39.27</td>\n",
       "      <td>28.0</td>\n",
       "      <td>2332.0</td>\n",
       "      <td>395.0</td>\n",
       "      <td>1041.0</td>\n",
       "      <td>344.0</td>\n",
       "      <td>3.7125</td>\n",
       "      <td>116800.0</td>\n",
       "      <td>INLAND</td>\n",
       "    </tr>\n",
       "  </tbody>\n",
       "</table>\n",
       "</div>"
      ],
      "text/plain": [
       "       longitude  latitude  housing_median_age  total_rooms  total_bedrooms  \\\n",
       "20622    -121.44     39.00                20.0        755.0           147.0   \n",
       "20624    -121.41     39.04                16.0       1698.0           300.0   \n",
       "20627    -121.32     39.13                 5.0        358.0            65.0   \n",
       "20628    -121.48     39.10                19.0       2043.0           421.0   \n",
       "20629    -121.39     39.12                28.0      10035.0          1856.0   \n",
       "20630    -121.32     39.29                11.0       2640.0           505.0   \n",
       "20631    -121.40     39.33                15.0       2655.0           493.0   \n",
       "20632    -121.45     39.26                15.0       2319.0           416.0   \n",
       "20633    -121.53     39.19                27.0       2080.0           412.0   \n",
       "20634    -121.56     39.27                28.0       2332.0           395.0   \n",
       "\n",
       "       population  households  median_income  median_house_value  \\\n",
       "20622       457.0       157.0         2.4167             67000.0   \n",
       "20624       731.0       291.0         3.0739             87200.0   \n",
       "20627       169.0        59.0         3.0000            162500.0   \n",
       "20628      1018.0       390.0         2.5952             92400.0   \n",
       "20629      6912.0      1818.0         2.0943            108300.0   \n",
       "20630      1257.0       445.0         3.5673            112000.0   \n",
       "20631      1200.0       432.0         3.5179            107200.0   \n",
       "20632      1047.0       385.0         3.1250            115600.0   \n",
       "20633      1082.0       382.0         2.5495             98300.0   \n",
       "20634      1041.0       344.0         3.7125            116800.0   \n",
       "\n",
       "      ocean_proximity  \n",
       "20622          INLAND  \n",
       "20624          INLAND  \n",
       "20627          INLAND  \n",
       "20628          INLAND  \n",
       "20629          INLAND  \n",
       "20630          INLAND  \n",
       "20631          INLAND  \n",
       "20632          INLAND  \n",
       "20633          INLAND  \n",
       "20634          INLAND  "
      ]
     },
     "execution_count": 129,
     "metadata": {},
     "output_type": "execute_result"
    }
   ],
   "source": [
    "df[ (df[\"housing_median_age\"] <= 28.63)  ][-15:-5]"
   ]
  },
  {
   "cell_type": "code",
   "execution_count": 130,
   "metadata": {
    "id": "cCg9IkOsLkgf",
    "outputId": "8eb4c752-688c-4694-bd94-e76ebe36e281"
   },
   "outputs": [
    {
     "ename": "IndexError",
     "evalue": "single positional indexer is out-of-bounds",
     "output_type": "error",
     "traceback": [
      "\u001b[1;31m---------------------------------------------------------------------------\u001b[0m",
      "\u001b[1;31mIndexError\u001b[0m                                Traceback (most recent call last)",
      "Input \u001b[1;32mIn [130]\u001b[0m, in \u001b[0;36m<cell line: 1>\u001b[1;34m()\u001b[0m\n\u001b[1;32m----> 1\u001b[0m \u001b[43mdf\u001b[49m\u001b[43m[\u001b[49m\u001b[43m \u001b[49m\u001b[43m(\u001b[49m\u001b[43mdf\u001b[49m\u001b[43m[\u001b[49m\u001b[38;5;124;43m\"\u001b[39;49m\u001b[38;5;124;43mhousing_median_age\u001b[39;49m\u001b[38;5;124;43m\"\u001b[39;49m\u001b[43m]\u001b[49m\u001b[43m \u001b[49m\u001b[38;5;241;43m<\u001b[39;49m\u001b[38;5;241;43m=\u001b[39;49m\u001b[43m \u001b[49m\u001b[38;5;241;43m28.63\u001b[39;49m\u001b[43m)\u001b[49m\u001b[43m  \u001b[49m\u001b[43m]\u001b[49m\u001b[38;5;241;43m.\u001b[39;49m\u001b[43miloc\u001b[49m\u001b[43m[\u001b[49m\u001b[38;5;241;43m20623\u001b[39;49m\u001b[43m]\u001b[49m\n",
      "File \u001b[1;32m~\\anaconda3\\lib\\site-packages\\pandas\\core\\indexing.py:967\u001b[0m, in \u001b[0;36m_LocationIndexer.__getitem__\u001b[1;34m(self, key)\u001b[0m\n\u001b[0;32m    964\u001b[0m axis \u001b[38;5;241m=\u001b[39m \u001b[38;5;28mself\u001b[39m\u001b[38;5;241m.\u001b[39maxis \u001b[38;5;129;01mor\u001b[39;00m \u001b[38;5;241m0\u001b[39m\n\u001b[0;32m    966\u001b[0m maybe_callable \u001b[38;5;241m=\u001b[39m com\u001b[38;5;241m.\u001b[39mapply_if_callable(key, \u001b[38;5;28mself\u001b[39m\u001b[38;5;241m.\u001b[39mobj)\n\u001b[1;32m--> 967\u001b[0m \u001b[38;5;28;01mreturn\u001b[39;00m \u001b[38;5;28;43mself\u001b[39;49m\u001b[38;5;241;43m.\u001b[39;49m\u001b[43m_getitem_axis\u001b[49m\u001b[43m(\u001b[49m\u001b[43mmaybe_callable\u001b[49m\u001b[43m,\u001b[49m\u001b[43m \u001b[49m\u001b[43maxis\u001b[49m\u001b[38;5;241;43m=\u001b[39;49m\u001b[43maxis\u001b[49m\u001b[43m)\u001b[49m\n",
      "File \u001b[1;32m~\\anaconda3\\lib\\site-packages\\pandas\\core\\indexing.py:1520\u001b[0m, in \u001b[0;36m_iLocIndexer._getitem_axis\u001b[1;34m(self, key, axis)\u001b[0m\n\u001b[0;32m   1517\u001b[0m     \u001b[38;5;28;01mraise\u001b[39;00m \u001b[38;5;167;01mTypeError\u001b[39;00m(\u001b[38;5;124m\"\u001b[39m\u001b[38;5;124mCannot index by location index with a non-integer key\u001b[39m\u001b[38;5;124m\"\u001b[39m)\n\u001b[0;32m   1519\u001b[0m \u001b[38;5;66;03m# validate the location\u001b[39;00m\n\u001b[1;32m-> 1520\u001b[0m \u001b[38;5;28;43mself\u001b[39;49m\u001b[38;5;241;43m.\u001b[39;49m\u001b[43m_validate_integer\u001b[49m\u001b[43m(\u001b[49m\u001b[43mkey\u001b[49m\u001b[43m,\u001b[49m\u001b[43m \u001b[49m\u001b[43maxis\u001b[49m\u001b[43m)\u001b[49m\n\u001b[0;32m   1522\u001b[0m \u001b[38;5;28;01mreturn\u001b[39;00m \u001b[38;5;28mself\u001b[39m\u001b[38;5;241m.\u001b[39mobj\u001b[38;5;241m.\u001b[39m_ixs(key, axis\u001b[38;5;241m=\u001b[39maxis)\n",
      "File \u001b[1;32m~\\anaconda3\\lib\\site-packages\\pandas\\core\\indexing.py:1452\u001b[0m, in \u001b[0;36m_iLocIndexer._validate_integer\u001b[1;34m(self, key, axis)\u001b[0m\n\u001b[0;32m   1450\u001b[0m len_axis \u001b[38;5;241m=\u001b[39m \u001b[38;5;28mlen\u001b[39m(\u001b[38;5;28mself\u001b[39m\u001b[38;5;241m.\u001b[39mobj\u001b[38;5;241m.\u001b[39m_get_axis(axis))\n\u001b[0;32m   1451\u001b[0m \u001b[38;5;28;01mif\u001b[39;00m key \u001b[38;5;241m>\u001b[39m\u001b[38;5;241m=\u001b[39m len_axis \u001b[38;5;129;01mor\u001b[39;00m key \u001b[38;5;241m<\u001b[39m \u001b[38;5;241m-\u001b[39mlen_axis:\n\u001b[1;32m-> 1452\u001b[0m     \u001b[38;5;28;01mraise\u001b[39;00m \u001b[38;5;167;01mIndexError\u001b[39;00m(\u001b[38;5;124m\"\u001b[39m\u001b[38;5;124msingle positional indexer is out-of-bounds\u001b[39m\u001b[38;5;124m\"\u001b[39m)\n",
      "\u001b[1;31mIndexError\u001b[0m: single positional indexer is out-of-bounds"
     ]
    }
   ],
   "source": [
    "df[ (df[\"housing_median_age\"] <= 28.63)  ].iloc[20623]"
   ]
  },
  {
   "cell_type": "code",
   "execution_count": null,
   "metadata": {
    "id": "AVmTM4D6Lkgf"
   },
   "outputs": [],
   "source": [
    "# MEDIA = 28.63\n",
    "media = round(df.housing_median_age.mean(),2)"
   ]
  },
  {
   "cell_type": "code",
   "execution_count": null,
   "metadata": {
    "id": "MTdBVxrkLkgg",
    "outputId": "d89efeac-5e61-4024-f0fb-69d2eef8f029"
   },
   "outputs": [],
   "source": [
    "df[ (df[\"housing_median_age\"] <= media) ]"
   ]
  },
  {
   "cell_type": "code",
   "execution_count": null,
   "metadata": {
    "id": "YnJx1xklLkgg",
    "outputId": "dcb8f144-cc1a-4c1d-8aa7-941a763fea7f"
   },
   "outputs": [],
   "source": [
    "df.describe()"
   ]
  },
  {
   "cell_type": "code",
   "execution_count": null,
   "metadata": {
    "id": "w8smJ5kULkgg"
   },
   "outputs": [],
   "source": [
    "# and - &\n",
    "# or  - |"
   ]
  },
  {
   "cell_type": "code",
   "execution_count": null,
   "metadata": {
    "id": "4-bbGd6wLkgh",
    "outputId": "f8bdf901-a4b5-4ab0-d292-30f5c48d5e47"
   },
   "outputs": [],
   "source": [
    "df[ (df[\"housing_median_age\"] <= media) & (df.total_bedrooms < 600)]"
   ]
  },
  {
   "cell_type": "code",
   "execution_count": null,
   "metadata": {
    "id": "esklofqsLkgh",
    "outputId": "d205b459-1b4b-4b88-e76d-07621decc117"
   },
   "outputs": [],
   "source": [
    "df[ (df[\"housing_median_age\"] <= media) & (df.total_bedrooms < 600)].describe()"
   ]
  },
  {
   "cell_type": "code",
   "execution_count": null,
   "metadata": {
    "id": "MtkVAwJnLkgh"
   },
   "outputs": [],
   "source": [
    "import numpy as np"
   ]
  },
  {
   "cell_type": "code",
   "execution_count": null,
   "metadata": {
    "id": "4VGM38NmLkgh",
    "outputId": "0879fe8f-1362-438d-b4c8-eac4f8426246"
   },
   "outputs": [],
   "source": [
    "df.total_rooms.describe()[\"max\"]"
   ]
  },
  {
   "cell_type": "code",
   "execution_count": null,
   "metadata": {
    "id": "-yzJYMC2Lkgi",
    "outputId": "cd441dad-be41-4ef8-caa7-bd1a48557174"
   },
   "outputs": [],
   "source": [
    "np.percentile(df.total_rooms, 99)"
   ]
  },
  {
   "cell_type": "code",
   "execution_count": null,
   "metadata": {
    "id": "930UdGnhLkgi",
    "outputId": "201f5cab-3e61-499e-bdea-a40606b1bd15"
   },
   "outputs": [],
   "source": [
    "np.percentile(df.total_rooms, 98)"
   ]
  },
  {
   "cell_type": "markdown",
   "metadata": {
    "id": "TnVAdivYLkgj"
   },
   "source": [
    "### Copy a dataframe\n",
    "\n",
    "As in lists and arrays, dataframes share memory. It is easy to make a mistake and assign a complete dataframe to a new variable, later, in this new variable make modifications, thinking that we are only making them in the copy of the dataframe, but it is not like that, we are making modifications in both dataframes since being stored in memory, they share the same positions, let's see an example of how NOT to copy a dataframe."
   ]
  },
  {
   "cell_type": "code",
   "execution_count": null,
   "metadata": {
    "id": "QwzSu4ovLkgj",
    "outputId": "8c4bd463-bd2b-4341-bf94-7e4fc8200983"
   },
   "outputs": [],
   "source": [
    "df_copia = df.head()\n",
    "df_copia"
   ]
  },
  {
   "cell_type": "code",
   "execution_count": null,
   "metadata": {
    "id": "6tEik-6kLkgj",
    "outputId": "87d81ac2-36c0-41bc-d158-df54cca98837"
   },
   "outputs": [],
   "source": [
    "df_copia.iloc[[0]] = np.zeros(len(df.columns))\n",
    "df_copia"
   ]
  },
  {
   "cell_type": "markdown",
   "metadata": {
    "id": "lXAj4W7pLkgk"
   },
   "source": [
    "changes made in bad_copy reflects to original data"
   ]
  },
  {
   "cell_type": "code",
   "execution_count": null,
   "metadata": {
    "id": "USBe-5DsLkgl",
    "outputId": "4a03a742-0bbe-4507-a0a0-2ed005536a88"
   },
   "outputs": [],
   "source": [
    "df"
   ]
  },
  {
   "cell_type": "markdown",
   "metadata": {
    "id": "CSjkqDHTLkgl"
   },
   "source": [
    "Therefore, we have modified both dataframes, to only make modifications on the copy, we have to use the command <code>.copy</code>"
   ]
  },
  {
   "cell_type": "code",
   "execution_count": null,
   "metadata": {
    "id": "vFxPfzfjLkgl"
   },
   "outputs": [],
   "source": [
    "df = pd.read_csv(\"CR_Files/housing_California.csv\")"
   ]
  },
  {
   "cell_type": "code",
   "execution_count": null,
   "metadata": {
    "id": "d-4PuwXCLkgm",
    "outputId": "e816e148-3429-4432-dc0b-c9f485fff22d"
   },
   "outputs": [],
   "source": [
    "df_cabecera = df.head().copy()\n",
    "df_cabecera.iloc[[0]] = np.zeros(len(df.columns))\n",
    "df_cabecera"
   ]
  },
  {
   "cell_type": "code",
   "execution_count": null,
   "metadata": {
    "id": "pBEWPPa3Lkgm",
    "outputId": "615bb0dd-758c-440a-e1d4-f17983e8c514"
   },
   "outputs": [],
   "source": [
    "df.head()"
   ]
  },
  {
   "cell_type": "markdown",
   "metadata": {
    "id": "ZhsSyFkPLkgn"
   },
   "source": [
    "### Correlation matrix"
   ]
  },
  {
   "cell_type": "code",
   "execution_count": null,
   "metadata": {
    "id": "In1irzTALkgn",
    "outputId": "0169fc1d-57a0-44f3-a585-4aaf804d51da"
   },
   "outputs": [],
   "source": [
    "df.corr()"
   ]
  },
  {
   "cell_type": "markdown",
   "metadata": {
    "id": "t0bdkF0ALkgo"
   },
   "source": [
    "Only numeric values will be taken"
   ]
  },
  {
   "cell_type": "markdown",
   "metadata": {
    "id": "2qYuTWSALkgo"
   },
   "source": [
    "### Names of columns"
   ]
  },
  {
   "cell_type": "code",
   "execution_count": null,
   "metadata": {
    "id": "Gd9dtqg6Lkgp",
    "outputId": "e3d4afab-949d-4bea-dcb0-1ac01208efe6"
   },
   "outputs": [],
   "source": [
    "df.columns"
   ]
  },
  {
   "cell_type": "markdown",
   "metadata": {
    "id": "hbq_Fx8RLkgp"
   },
   "source": [
    "Columns attribute work as list"
   ]
  },
  {
   "cell_type": "markdown",
   "metadata": {
    "id": "iAHrZiFtLkgs"
   },
   "source": [
    "### Managing Duplicates"
   ]
  },
  {
   "cell_type": "code",
   "execution_count": null,
   "metadata": {
    "id": "gZkaIAakLkgt"
   },
   "outputs": [],
   "source": [
    "df_veinte = df.head(21).copy()\n",
    "\n",
    "df_veinte = df_veinte.append(df_veinte.iloc[[20]])\n",
    "df_veinte = df_veinte.append(df_veinte.iloc[[20]])\n",
    "df_veinte = df_veinte.append(df_veinte.iloc[[20]])\n",
    "df_veinte = df_veinte.append(df_veinte.iloc[[20]])\n",
    "df_veinte = df_veinte.append(df_veinte.iloc[[20]])\n",
    "df_veinte = df_veinte.append(df_veinte.iloc[[20]])"
   ]
  },
  {
   "cell_type": "code",
   "execution_count": null,
   "metadata": {
    "id": "uzqhgHwILkgt",
    "outputId": "755f6c23-7493-4056-ae5b-478e28678295"
   },
   "outputs": [],
   "source": [
    "df_veinte"
   ]
  },
  {
   "cell_type": "code",
   "execution_count": null,
   "metadata": {
    "id": "n9gLmjoSLkgv",
    "outputId": "4961947a-5e71-4fa7-c5a9-8dfaadf3ea70"
   },
   "outputs": [],
   "source": [
    "df_veinte = df_veinte.drop_duplicates(keep=\"first\", inplace=False)\n",
    "df_veinte"
   ]
  },
  {
   "cell_type": "code",
   "execution_count": null,
   "metadata": {
    "id": "Sv6NiWw5Lkgv"
   },
   "outputs": [],
   "source": [
    "df_veinte = df.head(21).copy()\n",
    "\n",
    "df_veinte = df_veinte.append(df_veinte.iloc[[20]])\n",
    "df_veinte = df_veinte.append(df_veinte.iloc[[20]])\n",
    "df_veinte = df_veinte.append(df_veinte.iloc[[20]])\n",
    "df_veinte = df_veinte.append(df_veinte.iloc[[20]])\n",
    "df_veinte = df_veinte.append(df_veinte.iloc[[20]])\n",
    "df_veinte = df_veinte.append(df_veinte.iloc[[20]])\n",
    "\n",
    "# Si asignas con inplace True, no tienes nada\n",
    "df_veinte = df_veinte.drop_duplicates(keep=\"first\", inplace=True)\n",
    "df_veinte"
   ]
  },
  {
   "cell_type": "code",
   "execution_count": null,
   "metadata": {
    "id": "JH8mRdsQLkgw",
    "outputId": "eacfd12f-4aa5-43ec-ff96-ca77f8756fba"
   },
   "outputs": [],
   "source": [
    "# Si utilizas inplace True, no asignes variable\n",
    "df_veinte = df.head(21).copy()\n",
    "\n",
    "df_veinte = df_veinte.append(df_veinte.iloc[[20]])\n",
    "df_veinte = df_veinte.append(df_veinte.iloc[[20]])\n",
    "df_veinte = df_veinte.append(df_veinte.iloc[[20]])\n",
    "df_veinte = df_veinte.append(df_veinte.iloc[[20]])\n",
    "df_veinte = df_veinte.append(df_veinte.iloc[[20]])\n",
    "df_veinte = df_veinte.append(df_veinte.iloc[[20]])\n",
    "\n",
    "df_veinte.drop_duplicates(keep=\"first\", inplace=True)\n",
    "df_veinte"
   ]
  },
  {
   "cell_type": "code",
   "execution_count": null,
   "metadata": {
    "id": "3RLkoONsLkgw"
   },
   "outputs": [],
   "source": []
  },
  {
   "cell_type": "markdown",
   "metadata": {
    "id": "olS0WuwfLkgw"
   },
   "source": [
    "### RAM usage of a Dataframe"
   ]
  },
  {
   "cell_type": "code",
   "execution_count": null,
   "metadata": {
    "id": "M59LfvudLkgx",
    "outputId": "daa4d63f-f901-4558-d214-5d714be8f6b2"
   },
   "outputs": [],
   "source": [
    "df.memory_usage()"
   ]
  },
  {
   "cell_type": "markdown",
   "metadata": {
    "id": "5eMkfMNqLkgx"
   },
   "source": [
    "### Scatter Matrix"
   ]
  },
  {
   "cell_type": "code",
   "execution_count": null,
   "metadata": {
    "id": "ecHLhN4VLkgx",
    "outputId": "58410f77-e0ee-44df-a1e1-3a7b24d33ad4"
   },
   "outputs": [],
   "source": [
    "from pandas.plotting import scatter_matrix\n",
    "\n",
    "scatter_matrix(df, figsize=(len(df.columns), len(df.columns)))"
   ]
  },
  {
   "cell_type": "markdown",
   "metadata": {
    "id": "Mup2qghlLkgx"
   },
   "source": [
    "### Numeric columns histogramas"
   ]
  },
  {
   "cell_type": "code",
   "execution_count": null,
   "metadata": {
    "id": "g_f-Ty-5Lkgx",
    "outputId": "83e7b40b-17ff-450a-ade5-d36c83365cd8"
   },
   "outputs": [],
   "source": [
    "df.hist(figsize=(len(df.columns), len(df.columns)))"
   ]
  },
  {
   "cell_type": "markdown",
   "metadata": {
    "id": "5kQdjJkDLkgy"
   },
   "source": [
    "### Changing the type of variables.\n",
    "\n",
    "With the `info` function we can obtain the information of the type of variables."
   ]
  },
  {
   "cell_type": "code",
   "execution_count": null,
   "metadata": {
    "id": "hnahM_JmLkgz",
    "outputId": "93e813c3-8d0e-4c39-92c3-e44e1e262f1d"
   },
   "outputs": [],
   "source": [
    "df.info()"
   ]
  },
  {
   "cell_type": "markdown",
   "metadata": {
    "id": "J2qLqsKILkg0"
   },
   "source": [
    "As we can see, all the variables are of type float, except ocean_proximity which is of type object, when the reality is that this is not the case, some of the most important transformations that we can perform in a dataframe on its variables is to change their type , that is, they become categorical or date type, we are going to see how to change the variables of a dataframe to a categorical type.\n",
    "\n",
    "One of the possible ways to change the type of a variable is through `pd.Categorical`"
   ]
  },
  {
   "cell_type": "code",
   "execution_count": null,
   "metadata": {
    "id": "uuf27CGZLkg0"
   },
   "outputs": [],
   "source": [
    "df[\"ocean_proximity\"] = pd.Categorical(df[\"ocean_proximity\"])"
   ]
  },
  {
   "cell_type": "markdown",
   "metadata": {
    "id": "ZEmcrqN2Lkg1"
   },
   "source": [
    "Show again the info of the df"
   ]
  },
  {
   "cell_type": "code",
   "execution_count": null,
   "metadata": {
    "id": "N5MtTg3qLkg2",
    "outputId": "8a3ce304-cbd0-487b-cbfd-d0f9e14fad62"
   },
   "outputs": [],
   "source": [
    "df.info()"
   ]
  },
  {
   "cell_type": "markdown",
   "metadata": {
    "id": "OHF2iKNaLkg2"
   },
   "source": [
    "Now, we can include category type into the summary"
   ]
  },
  {
   "cell_type": "code",
   "execution_count": null,
   "metadata": {
    "id": "lJpOwjOaLkg2",
    "outputId": "de5a4c40-93c3-40fe-fddd-a8ab2d3c1934"
   },
   "outputs": [],
   "source": [
    "df.describe(include=\"category\")"
   ]
  },
  {
   "cell_type": "markdown",
   "metadata": {
    "id": "kPzHCEWULkg3"
   },
   "source": [
    "### GROUPING DATAFRAMES - GROUP BY\n",
    "\n",
    "As in SQL, from Python we can also group our data with the function __<code>groupby</code>__"
   ]
  },
  {
   "cell_type": "code",
   "execution_count": null,
   "metadata": {
    "id": "3QoFFKaDLkg3",
    "outputId": "58dec916-0d3f-47a7-c0c3-0f3cf86bf1c1"
   },
   "outputs": [],
   "source": [
    "df.groupby([\"ocean_proximity\"]).mean()"
   ]
  },
  {
   "cell_type": "code",
   "execution_count": null,
   "metadata": {
    "id": "1nq2swCwLkg4",
    "outputId": "6f3b8011-ce1e-4c00-8305-7f9b139cfc71"
   },
   "outputs": [],
   "source": [
    "df.groupby([\"ocean_proximity\"]).max()"
   ]
  },
  {
   "cell_type": "code",
   "execution_count": null,
   "metadata": {
    "id": "D4oAEb5aLkg4",
    "outputId": "b3da93d3-782f-4c4b-bcb0-8808607aa7a3"
   },
   "outputs": [],
   "source": [
    "df.groupby([\"ocean_proximity\", \"housing_median_age\"]).mean()"
   ]
  },
  {
   "cell_type": "markdown",
   "metadata": {
    "id": "3cd4sH7bLkg5"
   },
   "source": [
    "### DATAFRAME MERGE\n",
    "\n",
    "On some occasions, we will need to join two or more datasets to do this, first of all, as with lists, we can use the function __<code>.append</code>__\n",
    "\n",
    "Due to the dimension of rows and columns of the dataframe, we are going to create two smaller dataframes to be able to correctly instantiate the append function."
   ]
  },
  {
   "cell_type": "code",
   "execution_count": null,
   "metadata": {
    "id": "OxGS2l8gLkg5",
    "outputId": "f901b3b6-2505-4b6a-90a4-5cda18cc7a57"
   },
   "outputs": [],
   "source": [
    "df.columns"
   ]
  },
  {
   "cell_type": "code",
   "execution_count": null,
   "metadata": {
    "id": "3O_T6957Lkg6"
   },
   "outputs": [],
   "source": [
    "first_positions = df[['longitude', 'latitude', 'housing_median_age', 'total_rooms']].head().copy()\n",
    "last_positions = df[['longitude', 'latitude', 'housing_median_age', \n",
    "                     'total_rooms', \"ocean_proximity\"]].tail().copy()"
   ]
  },
  {
   "cell_type": "code",
   "execution_count": null,
   "metadata": {
    "id": "Afff3XnuLkg6",
    "outputId": "0faea9c6-7a1e-4905-fbec-2596b6a70d3a"
   },
   "outputs": [],
   "source": [
    "first_positions.append(last_positions)"
   ]
  },
  {
   "cell_type": "markdown",
   "metadata": {
    "id": "hnebRhdqLkg6"
   },
   "source": [
    "It is important that we take into account the presence of new columns that appear only in one of the dataframes that we are going to concatenate. To exemplify it, we are going to obtain the datasets again, giving one more column to the dataset with the last positions."
   ]
  },
  {
   "cell_type": "code",
   "execution_count": null,
   "metadata": {
    "id": "ckVbLPY7Lkg7"
   },
   "outputs": [],
   "source": []
  },
  {
   "cell_type": "markdown",
   "metadata": {
    "id": "kiVS2gnOLkg7"
   },
   "source": [
    "Second, we can make use of the __<code>.concat</code>__ function. It is very important to know the types of union ( _join_ ) that we can perform when concatenating datasets\n",
    "* __inner__: The union is performed by the common elements of both datasets.\n",
    "* __outer__: The union is performed by all the elements between the datasets\n",
    "    \n",
    "It is recommended to take a look at the documentation to see the different types of join that we can perform https://pandas.pydata.org/pandas-docs/stable/reference/api/pandas.concat.html\n",
    "\n",
    "![FB_IMG_1650437650199.jpg](Images/FB_IMG_1650437650199.jpg)"
   ]
  },
  {
   "cell_type": "code",
   "execution_count": null,
   "metadata": {
    "id": "_Zv9ZYuhLkg8"
   },
   "outputs": [],
   "source": [
    "first_positions = df[['longitude', 'latitude', 'housing_median_age', 'total_rooms']].head().copy()\n",
    "last_positions = df[['longitude', 'latitude', 'housing_median_age', \n",
    "                     'total_rooms', \"ocean_proximity\"]].tail().copy()"
   ]
  },
  {
   "cell_type": "code",
   "execution_count": null,
   "metadata": {
    "id": "zU1Wu3LKLkg8",
    "outputId": "d406de29-3368-4e80-b61f-5c214a292569"
   },
   "outputs": [],
   "source": [
    "concatenacion = pd.concat([first_positions, last_positions], join=\"inner\")\n",
    "concatenacion"
   ]
  },
  {
   "cell_type": "code",
   "execution_count": null,
   "metadata": {
    "id": "gyX3qeBlLkg9",
    "outputId": "14049094-8e75-4ea6-cc6c-9f5d3522f1d4"
   },
   "outputs": [],
   "source": [
    "concatenacion = pd.concat([first_positions, last_positions], join=\"outer\")\n",
    "concatenacion"
   ]
  },
  {
   "cell_type": "code",
   "execution_count": null,
   "metadata": {
    "id": "gBpawS3ELkg9",
    "outputId": "36e3004a-a0a8-40bb-db31-a776caf876af"
   },
   "outputs": [],
   "source": [
    "concatenacion = pd.concat([first_positions, last_positions], join=\"outer\", ignore_index=True)\n",
    "concatenacion"
   ]
  },
  {
   "cell_type": "markdown",
   "metadata": {
    "id": "rVJDi_5ALkg-"
   },
   "source": [
    "Compo we can see in the merge by type _inner_ the column _households_ of the new dataset does not appear since it is not a common element between both datasets. However, we must take into account that if a dataset does not have rows belonging to a column of another dataset, as is the case of the _households_ column, which only appears in the new dataset. Their values will become null.\n",
    "\n",
    "### NEW COLUMNS\n",
    "\n",
    "On many occasions, we will need to add new columns to a dataframe or make changes between the columns of a dataframe to obtain a new one. It is important to know that the operations are performed in a columnar way, that is, if two columns have the same length, we can perform an operation between them without needing to iterate over their rows.\n",
    "\n",
    "To add a new column we can simply create a new variable with the name of the dataframe and the name of the column that we are going to create."
   ]
  },
  {
   "cell_type": "code",
   "execution_count": null,
   "metadata": {
    "id": "8a7LeQ_sLkg-"
   },
   "outputs": [],
   "source": [
    "concatenacion[\"NUEVA_COLUMNAS\"] = np.ones(len(concatenacion))"
   ]
  },
  {
   "cell_type": "code",
   "execution_count": null,
   "metadata": {
    "id": "SK6wNzX0Lkg-",
    "outputId": "094a6cb1-9efb-4917-d98b-52548f9bedab"
   },
   "outputs": [],
   "source": [
    "concatenacion"
   ]
  },
  {
   "cell_type": "code",
   "execution_count": null,
   "metadata": {
    "id": "mXhHGGP3Lkg_"
   },
   "outputs": [],
   "source": [
    "concatenacion[\"COLUMNA_TRANSFORMACION\"] = (concatenacion.latitude - concatenacion.longitude) / 2"
   ]
  },
  {
   "cell_type": "code",
   "execution_count": null,
   "metadata": {
    "id": "SE8plcxELkg_",
    "outputId": "4414d4ea-5cbe-49d1-d510-165851722475"
   },
   "outputs": [],
   "source": [
    "concatenacion"
   ]
  },
  {
   "cell_type": "markdown",
   "metadata": {
    "id": "Q-1ZhokcLkg_"
   },
   "source": [
    "### DELETE ROWS AND COLUMNS\n",
    "\n",
    "On some occasions, when we perform data cleaning or, because they are not the object of our analysis, we will need to delete rows or columns from a dataframe, for both cases the function is the same __<code>.drop</code>__, if we want to perform the deletion for rows we will use the value 0 in the parameter __axis__ and for the columns the value 1."
   ]
  },
  {
   "cell_type": "code",
   "execution_count": null,
   "metadata": {
    "id": "xMJuiQPVLkhA"
   },
   "outputs": [],
   "source": [
    "concatenacion.drop([\"NUEVA_COLUMNAS\"], axis=1, inplace=True)"
   ]
  },
  {
   "cell_type": "code",
   "execution_count": null,
   "metadata": {
    "id": "ANC2W7_CLkhA",
    "outputId": "7fbaa805-2fc0-4e2a-c23d-d4a7cb961ae2"
   },
   "outputs": [],
   "source": [
    "concatenacion.columns"
   ]
  },
  {
   "cell_type": "code",
   "execution_count": null,
   "metadata": {
    "id": "_t3mbkqjLkhA"
   },
   "outputs": [],
   "source": [
    "concatenacion.drop(8, axis=0, inplace=True)"
   ]
  },
  {
   "cell_type": "code",
   "execution_count": null,
   "metadata": {
    "id": "T-u5X0V8LkhB",
    "outputId": "57d5d6b3-1d28-4bae-c16e-f1483abfb01c"
   },
   "outputs": [],
   "source": [
    "concatenacion"
   ]
  },
  {
   "cell_type": "markdown",
   "metadata": {
    "id": "Op_1oAAhLkhB"
   },
   "source": [
    "### NULL MANAGEMENT\n",
    "\n",
    "Finally, as usual when working with dataframes, _missing values_ or simply null values can appear, in Python represented by the string __NaN__, through the __<code>.isnull</code>__ function we can know if an element of a dataframe is null or not, a very common practice is to obtain the number of null values per column in a dataframe and their percentage."
   ]
  },
  {
   "cell_type": "code",
   "execution_count": null,
   "metadata": {
    "id": "Rw578Oe_LkhB",
    "outputId": "4c82157d-4a2a-415a-ad6f-1c97239399ec"
   },
   "outputs": [],
   "source": [
    "concatenacion.isna()"
   ]
  },
  {
   "cell_type": "code",
   "execution_count": null,
   "metadata": {
    "id": "oc9PjdhoLkhC",
    "outputId": "a2e64a87-dca4-4d5f-c63f-b75fd29d715c"
   },
   "outputs": [],
   "source": [
    "concatenacion.isna().sum()"
   ]
  },
  {
   "cell_type": "code",
   "execution_count": null,
   "metadata": {
    "id": "t4MudwDwLkhD",
    "outputId": "9ab192b4-cef8-4a8f-aa9a-0f100d8aea7e"
   },
   "outputs": [],
   "source": [
    "concatenacion.isna().sum() / len(concatenacion) *100"
   ]
  },
  {
   "cell_type": "markdown",
   "metadata": {
    "id": "0rSyKwzmLkhD"
   },
   "source": [
    "If what we want is to replace the null values ​​and not delete them, we will use the function __<code>.fillna</code>__"
   ]
  },
  {
   "cell_type": "code",
   "execution_count": null,
   "metadata": {
    "id": "C0zzv5rwLkhE"
   },
   "outputs": [],
   "source": [
    "concatenacion.ocean_proximity.fillna(\"ISLAND\", inplace=True)"
   ]
  },
  {
   "cell_type": "code",
   "execution_count": null,
   "metadata": {
    "id": "GUJJjOhbLkhE",
    "outputId": "7764420d-47d8-40ed-98fd-ec4a18814e5f"
   },
   "outputs": [],
   "source": [
    "concatenacion"
   ]
  },
  {
   "cell_type": "markdown",
   "metadata": {
    "id": "OecctjhoLkhF"
   },
   "source": [
    "On the contrary, if what we want is to delete the null values ​​of a dataframe we can use the function __<code>.dropna</code>__"
   ]
  },
  {
   "cell_type": "code",
   "execution_count": null,
   "metadata": {
    "id": "B_hIYXsZLkhF"
   },
   "outputs": [],
   "source": [
    "first_positions = df[['longitude', 'latitude', 'housing_median_age', 'total_rooms']].head().copy()\n",
    "last_positions = df[['longitude', 'latitude', 'housing_median_age', \n",
    "                     'total_rooms', \"ocean_proximity\"]].tail().copy()"
   ]
  },
  {
   "cell_type": "code",
   "execution_count": null,
   "metadata": {
    "id": "3aaSXeqCLkhF"
   },
   "outputs": [],
   "source": [
    "nulos = first_positions.append(last_positions)"
   ]
  },
  {
   "cell_type": "code",
   "execution_count": null,
   "metadata": {
    "id": "T8YhPRZrLkhG",
    "outputId": "56e76928-9c75-46e3-a3b1-aa638fda5412"
   },
   "outputs": [],
   "source": [
    "nulos.dropna()"
   ]
  },
  {
   "cell_type": "markdown",
   "metadata": {
    "id": "UgNIcq_xLkhH"
   },
   "source": [
    "### Writing dataframe as csv\n",
    "\n",
    "Just as we can load data from different data sources and process it as a data frame, we can also later write a data frame in one of the multiple sources that pandas accepts to export files, this time, we will dump the information of a data frame as a .csv , for this, we have the <code>**to_csv**</code> function. As parameters we will use the name of the file, the __sep__ argument to use one type of separator or another and, if we do not want the dataframe index to be displayed, we will use the __index__ argument with value _none_"
   ]
  },
  {
   "cell_type": "code",
   "execution_count": null,
   "metadata": {
    "id": "h4slf0TjLkhI"
   },
   "outputs": [],
   "source": [
    "nulos.to_csv(\"CR_Files/Filtrado_nulos.csv\", sep=\",\")"
   ]
  },
  {
   "cell_type": "code",
   "execution_count": null,
   "metadata": {
    "id": "-pQbR5qlLkhJ"
   },
   "outputs": [],
   "source": [
    "nulos.to_csv(\"CR_Files/Filtrado_nulos_index.csv\", index=None, sep=\",\")"
   ]
  }
 ],
 "metadata": {
  "colab": {
   "provenance": []
  },
  "kernelspec": {
   "display_name": "Python 3 (ipykernel)",
   "language": "python",
   "name": "python3"
  },
  "language_info": {
   "codemirror_mode": {
    "name": "ipython",
    "version": 3
   },
   "file_extension": ".py",
   "mimetype": "text/x-python",
   "name": "python",
   "nbconvert_exporter": "python",
   "pygments_lexer": "ipython3",
   "version": "3.9.12"
  },
  "toc": {
   "base_numbering": 1,
   "nav_menu": {},
   "number_sections": true,
   "sideBar": true,
   "skip_h1_title": false,
   "title_cell": "Table of Contents",
   "title_sidebar": "Contents",
   "toc_cell": false,
   "toc_position": {},
   "toc_section_display": true,
   "toc_window_display": false
  }
 },
 "nbformat": 4,
 "nbformat_minor": 1
}
